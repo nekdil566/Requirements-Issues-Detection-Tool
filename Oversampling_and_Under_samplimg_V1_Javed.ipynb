{
 "cells": [
  {
   "cell_type": "code",
   "execution_count": 1,
   "metadata": {
    "id": "6NMCoKNwMeAH"
   },
   "outputs": [],
   "source": [
    "import os\n",
    "import time\n",
    "import re\n",
    "import numpy as np\n",
    "import pandas as pd\n",
    "import matplotlib.pyplot as plt\n",
    "from tqdm import tqdm\n",
    "\n",
    "from sklearn.feature_extraction.text import CountVectorizer, TfidfVectorizer\n",
    "from sklearn import preprocessing\n",
    "from sklearn.model_selection import train_test_split, StratifiedKFold, KFold\n",
    "\n",
    "from sklearn.naive_bayes import MultinomialNB\n",
    "from sklearn.linear_model import SGDClassifier\n",
    "from sklearn.linear_model import LogisticRegression\n",
    "from sklearn.svm import LinearSVC\n",
    "from sklearn.neighbors import KNeighborsClassifier\n",
    "from sklearn.ensemble import RandomForestClassifier, GradientBoostingClassifier, VotingClassifier, AdaBoostClassifier\n",
    "from sklearn.neural_network import MLPClassifier\n",
    "\n",
    "from sklearn.metrics import classification_report\n",
    "from sklearn.metrics import confusion_matrix\n",
    "from sklearn.metrics import plot_confusion_matrix\n",
    "#from yellowbrick.classifier import ConfusionMatrix\n",
    "from sklearn.metrics import precision_recall_fscore_support as score"
   ]
  },
  {
   "cell_type": "code",
   "execution_count": 2,
   "metadata": {
    "id": "pqTEsiJdhcf-"
   },
   "outputs": [],
   "source": [
    "from sklearn.metrics import accuracy_score, f1_score, confusion_matrix, classification_report\n",
    "from sklearn.metrics import roc_curve, auc, roc_auc_score, precision_recall_curve, average_precision_score, precision_score, recall_score\n",
    "from sklearn.metrics import plot_roc_curve"
   ]
  },
  {
   "cell_type": "code",
   "execution_count": 3,
   "metadata": {
    "id": "cz0nhczn4X2c"
   },
   "outputs": [],
   "source": [
    "import warnings\n",
    "warnings.filterwarnings('ignore')"
   ]
  },
  {
   "cell_type": "code",
   "execution_count": 4,
   "metadata": {
    "colab": {
     "base_uri": "https://localhost:8080/"
    },
    "id": "NAwhlE-y4gQa",
    "outputId": "371b2d1f-b5f1-494e-e8d2-0627dbe52019"
   },
   "outputs": [],
   "source": [
    "#from google.colab import drive\n",
    "#drive.mount('/content/gdrive')"
   ]
  },
  {
   "cell_type": "code",
   "execution_count": 5,
   "metadata": {
    "colab": {
     "base_uri": "https://localhost:8080/"
    },
    "id": "DwiS9cGq41Z9",
    "outputId": "1a4417e4-a4a0-49b4-de8f-9a0d09de45a9",
    "scrolled": true
   },
   "outputs": [
    {
     "name": "stdout",
     "output_type": "stream",
     "text": [
      "  My_Labels                                       Base_Reviews\n",
      "0   sadness  I am crying . Bought and paid the app.and don'...\n",
      "1     anger  downloaded and deleted because I faces problem...\n",
      "2   sadness  From some time the app shows invalid file when...\n",
      "3   disgust  You can only make calls to users of this app.I...\n",
      "4   disgust  I couldn't even sign up it just exited out and...\n",
      "212825\n"
     ]
    },
    {
     "data": {
      "text/html": [
       "<div>\n",
       "<style scoped>\n",
       "    .dataframe tbody tr th:only-of-type {\n",
       "        vertical-align: middle;\n",
       "    }\n",
       "\n",
       "    .dataframe tbody tr th {\n",
       "        vertical-align: top;\n",
       "    }\n",
       "\n",
       "    .dataframe thead th {\n",
       "        text-align: right;\n",
       "    }\n",
       "</style>\n",
       "<table border=\"1\" class=\"dataframe\">\n",
       "  <thead>\n",
       "    <tr style=\"text-align: right;\">\n",
       "      <th></th>\n",
       "      <th>Base_Reviews</th>\n",
       "    </tr>\n",
       "    <tr>\n",
       "      <th>My_Labels</th>\n",
       "      <th></th>\n",
       "    </tr>\n",
       "  </thead>\n",
       "  <tbody>\n",
       "    <tr>\n",
       "      <td>anger</td>\n",
       "      <td>1562</td>\n",
       "    </tr>\n",
       "    <tr>\n",
       "      <td>disgust</td>\n",
       "      <td>785</td>\n",
       "    </tr>\n",
       "    <tr>\n",
       "      <td>fear</td>\n",
       "      <td>2729</td>\n",
       "    </tr>\n",
       "    <tr>\n",
       "      <td>sadness</td>\n",
       "      <td>1923</td>\n",
       "    </tr>\n",
       "  </tbody>\n",
       "</table>\n",
       "</div>"
      ],
      "text/plain": [
       "           Base_Reviews\n",
       "My_Labels              \n",
       "anger              1562\n",
       "disgust             785\n",
       "fear               2729\n",
       "sadness            1923"
      ]
     },
     "execution_count": 5,
     "metadata": {},
     "output_type": "execute_result"
    }
   ],
   "source": [
    "df = pd.read_csv('datasetforclassification.csv', engine='python',usecols=['Base_Reviews','My_Labels'])\n",
    "df = df[pd.notnull(df['My_Labels'])]\n",
    "print(df.head())\n",
    "print(df['Base_Reviews'].astype(str).apply(lambda x: len(x.split(' '))).sum())\n",
    "df.groupby('My_Labels').count()"
   ]
  },
  {
   "cell_type": "code",
   "execution_count": 57,
   "metadata": {
    "colab": {
     "base_uri": "https://localhost:8080/",
     "height": 252
    },
    "id": "umt3UXau5BxO",
    "outputId": "6a698233-7d92-497e-d99a-921da22f4cc8"
   },
   "outputs": [
    {
     "data": {
      "image/png": "[encoded data removed]",
      "text/plain": [
       "<Figure size 432x288 with 1 Axes>"
      ]
     },
     "metadata": {},
     "output_type": "display_data"
    }
   ],
   "source": [
    "labels  = My_Labels = 'anger','disgust','fear','sadness'\n",
    "sizes =[1562,785,2729,1924]\n",
    "explode =(0.1,0.1,0.1,0.2) \n",
    "fig1, ax1 = plt.subplots()\n",
    "ax1.pie(sizes, explode=explode, labels =labels , autopct='%1.1f%%',\n",
    "        shadow=True, startangle=90)\n",
    "ax1.axis('equal')  # Equal aspect ratio ensures that pie is drawn as a circle.\n",
    "\n",
    "plt.show()"
   ]
  },
  {
   "cell_type": "markdown",
   "metadata": {
    "id": "cVmU1Znotx5m"
   },
   "source": [
    "## clean_text\n",
    "clean the text by removing special characters, punctuations, etc."
   ]
  },
  {
   "cell_type": "code",
   "execution_count": 7,
   "metadata": {
    "colab": {
     "base_uri": "https://localhost:8080/"
    },
    "id": "pHgzyWOt5F-X",
    "outputId": "a342bf25-f274-44e8-b2fa-aef3464e4f81"
   },
   "outputs": [
    {
     "name": "stderr",
     "output_type": "stream",
     "text": [
      "[nltk_data] Downloading package stopwords to\n",
      "[nltk_data]     C:\\Users\\Nekdil\\AppData\\Roaming\\nltk_data...\n",
      "[nltk_data]   Package stopwords is already up-to-date!\n"
     ]
    }
   ],
   "source": [
    "# Text Pre-processing (text cleaning techniques)\n",
    "from bs4 import BeautifulSoup\n",
    "import re\n",
    "import nltk\n",
    "from nltk.corpus import stopwords\n",
    "nltk.download('stopwords')\n",
    "REPLACE_BY_SPACE_RE = re.compile('[/(){}\\[\\]\\|@,;]')\n",
    "BAD_SYMBOLS_RE = re.compile('[^0-9a-z #+_]')\n",
    "STOPWORDS = set(stopwords.words('english'))\n",
    "def clean_text(text):\n",
    "    \"\"\"\n",
    "        text: a string\n",
    "        \n",
    "        return: modified initial string\n",
    "    \"\"\"\n",
    "    text = BeautifulSoup(text, \"lxml\").text # HTML decoding\n",
    "    text = text.lower() # lowercase text\n",
    "    text = REPLACE_BY_SPACE_RE.sub(' ', text) # replace REPLACE_BY_SPACE_RE symbols by space in text\n",
    "    text = BAD_SYMBOLS_RE.sub('', text) # delete symbols which are in BAD_SYMBOLS_RE from text\n",
    "    text = ' '.join(word for word in text.split() if word not in STOPWORDS) # delete stopwors from text\n",
    "    return text"
   ]
  },
  {
   "cell_type": "code",
   "execution_count": 8,
   "metadata": {
    "colab": {
     "base_uri": "https://localhost:8080/"
    },
    "id": "BtQsiQgm5Kc-",
    "outputId": "60cef5e3-c4f7-4bd4-e677-652cba0f8bbb"
   },
   "outputs": [
    {
     "name": "stdout",
     "output_type": "stream",
     "text": [
      "downloaded and deleted because I faces problem in the dificult  layout. And also I got problem like this \" invalid file when trying to open\". Can you please fix this. Bothering me bro\n",
      "My_Labels: anger\n"
     ]
    }
   ],
   "source": [
    "def print_plot(index):\n",
    "    example = df[df.index == index][['Base_Reviews', 'My_Labels']].values[0]\n",
    "    if len(example) > 0:\n",
    "        print(example[0])\n",
    "        print('My_Labels:', example[1])\n",
    "print_plot(1)"
   ]
  },
  {
   "cell_type": "code",
   "execution_count": 9,
   "metadata": {
    "colab": {
     "base_uri": "https://localhost:8080/"
    },
    "id": "1JV8KHfS5Oko",
    "outputId": "e323542e-31f3-428a-a94e-9575b5060993"
   },
   "outputs": [
    {
     "name": "stdout",
     "output_type": "stream",
     "text": [
      "downloaded deleted faces problem dificult layout also got problem like invalid file trying open please fix bothering bro\n",
      "My_Labels: anger\n"
     ]
    }
   ],
   "source": [
    "# We want to show a look a Clean text and lables as you wanna.(After text_Preprocessing)\n",
    "df['Base_Reviews'] = df['Base_Reviews'].astype(str).apply(clean_text)\n",
    "print_plot(1) # 4567"
   ]
  },
  {
   "cell_type": "code",
   "execution_count": 10,
   "metadata": {
    "id": "lkWKSBTJ5UIv"
   },
   "outputs": [],
   "source": [
    "def clean_text(text):\n",
    "    \"\"\" clean the text by removing special characters, punctuations, etc. \"\"\"\n",
    "    text = text.lower()\n",
    "    remove_xx_seq  = re.compile('xx+')\n",
    "    replace_by_space = re.compile('[/(){}\\[\\]\\|@,;]')\n",
    "    remove_special_characters = re.compile('[^0-9a-z +]')\n",
    "    remove_extra_space = re.compile('[^A-Za-z0-9]+')\n",
    "    remove_numbers = re.compile('[0-9]+')\n",
    "    text = re.sub(remove_xx_seq, ' ', text)\n",
    "    text = re.sub(replace_by_space, ' ', text)\n",
    "    text = re.sub(remove_special_characters, ' ', text)\n",
    "    text = re.sub(remove_numbers, ' ', text)\n",
    "    text = re.sub(remove_extra_space, ' ', text)\n",
    "    return text.strip()"
   ]
  },
  {
   "cell_type": "markdown",
   "metadata": {
    "id": "__0fkhFpt61L"
   },
   "source": [
    "## preprocess_corpus\n",
    "Preprocess the entire corpus including cleaning the text documents and return the updated dataframe."
   ]
  },
  {
   "cell_type": "code",
   "execution_count": 11,
   "metadata": {
    "id": "ypLZijDc5QM-"
   },
   "outputs": [],
   "source": [
    "def preprocess_corpus(df, column='text'):\n",
    "    \"\"\" Preprocess the entire corpus including cleaning the text documents and return the updated dataframe. \"\"\"\n",
    "    df[column] = df[column].apply(clean_text)\n",
    "    return df"
   ]
  },
  {
   "cell_type": "markdown",
   "metadata": {
    "id": "njjRI8Kbt-5s"
   },
   "source": [
    "## Encode_labels\n",
    "Encode the class labels into a numbers."
   ]
  },
  {
   "cell_type": "code",
   "execution_count": 12,
   "metadata": {
    "id": "1GH_msIK5yiy"
   },
   "outputs": [],
   "source": [
    "def encode_labels(labels):\n",
    "    \"\"\" Encode the class labels into a numbers. \"\"\"\n",
    "    label_encoder = preprocessing.LabelEncoder()\n",
    "    label_encoder.fit(labels)\n",
    "    #label_encoder.get_vocabulary()\n",
    "    return label_encoder\n"
   ]
  },
  {
   "cell_type": "markdown",
   "metadata": {
    "id": "2BZPQ1h1uFnK"
   },
   "source": [
    "## Compute_tfidf\n",
    " Calculate the tfidf features for all the text documents and return a (documents, fatures) matrix. "
   ]
  },
  {
   "cell_type": "code",
   "execution_count": 13,
   "metadata": {
    "id": "AC_faNGn54uO"
   },
   "outputs": [],
   "source": [
    "def compute_tfidf(corpus, stop_words='english', ngram_range=(1, 1), max_features=None):\n",
    "    \"\"\" Calculate the tfidf features for all the text documents and return a (documents, fatures) matrix. \"\"\"\n",
    "    vectorizer = TfidfVectorizer(input='content', stop_words=stop_words, ngram_range=ngram_range, min_df=3, max_df=0.9, max_features=max_features)\n",
    "    print('Computing tfidf features...', end='')\n",
    "    X = vectorizer.fit_transform(corpus)\n",
    "    print('done!')\n",
    "    return X, vectorizer"
   ]
  },
  {
   "cell_type": "markdown",
   "metadata": {
    "id": "osRNFWZ1mjlL"
   },
   "source": [
    "## Count Vectorizer"
   ]
  },
  {
   "cell_type": "code",
   "execution_count": 14,
   "metadata": {
    "id": "714h3G-fmfnQ"
   },
   "outputs": [],
   "source": [
    "# def compute_count(corpus, stop_words='english', ngram_range=(1, 1), max_features=None):\n",
    "#     \"\"\" Calculate the Count Vectorizer features for all the text documents and return a (documents, fatures) matrix. \"\"\"\n",
    "#     vectorizer = CountVectorizer(input='content', stop_words=stop_words, ngram_range=ngram_range, min_df=3, max_df=0.9, max_features=max_features)\n",
    "#     print('Computing tfidf features...', end='')\n",
    "#     X = vectorizer.fit_transform(corpus)\n",
    "#     print('done!')\n",
    "#     return X, vectorizer"
   ]
  },
  {
   "cell_type": "markdown",
   "metadata": {
    "id": "WhhV7AyYuIIG"
   },
   "source": [
    "## Train_test_model\n",
    "Train and test the model using the training and test data sets. Return the predictions, accuracy and metric reports."
   ]
  },
  {
   "cell_type": "code",
   "execution_count": 15,
   "metadata": {
    "id": "dJdYi6bA6RCZ"
   },
   "outputs": [],
   "source": [
    "from sklearn.metrics import accuracy_score\n",
    "from sklearn.metrics import precision_recall_fscore_support\n",
    "alg_accuracy= []\n",
    "alg_p_r_f_score =[]\n",
    "\n",
    "def train_test_model(model, X_train, X_test, y_train, y_test,labels):\n",
    "    \"\"\" Train and test the model using the training and test data sets. Return the predictions, accuracy and metric reports. \"\"\"\n",
    "    print('Start training...', end='')\n",
    "    model.fit(X_train, y_train)\n",
    "    print('done!')\n",
    "    print('Start testing...', end='')\n",
    "    predictions = model.predict(X_test)\n",
    "    accuracy = model.score(X_test, y_test)\n",
    "    ####javed####\n",
    "    alg_accuracy= accuracy_score(predictions, y_test)\n",
    "    alg_p_r_f_score = precision_recall_fscore_support(y_test,predictions, average=None)\n",
    "     ####javed####\n",
    "    f1score = f1_score(y_test, predictions, average='weighted', pos_label=4)\n",
    "    confusionMatrix = confusion_matrix(y_test, predictions)\n",
    "    recall = recall_score(y_test, predictions, average='weighted', pos_label=4)\n",
    "    precision = precision_score(y_test, predictions, average='weighted', pos_label=4)\n",
    "    metrics_report = classification_report(y_test, predictions, target_names=labels)\n",
    "#    precision, recall, fscore, train_support = score(y_test, predictions, average='weighted')\n",
    "    print('done!')\n",
    "    return predictions, accuracy, precision, recall, f1score, alg_accuracy, alg_p_r_f_score\n",
    "    #return  predictions, accuracy, tpr, fpr"
   ]
  },
  {
   "cell_type": "code",
   "execution_count": 16,
   "metadata": {
    "colab": {
     "base_uri": "https://localhost:8080/"
    },
    "id": "q1HqdXfE6YMq",
    "outputId": "af4faede-e198-4ee0-98ce-6a92ca162cb3",
    "scrolled": true
   },
   "outputs": [
    {
     "name": "stdout",
     "output_type": "stream",
     "text": [
      "Number of categories:  ['sadness' 'anger' 'disgust' 'fear']\n",
      "\n"
     ]
    },
    {
     "data": {
      "text/plain": [
       "<matplotlib.axes._subplots.AxesSubplot at 0x1e32302c588>"
      ]
     },
     "execution_count": 16,
     "metadata": {},
     "output_type": "execute_result"
    },
    {
     "data": {
      "image/png": "[encoded data removed]",
      "text/plain": [
       "<Figure size 432x288 with 1 Axes>"
      ]
     },
     "metadata": {
      "needs_background": "light"
     },
     "output_type": "display_data"
    }
   ],
   "source": [
    "categories = df.My_Labels.unique()\n",
    "print('Number of categories: ', categories)\n",
    "print()\n",
    "df.My_Labels.value_counts().plot(kind='bar', title='Categories vs Number of reviews', cmap='plasma')"
   ]
  },
  {
   "cell_type": "markdown",
   "metadata": {
    "id": "i6INwkwgVWBY"
   },
   "source": [
    "# Setting for model TFIDF Features"
   ]
  },
  {
   "cell_type": "code",
   "execution_count": 17,
   "metadata": {
    "colab": {
     "base_uri": "https://localhost:8080/"
    },
    "id": "xkJ8WAm46Zpu",
    "outputId": "ece0ccb6-9a97-4c86-f959-e670d282a5cb"
   },
   "outputs": [
    {
     "name": "stdout",
     "output_type": "stream",
     "text": [
      "Computing tfidf features...done!\n",
      "  (0, 1062)\t0.1384327216037618\n",
      "  (0, 2609)\t0.18087186210068545\n",
      "  (0, 1365)\t0.22098316373222532\n",
      "  (0, 1653)\t0.24487939556752852\n",
      "  (0, 2774)\t0.23612225096464062\n",
      "  (0, 2044)\t0.18932629536637202\n",
      "  (0, 3656)\t0.17263677394369037\n",
      "  (0, 2440)\t0.16245831283326997\n",
      "  (0, 2354)\t0.14878206843319527\n",
      "  (0, 3548)\t0.17300892440676294\n",
      "  (0, 1338)\t0.18629512502217763\n",
      "  (0, 1796)\t0.2050806995949849\n",
      "  (0, 3067)\t0.22370897448137317\n",
      "  (0, 290)\t0.17609890503929834\n",
      "  (0, 3478)\t0.11920490400349872\n",
      "  (0, 12)\t0.29205585427002606\n",
      "  (0, 1607)\t0.2059576375241476\n",
      "  (0, 1879)\t0.13374732675852646\n",
      "  (0, 3821)\t0.2168513020393545\n",
      "  (0, 1069)\t0.09951008525780773\n",
      "  (0, 294)\t0.3144770470793188\n",
      "  (0, 2408)\t0.21220915940755944\n",
      "  (0, 507)\t0.23329539348116746\n",
      "  (0, 888)\t0.2579610642189091\n",
      "  (1, 522)\t0.2648510970622822\n",
      "  :\t:\n",
      "  (6995, 1448)\t0.47801159657314796\n",
      "  (6996, 1506)\t0.3404622117689185\n",
      "  (6996, 2567)\t0.27068589749466687\n",
      "  (6996, 2098)\t0.31927074405140515\n",
      "  (6996, 617)\t0.2768437989681537\n",
      "  (6996, 3013)\t0.32529139159537906\n",
      "  (6996, 3641)\t0.2779571365468649\n",
      "  (6996, 1168)\t0.2746963511617959\n",
      "  (6996, 3007)\t0.2746963511617959\n",
      "  (6996, 3202)\t0.3361648777212749\n",
      "  (6996, 3156)\t0.25403223309360806\n",
      "  (6996, 2716)\t0.1830861861350733\n",
      "  (6996, 2922)\t0.24189779188525143\n",
      "  (6996, 2069)\t0.1693316467696843\n",
      "  (6997, 2925)\t0.5840845867758967\n",
      "  (6997, 779)\t0.4044452753459865\n",
      "  (6997, 3724)\t0.47494315178664837\n",
      "  (6997, 2510)\t0.27189473635019146\n",
      "  (6997, 1600)\t0.3705947027072445\n",
      "  (6997, 3478)\t0.24172512484740352\n",
      "  (6998, 2433)\t0.4062102822444976\n",
      "  (6998, 2722)\t0.3929182595798135\n",
      "  (6998, 1977)\t0.614671401282933\n",
      "  (6998, 1301)\t0.4890441777215967\n",
      "  (6998, 1069)\t0.25223661226931127\n",
      "TfidfVectorizer(max_df=0.9, min_df=3, stop_words='english')\n",
      "[3 0 3 ... 2 2 1]\n"
     ]
    }
   ],
   "source": [
    "# Create tfidf features from the text\n",
    "stop_words    = 'english'\n",
    "ngram_range   = (1, 1)\n",
    "max_features  = None\n",
    "X, vectorizer = compute_tfidf(df['Base_Reviews'].apply(lambda x: np.str_(x)), stop_words, ngram_range, max_features)\n",
    "#X, vectorizer = compute_count(df['Base_Reviews'].apply(lambda x: np.str_(x)), stop_words, ngram_range, max_features)\n",
    "\n",
    "# Encode the labels\n",
    "labels = df.My_Labels.unique()\n",
    "label_encoder = encode_labels(labels)\n",
    "y = label_encoder.transform(df.My_Labels)\n",
    "print(X)\n",
    "print(vectorizer)\n",
    "print(y)"
   ]
  },
  {
   "cell_type": "markdown",
   "metadata": {
    "id": "y8neizT-G8iK"
   },
   "source": [
    "## Import Oversampling and Under-sampling methods"
   ]
  },
  {
   "cell_type": "code",
   "execution_count": 18,
   "metadata": {
    "id": "2rFwPzH_9qUN"
   },
   "outputs": [
    {
     "name": "stdout",
     "output_type": "stream",
     "text": [
      "Requirement already satisfied: imbalanced-learn in d:\\anaconda files\\lib\\site-packages (0.8.1)\n",
      "Requirement already satisfied: numpy>=1.13.3 in d:\\anaconda files\\lib\\site-packages (from imbalanced-learn) (1.16.5)\n",
      "Requirement already satisfied: scikit-learn>=0.24 in d:\\anaconda files\\lib\\site-packages (from imbalanced-learn) (1.0)\n",
      "Requirement already satisfied: scipy>=0.19.1 in d:\\anaconda files\\lib\\site-packages (from imbalanced-learn) (1.3.1)\n",
      "Requirement already satisfied: joblib>=0.11 in d:\\anaconda files\\lib\\site-packages (from imbalanced-learn) (0.13.2)\n",
      "Requirement already satisfied: threadpoolctl>=2.0.0 in d:\\anaconda files\\lib\\site-packages (from scikit-learn>=0.24->imbalanced-learn) (3.0.0)\n"
     ]
    }
   ],
   "source": [
    "!pip install imbalanced-learn\n",
    "from imblearn.over_sampling import SMOTE\n",
    "from imblearn.under_sampling import RandomUnderSampler\n",
    "from sklearn.model_selection import cross_val_score\n",
    "sm = SMOTE()\n",
    "rus = RandomUnderSampler(random_state=42, replacement=True)# fit predictor and target variable"
   ]
  },
  {
   "cell_type": "code",
   "execution_count": 19,
   "metadata": {
    "id": "p7XU66SFIqfU"
   },
   "outputs": [],
   "source": [
    "skfold = StratifiedKFold(n_splits=10, shuffle=True, random_state=123)"
   ]
  },
  {
   "cell_type": "markdown",
   "metadata": {
    "id": "EUlvHOE29um1"
   },
   "source": [
    "# Oversampling"
   ]
  },
  {
   "cell_type": "markdown",
   "metadata": {
    "id": "hIPaa_S8BsY1"
   },
   "source": [
    "### MultinomialNB"
   ]
  },
  {
   "cell_type": "code",
   "execution_count": 20,
   "metadata": {
    "colab": {
     "base_uri": "https://localhost:8080/"
    },
    "id": "myGPuiPJRu8D",
    "outputId": "71921084-d93f-48de-9c53-4707e4a2a94b",
    "scrolled": true
   },
   "outputs": [
    {
     "name": "stdout",
     "output_type": "stream",
     "text": [
      "Start training...done!\n",
      "Start testing...done!\n",
      "Start training...done!\n",
      "Start testing...done!\n",
      "Start training...done!\n",
      "Start testing...done!\n",
      "Start training...done!\n",
      "Start testing...done!\n",
      "Start training...done!\n",
      "Start testing...done!\n",
      "Start training...done!\n",
      "Start testing...done!\n",
      "Start training...done!\n",
      "Start testing...done!\n",
      "Start training...done!\n",
      "Start testing...done!\n",
      "Start training...done!\n",
      "Start testing...done!\n",
      "Start training...done!\n",
      "Start testing...done!\n",
      "Total time: 3.99s\n",
      "mean accuracy: 0.78 %\n",
      "mean f1 socre: 0.79 %\n",
      "mean precision: 0.80 %\n",
      "mean recall: 0.78 %\n",
      "the average accuracy of MNB is 0.7846834253014511\n",
      "the presion, recall, f are [[  0.75084086   0.65699681   0.88296023   0.77241014]\n",
      " [  0.79706435   0.89298929   0.73285795   0.80391839]\n",
      " [  0.77289799   0.75651627   0.80070713   0.78712293]\n",
      " [156.2         78.5        272.9        192.3       ]]\n",
      "0.9295439027229078\n",
      "[(0, 2457), (1, 2457), (2, 2457), (3, 2457)]\n"
     ]
    },
    {
     "data": {
      "text/plain": [
       "<sklearn.metrics._plot.confusion_matrix.ConfusionMatrixDisplay at 0x1e3233a3ac8>"
      ]
     },
     "execution_count": 20,
     "metadata": {},
     "output_type": "execute_result"
    },
    {
     "data": {
      "image/png": "[encoded data removed]",
      "text/plain": [
       "<Figure size 432x288 with 2 Axes>"
      ]
     },
     "metadata": {
      "needs_background": "light"
     },
     "output_type": "display_data"
    }
   ],
   "source": [
    "from scipy import interp\n",
    "nb_model = MultinomialNB()\n",
    "\n",
    "accs = []\n",
    "reports = []\n",
    "f1 = []\n",
    "pr = []\n",
    "re = []\n",
    "pe = []\n",
    "#javed#\n",
    "accuracy_ = []\n",
    "P_r_f = []\n",
    "\n",
    "mean_accuracy= []\n",
    "mean_p_r_f =[]\n",
    "##javed###\n",
    "roc_auc_ = []\n",
    "roc_auc_one = []\n",
    "roc_auc_two = []\n",
    "roc_auc_three = []\n",
    "#n1 roc_auc_four = []\n",
    "\n",
    "tprs_zero_nb = []\n",
    "tprs_one_nb = []\n",
    "tprs_two_nb = []\n",
    "tprs_three_nb = []\n",
    "#n1 tprs_four_nb = []\n",
    "\n",
    "mean_fpr = np.linspace(0,1,100)\n",
    "\n",
    "st_time = time.time()\n",
    "for train_index, test_index in skfold.split(X,y):\n",
    "    X_train, X_test = X[train_index], X[test_index]\n",
    "    y_train, y_test = y[train_index], y[test_index]\n",
    "    # Oversample\n",
    "    X_train_res, y_train_res = sm.fit_resample(X_train, y_train)\n",
    "    predictions, accuracy, precision, recall, f1socre,alg_accuracy, alg_p_r_f_score  = train_test_model(nb_model, X_train_res, X_test, y_train_res, y_test, labels)\n",
    "    #print(\"the accuracy is\",alg_accuracy)\n",
    "    #break\n",
    "   # fpr_zero, tpr_zero, _ = roc_curve(y_test, nb_model.predict_proba(X_test)[:,1], pos_label=0)\n",
    "    fpr_one, tpr_one, __ = roc_curve(y_test, nb_model.predict_proba(X_test)[:,3], pos_label=3)\n",
    "    #fpr_two, tpr_two, ___ = roc_curve(y_test, nb_model.predict_proba(X_test)[:,1], pos_label=2)\n",
    "    #fpr_three, tpr_three, ____ = roc_curve(y_test, nb_model.predict_proba(X_test)[:,1], pos_label=3)\n",
    "    #fpr_four, tpr_four, _____ = roc_curve(y_test, nb_model.predict_proba(X_test)[:,1], pos_label=4)\n",
    "    \n",
    "    tprs_one_nb.append(interp(mean_fpr, fpr_one, tpr_one))\n",
    "    \n",
    "    #roc_auc_one = (auc(fpr_zero, tpr_zero))\n",
    "    roc_auc_one = (auc(fpr_one, tpr_one))\n",
    "    #roc_auc_two = (auc(fpr_two, tpr_two))\n",
    "    #roc_auc_three = (auc(fpr_three, tpr_three))\n",
    "    #roc_auc_four = (auc(fpr_four, tpr_four))\n",
    "    \n",
    "    #javed###      \n",
    "    accuracy_.append(alg_accuracy)\n",
    "    P_r_f.append(alg_p_r_f_score)\n",
    "    #### jave ####\n",
    "\n",
    "    pe.append(predictions)\n",
    "    accs.append(accuracy)\n",
    "    f1.append(f1socre)\n",
    "    pr.append(precision)\n",
    "    re.append(recall)\n",
    "      \n",
    "en_time = time.time()\n",
    "#print('mean predictions: {:.2f} %'.format(sum(pe) / len(pe) ))\n",
    "print('Total time: {:.2f}s'.format(en_time-st_time))   \n",
    "print('mean accuracy: {:.2f} %'.format(np.mean(accs)))\n",
    "print('mean f1 socre: {:.2f} %'.format(np.mean(f1)))\n",
    "print('mean precision: {:.2f} %'.format(np.mean(pr)))\n",
    "print('mean recall: {:.2f} %'.format(np.mean(re)))\n",
    "\n",
    "#roc_zero = sum(roc_auc_) / len(roc_auc_)\n",
    "#print(\"\\nROC across folds for zero: \", roc_zero)\n",
    "\n",
    "#roc_one = sum(roc_auc_one) / len(roc_auc_one)\n",
    "#print(\"\\nROC across folds for one: \", roc_one)\n",
    "\n",
    "#roc_two = sum(roc_auc_two) / len(roc_auc_two)\n",
    "#print(\"\\nROC across folds for two: \", roc_two)\n",
    "\n",
    "#roc_three = sum(roc_auc_three) / len(roc_auc_three)\n",
    "#print(\"\\nROC across folds for three: \", roc_three)\n",
    "\n",
    "#roc_four = sum(roc_auc_four) / len(roc_auc_four)\n",
    "#print(\"\\nROC across folds for four: \", roc_four)\n",
    "\n",
    "mean_tpr = np.mean(tprs_one_nb, axis=0)\n",
    "mean_auc = auc(mean_fpr, mean_tpr)\n",
    "\n",
    "#### jave ####\n",
    "mean_accuracy= np.mean(accuracy_, axis=0)\n",
    "print(\"the average accuracy of MNB is\",mean_accuracy)\n",
    "    \n",
    "mean_p_r_f=np.mean(P_r_f, axis=0)\n",
    "print(\"the presion, recall, f are\", mean_p_r_f)\n",
    "#### jave ####\n",
    "\n",
    "#print(mean_tpr)\n",
    "#print(mean_fpr)\n",
    "print(mean_auc)\n",
    "#print(metrics_report)\n",
    "unique, counts = np.unique(y_train_res, return_counts=True)\n",
    "print(list(zip(unique, counts)))\n",
    "plot_confusion_matrix(nb_model, X_test, y_test, display_labels=labels, xticks_rotation='vertical', cmap=\"BuPu\")"
   ]
  },
  {
   "cell_type": "code",
   "execution_count": 21,
   "metadata": {
    "colab": {
     "base_uri": "https://localhost:8080/"
    },
    "id": "MAsT5sG0Wp88",
    "outputId": "5c9e4372-7b38-4764-bd77-574879bf427e"
   },
   "outputs": [
    {
     "data": {
      "image/png": "[encoded data removed]",
      "text/plain": [
       "<Figure size 432x288 with 1 Axes>"
      ]
     },
     "metadata": {
      "needs_background": "light"
     },
     "output_type": "display_data"
    }
   ],
   "source": [
    "plt.title('Receiver Operating Characteristic')\n",
    "#plt.plot(fpr_zero, tpr_zero, 'b', color='green', label= \"ROC for 0 label =\" +str(roc_zero))\n",
    "plt.plot(mean_fpr, mean_tpr, 'b', label= \"ROC for 1 label =\" +str(mean_auc))\n",
    "#plt.plot(fpr_two, tpr_two, 'b', color='purple',  label= \"ROC for 2 label =\" +str(roc_two))\n",
    "#plt.plot(fpr_three, tpr_three, 'b', color='red',  label= \"ROC for 3 label =\" +str(roc_three))\n",
    "#plt.plot(fpr_four, tpr_four, 'b', color='yellow', label= \"ROC for 4 label =\" +str(roc_four))\n",
    "plt.legend(loc = 'lower right')\n",
    "#plt.plot([0, 1], [0, 1],'r--')\n",
    "plt.xlim([0, 1])\n",
    "plt.ylim([0, 1.05])\n",
    "plt.ylabel('True Positive Rate')\n",
    "plt.xlabel('False Positive Rate')\n",
    "plt.show()"
   ]
  },
  {
   "cell_type": "markdown",
   "metadata": {
    "id": "dWKvvFE9CTtB"
   },
   "source": [
    "### LogisticRegression"
   ]
  },
  {
   "cell_type": "code",
   "execution_count": 22,
   "metadata": {
    "colab": {
     "base_uri": "https://localhost:8080/"
    },
    "id": "abIgelNWApSA",
    "outputId": "54281b2a-5395-47b4-f0a8-ca089010e180"
   },
   "outputs": [
    {
     "name": "stdout",
     "output_type": "stream",
     "text": [
      "Start training...done!\n",
      "Start testing...done!\n",
      "Start training...done!\n",
      "Start testing...done!\n",
      "Start training...done!\n",
      "Start testing...done!\n",
      "Start training...done!\n",
      "Start testing...done!\n",
      "Start training...done!\n",
      "Start testing...done!\n",
      "Start training...done!\n",
      "Start testing...done!\n",
      "Start training...done!\n",
      "Start testing...done!\n",
      "Start training...done!\n",
      "Start testing...done!\n",
      "Start training...done!\n",
      "Start testing...done!\n",
      "Start training...done!\n",
      "Start testing...done!\n",
      "Total time: 13.51s\n",
      "mean accuracy: 0.85 %\n",
      "mean f1 socre: 0.85 %\n",
      "mean precision: 0.86 %\n",
      "mean recall: 0.85 %\n",
      "\n",
      "ROC across folds for zero:  0.4406422771288356\n",
      "\n",
      "ROC across folds for one:  0.9852144718582052\n",
      "\n",
      "ROC across folds for two:  0.44759937550051554\n",
      "\n",
      "ROC across folds for three:  0.3717369617433552\n",
      "\n",
      "ROC across folds for four:  nan\n",
      "the average accuracy of LR is 0.851122215409769\n",
      "the presion, recall, f are [[  0.87936772   0.92686786   0.81724888   0.86119064]\n",
      " [  0.77721705   0.77323921   0.92414754   0.83927299]\n",
      " [  0.82477945   0.84240971   0.86719034   0.84965893]\n",
      " [156.2         78.5        272.9        192.3       ]]\n",
      "[(0, 1406), (1, 706), (2, 2457), (3, 1731)]\n"
     ]
    },
    {
     "data": {
      "text/plain": [
       "<sklearn.metrics._plot.confusion_matrix.ConfusionMatrixDisplay at 0x1e32456b8c8>"
      ]
     },
     "execution_count": 22,
     "metadata": {},
     "output_type": "execute_result"
    },
    {
     "data": {
      "image/png": "[encoded data removed]",
      "text/plain": [
       "<Figure size 432x288 with 2 Axes>"
      ]
     },
     "metadata": {
      "needs_background": "light"
     },
     "output_type": "display_data"
    }
   ],
   "source": [
    "log_model = LogisticRegression(penalty='l2', max_iter=500)\n",
    "\n",
    "accs = []\n",
    "reports = []\n",
    "f1 = []\n",
    "pr = []\n",
    "re = []\n",
    "pe = []\n",
    "\n",
    "#javed#\n",
    "accuracy_ = []\n",
    "P_r_f = []\n",
    "\n",
    "mean_accuracy= []\n",
    "mean_p_r_f =[]\n",
    "##javed###\n",
    "\n",
    "roc_auc_ = []\n",
    "roc_auc_one = []\n",
    "roc_auc_two = []\n",
    "roc_auc_three = []\n",
    "roc_auc_four = []\n",
    "st_time = time.time()\n",
    "for train_index, test_index in skfold.split(X,y):\n",
    "    X_train, X_test = X[train_index], X[test_index]\n",
    "    y_train, y_test = y[train_index], y[test_index]\n",
    "    # Oversample\n",
    "    #X_train_res, y_train_res = sm.fit_sample(X_train, y_train)\n",
    "    predictions, accuracy, precision, recall, f1socre, alg_accuracy, alg_p_r_f_score = train_test_model(log_model, X_train, X_test, y_train, y_test, labels)\n",
    "    \n",
    "    fpr_zero, tpr_zero, _ = roc_curve(y_test, log_model.predict_proba(X_test)[:,1], pos_label=0)\n",
    "    fpr_one, tpr_one, __ = roc_curve(y_test, log_model.predict_proba(X_test)[:,1], pos_label=1)\n",
    "    fpr_two, tpr_two, ___ = roc_curve(y_test, log_model.predict_proba(X_test)[:,1], pos_label=2)\n",
    "    fpr_three, tpr_three, ____ = roc_curve(y_test, log_model.predict_proba(X_test)[:,1], pos_label=3)\n",
    "    fpr_four, tpr_four, _____ = roc_curve(y_test, log_model.predict_proba(X_test)[:,1], pos_label=4)\n",
    "\n",
    "    roc_auc_.append(auc(fpr_zero, tpr_zero))\n",
    "    roc_auc_one.append(auc(fpr_one, tpr_one))\n",
    "    roc_auc_two.append(auc(fpr_two, tpr_two))\n",
    "    roc_auc_three.append(auc(fpr_three, tpr_three))\n",
    "    roc_auc_four.append(auc(fpr_four, tpr_four))\n",
    "    \n",
    "     #javed###      \n",
    "    accuracy_.append(alg_accuracy)\n",
    "    P_r_f.append(alg_p_r_f_score)\n",
    "    #### jave ####\n",
    "\n",
    "    pe.append(predictions)\n",
    "    accs.append(accuracy)\n",
    "    f1.append(f1socre)\n",
    "    pr.append(precision)\n",
    "    re.append(recall)\n",
    "\n",
    "\n",
    "en_time = time.time()\n",
    "#print('mean predictions: {:.2f} %'.format(sum(pe) / len(pe) ))\n",
    "print('Total time: {:.2f}s'.format(en_time-st_time))   \n",
    "print('mean accuracy: {:.2f} %'.format(np.mean(accs)))\n",
    "print('mean f1 socre: {:.2f} %'.format(np.mean(f1)))\n",
    "print('mean precision: {:.2f} %'.format(np.mean(pr)))\n",
    "print('mean recall: {:.2f} %'.format(np.mean(re)))\n",
    "\n",
    "roc_zero = sum(roc_auc_) / len(roc_auc_)\n",
    "print(\"\\nROC across folds for zero: \", roc_zero)\n",
    "\n",
    "roc_one = sum(roc_auc_one) / len(roc_auc_one)\n",
    "print(\"\\nROC across folds for one: \", roc_one)\n",
    "\n",
    "roc_two = sum(roc_auc_two) / len(roc_auc_two)\n",
    "print(\"\\nROC across folds for two: \", roc_two)\n",
    "\n",
    "roc_three = sum(roc_auc_three) / len(roc_auc_three)\n",
    "print(\"\\nROC across folds for three: \", roc_three)\n",
    "\n",
    "roc_four = sum(roc_auc_four) / len(roc_auc_four)\n",
    "print(\"\\nROC across folds for four: \", roc_four)\n",
    "\n",
    "#### jave ####\n",
    "mean_accuracy= np.mean(accuracy_, axis=0)\n",
    "print(\"the average accuracy of LR is\",mean_accuracy)\n",
    "    \n",
    "mean_p_r_f=np.mean(P_r_f, axis=0)\n",
    "print(\"the presion, recall, f are\", mean_p_r_f)\n",
    "#### jave ####\n",
    "\n",
    "\n",
    "#print(fpr_zero)\n",
    "#print(tpr_zero)\n",
    "\n",
    "#print(metrics_report)\n",
    "unique, counts = np.unique(y_train, return_counts=True)\n",
    "print(list(zip(unique, counts)))\n",
    "plot_confusion_matrix(log_model, X_test, y_test, display_labels=labels, xticks_rotation='vertical', cmap=\"BuPu\")"
   ]
  },
  {
   "cell_type": "code",
   "execution_count": 23,
   "metadata": {
    "colab": {
     "base_uri": "https://localhost:8080/",
     "height": 295
    },
    "id": "GLzcrXJv8lgZ",
    "outputId": "ed380c8c-5843-48de-945a-908e5a5d1f72"
   },
   "outputs": [
    {
     "data": {
      "image/png": "[encoded data removed]",
      "text/plain": [
       "<Figure size 432x288 with 1 Axes>"
      ]
     },
     "metadata": {
      "needs_background": "light"
     },
     "output_type": "display_data"
    }
   ],
   "source": [
    "plt.title('Receiver Operating Characteristic')\n",
    "#plt.plot(fpr_zero, tpr_zero, 'b', color='green', label= \"ROC for 0 label =\" +str(roc_zero))\n",
    "plt.plot(fpr_one, tpr_one, 'b', label= \"ROC for 1 label =\" +str(roc_one))\n",
    "#plt.plot(fpr_two, tpr_two, 'b', color='purple',  label= \"ROC for 2 label =\" +str(roc_two))\n",
    "#plt.plot(fpr_three, tpr_three, 'b', color='red',  label= \"ROC for 3 label =\" +str(roc_three))\n",
    "#plt.plot(fpr_four, tpr_four, 'b', color='yellow', label= \"ROC for 4 label =\" +str(roc_four))\n",
    "plt.legend(loc = 'lower right')\n",
    "#plt.plot([0, 1], [0, 1],'r--')\n",
    "plt.xlim([0, 1])\n",
    "plt.ylim([0, 1.05])\n",
    "plt.ylabel('True Positive Rate')\n",
    "plt.xlabel('False Positive Rate')\n",
    "plt.show()"
   ]
  },
  {
   "cell_type": "markdown",
   "metadata": {
    "id": "i74aicPaD2pa"
   },
   "source": [
    "### LinearSVC"
   ]
  },
  {
   "cell_type": "code",
   "execution_count": 24,
   "metadata": {
    "colab": {
     "base_uri": "https://localhost:8080/"
    },
    "id": "9QEBmQYkD0RN",
    "outputId": "65a536dd-22eb-4fbf-ad2d-0f0534d43228"
   },
   "outputs": [
    {
     "name": "stdout",
     "output_type": "stream",
     "text": [
      "Start training...done!\n",
      "Start testing...done!\n",
      "Start training...done!\n",
      "Start testing...done!\n",
      "Start training...done!\n",
      "Start testing...done!\n",
      "Start training...done!\n",
      "Start testing...done!\n",
      "Start training...done!\n",
      "Start testing...done!\n",
      "Start training...done!\n",
      "Start testing...done!\n",
      "Start training...done!\n",
      "Start testing...done!\n",
      "Start training...done!\n",
      "Start testing...done!\n",
      "Start training...done!\n",
      "Start testing...done!\n",
      "Start training...done!\n",
      "Start testing...done!\n",
      "Total time: 1.66s\n",
      "mean accuracy: 0.90 %\n",
      "mean f1 socre: 0.90 %\n",
      "mean precision: 0.90 %\n",
      "mean recall: 0.90 %\n",
      "the average accuracy of LSV is 0.9031203760474147\n",
      "the presion, recall, f are [[  0.90317034   0.86394769   0.92962528   0.88618611]\n",
      " [  0.9109791    0.96049984   0.88345588   0.90113882]\n",
      " [  0.90691608   0.90955269   0.90587718   0.8933151 ]\n",
      " [156.2         78.5        272.9        192.3       ]]\n",
      "[(0, 2457), (1, 2457), (2, 2457), (3, 2457)]\n"
     ]
    },
    {
     "data": {
      "text/plain": [
       "<sklearn.metrics._plot.confusion_matrix.ConfusionMatrixDisplay at 0x1e32456bdc8>"
      ]
     },
     "execution_count": 24,
     "metadata": {},
     "output_type": "execute_result"
    },
    {
     "data": {
      "image/png": "[encoded data removed]",
      "text/plain": [
       "<Figure size 432x288 with 2 Axes>"
      ]
     },
     "metadata": {
      "needs_background": "light"
     },
     "output_type": "display_data"
    }
   ],
   "source": [
    "svm = LinearSVC(class_weight='balanced', verbose=False, max_iter=10000, tol=1e-4, C=0.1)\n",
    "\n",
    "accs = []\n",
    "reports = []\n",
    "f1 = []\n",
    "pr = []\n",
    "re = []\n",
    "pe = []\n",
    "\n",
    "#javed#\n",
    "accuracy_ = []\n",
    "P_r_f = []\n",
    "\n",
    "mean_accuracy= []\n",
    "mean_p_r_f =[]\n",
    "##javed###\n",
    "\n",
    "roc_auc_ = []\n",
    "roc_auc_one = []\n",
    "roc_auc_two = []\n",
    "roc_auc_three = []\n",
    "roc_auc_four_svm = []\n",
    "\n",
    "tprs_zero_svm = []\n",
    "tprs_one_svm = []\n",
    "tprs_two_svm = []\n",
    "tprs_three_svm = []\n",
    "tprs_four_svm = []\n",
    "\n",
    "mean_fpr_svm = np.linspace(0,1,100)\n",
    "\n",
    "st_time = time.time()\n",
    "for train_index, test_index in skfold.split(X,y):\n",
    "    X_train, X_test = X[train_index], X[test_index]\n",
    "    y_train, y_test = y[train_index], y[test_index]\n",
    "    # Oversample\n",
    "    #X_train_res, y_train_res = sm.fit_sample(X_train, y_train)\n",
    "    predictions, accuracy, precision, recall, f1socre, alg_accuracy, alg_p_r_f_score = train_test_model(svm, X_train_res, X_test, y_train_res, y_test, labels)\n",
    "    \n",
    "    #fpr_zero, tpr_zero, _ = roc_curve(y_test, svm.decision_function(X_test)[:,1], pos_label=0)\n",
    "    #fpr_one, tpr_one, __ = roc_curve(y_test, svm.decision_function(X_test)[:,1], pos_label=1)\n",
    "    #fpr_two, tpr_two, ___ = roc_curve(y_test, svm.decision_function(X_test)[:,1], pos_label=2)\n",
    "    #fpr_three, tpr_three, ____ = roc_curve(y_test, svm.decision_function(X_test)[:,1], pos_label=3)\n",
    "    fpr_four_svm, tpr_four_svm, _____ = roc_curve(y_test, svm.decision_function (X_test)[:,3], pos_label=3)\n",
    "\n",
    "    tprs_four_svm.append(interp(mean_fpr_svm, fpr_four_svm, tpr_four_svm))\n",
    "    \n",
    "    #roc_auc_one = (auc(fpr_zero, tpr_zero))\n",
    "    #roc_auc_one = (auc(fpr_one, tpr_one))\n",
    "    #roc_auc_two = (auc(fpr_two, tpr_two))\n",
    "    #roc_auc_three = (auc(fpr_three, tpr_three))\n",
    "    roc_auc_four = (auc(fpr_four_svm, tpr_four_svm))\n",
    "    \n",
    "    \n",
    "     #javed###      \n",
    "    accuracy_.append(alg_accuracy)\n",
    "    P_r_f.append(alg_p_r_f_score)\n",
    "    #### jave ####\n",
    "\n",
    "    pe.append(predictions)\n",
    "    accs.append(accuracy)\n",
    "    f1.append(f1socre)\n",
    "    pr.append(precision)\n",
    "    re.append(recall)\n",
    "\n",
    "\n",
    "en_time = time.time()\n",
    "#print('mean predictions: {:.2f} %'.format(sum(pe) / len(pe) ))\n",
    "print('Total time: {:.2f}s'.format(en_time-st_time))   \n",
    "print('mean accuracy: {:.2f} %'.format(np.mean(accs)))\n",
    "print('mean f1 socre: {:.2f} %'.format(np.mean(f1)))\n",
    "print('mean precision: {:.2f} %'.format(np.mean(pr)))\n",
    "print('mean recall: {:.2f} %'.format(np.mean(re)))\n",
    "\n",
    "#roc_zero = sum(roc_auc_) / len(roc_auc_)\n",
    "#print(\"\\nROC across folds for zero: \", roc_zero)\n",
    "\n",
    "#roc_one = sum(roc_auc_one) / len(roc_auc_one)\n",
    "#print(\"\\nROC across folds for one: \", roc_one)\n",
    "\n",
    "#roc_two = sum(roc_auc_two) / len(roc_auc_two)\n",
    "#print(\"\\nROC across folds for two: \", roc_two)\n",
    "\n",
    "#roc_three = sum(roc_auc_three) / len(roc_auc_three)\n",
    "#print(\"\\nROC across folds for three: \", roc_three)\n",
    "\n",
    "#roc_four_svm = sum(roc_auc_four_svm) / len(roc_auc_four_svm)\n",
    "#print(\"\\nROC across folds for four: \", roc_four_svm)\n",
    "\n",
    "#### jave ####\n",
    "mean_accuracy= np.mean(accuracy_, axis=0)\n",
    "print(\"the average accuracy of LSV is\",mean_accuracy)\n",
    "    \n",
    "mean_p_r_f=np.mean(P_r_f, axis=0)\n",
    "print(\"the presion, recall, f are\", mean_p_r_f)\n",
    "#### jave ####\n",
    "\n",
    "mean_tpr_svm = np.mean(tprs_four_svm, axis=0)\n",
    "mean_auc_svm = auc(mean_fpr_svm, mean_tpr_svm)\n",
    "\n",
    "#print(mean_tpr_svm)\n",
    "#print(mean_fpr_svm)\n",
    "#print(mean_auc_svm)\n",
    "\n",
    "#print(metrics_report)\n",
    "unique, counts = np.unique(y_train_res, return_counts=True)\n",
    "print(list(zip(unique, counts)))\n",
    "plot_confusion_matrix(svm, X_test, y_test, display_labels=labels, xticks_rotation='vertical', cmap=\"BuPu\")"
   ]
  },
  {
   "cell_type": "code",
   "execution_count": 25,
   "metadata": {
    "colab": {
     "base_uri": "https://localhost:8080/",
     "height": 294
    },
    "id": "xp3ZUcwT9mee",
    "outputId": "51102c39-c7e7-4cf6-c7b5-1ff650296bd9"
   },
   "outputs": [
    {
     "data": {
      "image/png": "[encoded data removed]",
      "text/plain": [
       "<Figure size 432x288 with 1 Axes>"
      ]
     },
     "metadata": {
      "needs_background": "light"
     },
     "output_type": "display_data"
    }
   ],
   "source": [
    "plt.title('Receiver Operating Characteristic')\n",
    "#plt.plot(fpr_zero, tpr_zero, 'b', color='green', label= \"ROC for 0 label =\" +str(roc_zero))\n",
    "#plt.plot(fpr_one, tpr_one, 'b', label= \"ROC for 1 label =\" +str(roc_one))\n",
    "#plt.plot(fpr_two, tpr_two, 'b', color='purple',  label= \"ROC for 2 label =\" +str(roc_two))\n",
    "#plt.plot(fpr_three, tpr_three, 'b', color='red',  label= \"ROC for 3 label =\" +str(roc_three))\n",
    "plt.plot(mean_fpr_svm, mean_tpr_svm, 'b', label= \"ROC for Oversamling (SVM) =\" +str(mean_auc_svm),lw=2, alpha=1)\n",
    "plt.legend(loc = 'lower right')\n",
    "#plt.plot([0, 1], [0, 1],'r--')\n",
    "plt.xlim([0, 1])\n",
    "plt.ylim([0, 1.05])\n",
    "plt.ylabel('True Positive Rate')\n",
    "plt.xlabel('False Positive Rate')\n",
    "plt.show()"
   ]
  },
  {
   "cell_type": "markdown",
   "metadata": {
    "id": "2zGgaD3VHIlg"
   },
   "source": [
    "### RandomForestClassifier"
   ]
  },
  {
   "cell_type": "code",
   "execution_count": 26,
   "metadata": {
    "colab": {
     "base_uri": "https://localhost:8080/"
    },
    "id": "s_QsYip2Ffm0",
    "outputId": "017b2dca-e4d9-4275-88b2-8869db91e33b"
   },
   "outputs": [
    {
     "name": "stdout",
     "output_type": "stream",
     "text": [
      "Start training...done!\n",
      "Start testing...done!\n",
      "Start training...done!\n",
      "Start testing...done!\n",
      "Start training...done!\n",
      "Start testing...done!\n",
      "Start training...done!\n",
      "Start testing...done!\n",
      "Start training...done!\n",
      "Start testing...done!\n",
      "Start training...done!\n",
      "Start testing...done!\n",
      "Start training...done!\n",
      "Start testing...done!\n",
      "Start training...done!\n",
      "Start testing...done!\n",
      "Start training...done!\n",
      "Start testing...done!\n",
      "Start training...done!\n",
      "Start testing...done!\n",
      "Total time: 27.51s\n",
      "mean accuracy: 0.97 %\n",
      "mean f1 socre: 0.97 %\n",
      "mean precision: 0.97 %\n",
      "mean recall: 0.97 %\n",
      "the average accuracy of RF is 0.974421418352749\n",
      "the presion, recall, f are [[  0.97379084   0.98752969   0.96631907   0.98188667]\n",
      " [  0.97117834   0.99746835   0.9816769    0.95735373]\n",
      " [  0.97242609   0.99242063   0.97386852   0.9693369 ]\n",
      " [156.2         78.5        272.9        192.3       ]]\n",
      "[(0, 2457), (1, 2457), (2, 2457), (3, 2457)]\n"
     ]
    },
    {
     "data": {
      "text/plain": [
       "<sklearn.metrics._plot.confusion_matrix.ConfusionMatrixDisplay at 0x1e3233a0988>"
      ]
     },
     "execution_count": 26,
     "metadata": {},
     "output_type": "execute_result"
    },
    {
     "data": {
      "image/png": "[encoded data removed]",
      "text/plain": [
       "<Figure size 432x288 with 2 Axes>"
      ]
     },
     "metadata": {
      "needs_background": "light"
     },
     "output_type": "display_data"
    }
   ],
   "source": [
    "rf_model = RandomForestClassifier(n_estimators=100, max_depth=100, min_samples_split=10, n_jobs=-1, verbose=0)\n",
    "\n",
    "accs = []\n",
    "reports = []\n",
    "f1 = []\n",
    "pr = []\n",
    "re = []\n",
    "pe = []\n",
    "\n",
    "#javed#\n",
    "accuracy_ = []\n",
    "P_r_f = []\n",
    "\n",
    "mean_accuracy= []\n",
    "mean_p_r_f =[]\n",
    "##javed###\n",
    "\n",
    "roc_auc_ = []\n",
    "roc_auc_one = []\n",
    "roc_auc_two = []\n",
    "roc_auc_three = []\n",
    "roc_auc_four_rf = []\n",
    "\n",
    "tprs_zero_rf = []\n",
    "tprs_one_rf = []\n",
    "tprs_two_rf = []\n",
    "tprs_three_rf = []\n",
    "tprs_four_rf = []\n",
    "\n",
    "mean_fpr_rf = np.linspace(0,1,100)\n",
    "\n",
    "st_time = time.time()\n",
    "for train_index, test_index in skfold.split(X,y):\n",
    "    X_train, X_test = X[train_index], X[test_index]\n",
    "    y_train, y_test = y[train_index], y[test_index]\n",
    "    #Oversampling\n",
    "    #X_train_res, y_train_res = sm.fit_sample(X_train, y_train)\n",
    "    predictions, accuracy, precision, recall, f1socre, alg_accuracy, alg_p_r_f_score = train_test_model(rf_model, X_train_res, X_test, y_train_res, y_test, labels)\n",
    "    \n",
    "    #fpr_zero, tpr_zero, _ = roc_curve(y_test, rf_model.predict_proba(X_test)[:,1], pos_label=0)\n",
    "    #fpr_one, tpr_one, __ = roc_curve(y_test, rf_model.predict_proba(X_test)[:,1], pos_label=1)\n",
    "    #fpr_two, tpr_two, ___ = roc_curve(y_test, rf_model.predict_proba(X_test)[:,1], pos_label=2)\n",
    "    #fpr_three, tpr_three, ____ = roc_curve(y_test, rf_model.predict_proba(X_test)[:,1], pos_label=3)\n",
    "    fpr_four_rf, tpr_four_rf, _____ = roc_curve(y_test, rf_model.predict_proba (X_test)[:,3], pos_label=3)\n",
    "\n",
    "    tprs_four_rf.append(interp(mean_fpr_rf, fpr_four_rf, tpr_four_rf))\n",
    "    \n",
    "    #roc_auc_one = (auc(fpr_zero, tpr_zero))\n",
    "    #roc_auc_one = (auc(fpr_one, tpr_one))\n",
    "    #roc_auc_two = (auc(fpr_two, tpr_two))\n",
    "    #roc_auc_three = (auc(fpr_three, tpr_three))\n",
    "    roc_auc_four = (auc(fpr_four_rf, tpr_four_rf))\n",
    "    \n",
    "        #javed###      \n",
    "    accuracy_.append(alg_accuracy)\n",
    "    P_r_f.append(alg_p_r_f_score)\n",
    "    #### jave ####\n",
    "\n",
    "    pe.append(predictions)\n",
    "    accs.append(accuracy)\n",
    "    f1.append(f1socre)\n",
    "    pr.append(precision)\n",
    "    re.append(recall)\n",
    "\n",
    "\n",
    "en_time = time.time()\n",
    "#print('mean predictions: {:.2f} %'.format(sum(pe) / len(pe) ))\n",
    "print('Total time: {:.2f}s'.format(en_time-st_time))   \n",
    "print('mean accuracy: {:.2f} %'.format(np.mean(accs)))\n",
    "print('mean f1 socre: {:.2f} %'.format(np.mean(f1)))\n",
    "print('mean precision: {:.2f} %'.format(np.mean(pr)))\n",
    "print('mean recall: {:.2f} %'.format(np.mean(re)))\n",
    "\n",
    "#roc_zero = sum(roc_auc_) / len(roc_auc_)\n",
    "#print(\"\\nROC across folds for zero: \", roc_zero)\n",
    "\n",
    "#roc_one = sum(roc_auc_one) / len(roc_auc_one)\n",
    "#print(\"\\nROC across folds for one: \", roc_one)\n",
    "\n",
    "#roc_two = sum(roc_auc_two) / len(roc_auc_two)\n",
    "#print(\"\\nROC across folds for two: \", roc_two)\n",
    "\n",
    "#roc_three = sum(roc_auc_three) / len(roc_auc_three)\n",
    "#print(\"\\nROC across folds for three: \", roc_three)\n",
    "\n",
    "#roc_four_rf = sum(roc_auc_four_rf) / len(roc_auc_four_rf)\n",
    "#print(\"\\nROC across folds for four: \", roc_four_rf)\n",
    "\n",
    "#### jave ####\n",
    "mean_accuracy= np.mean(accuracy_, axis=0)\n",
    "print(\"the average accuracy of RF is\",mean_accuracy)\n",
    "    \n",
    "mean_p_r_f=np.mean(P_r_f, axis=0)\n",
    "print(\"the presion, recall, f are\", mean_p_r_f)\n",
    "#### jave ####\n",
    "\n",
    "\n",
    "mean_tpr_rf = np.mean(tprs_four_rf, axis=0)\n",
    "mean_auc_rf = auc(mean_fpr_rf, mean_tpr_rf)\n",
    "\n",
    "#print(mean_tpr_rf)\n",
    "#print(mean_fpr_rf)\n",
    "#print(mean_auc_rf)\n",
    "\n",
    "#print(metrics_report)\n",
    "unique, counts = np.unique(y_train_res, return_counts=True)\n",
    "print(list(zip(unique, counts)))\n",
    "plot_confusion_matrix(rf_model, X_test, y_test, display_labels=labels, xticks_rotation='vertical', cmap=\"BuPu\")"
   ]
  },
  {
   "cell_type": "code",
   "execution_count": 27,
   "metadata": {
    "colab": {
     "base_uri": "https://localhost:8080/",
     "height": 294
    },
    "id": "C187e5Al-asj",
    "outputId": "3b06e393-de73-4b2d-c676-1886837be445"
   },
   "outputs": [
    {
     "data": {
      "image/png": "[encoded data removed]",
      "text/plain": [
       "<Figure size 432x288 with 1 Axes>"
      ]
     },
     "metadata": {
      "needs_background": "light"
     },
     "output_type": "display_data"
    }
   ],
   "source": [
    "plt.title('Receiver Operating Characteristic')\n",
    "#plt.plot(fpr_one, tpr_one, 'b', color='red', label= \"Oversampling =\" +str(roc_one))\n",
    "#plt.plot(fpr_zero, tpr_zero, 'b', color='green', label= \"ROC for 0 label =\" +str(roc_zero))\n",
    "#plt.plot(fpr_one, tpr_one, 'b', label= \"ROC for 1 label =\" +str(roc_one))\n",
    "#plt.plot(fpr_two, tpr_two, 'b', color='purple',  label= \"ROC for 2 label =\" +str(roc_two))\n",
    "#plt.plot(fpr_three, tpr_three, 'b', color='red',  label= \"ROC for 3 label =\" +str(roc_three))\n",
    "plt.plot(mean_fpr_rf, mean_tpr_rf, 'b', color='green', label= \"ROC for Oversampling (RF) =\" +str(mean_auc_rf),lw=2, alpha=1)\n",
    "plt.legend(loc = 'lower right')\n",
    "#plt.plot([0, 1], [0, 1],'r--')\n",
    "plt.xlim([0, 1])\n",
    "plt.ylim([0, 1.05])\n",
    "plt.ylabel('True Positive Rate')\n",
    "plt.xlabel('False Positive Rate')\n",
    "plt.show()"
   ]
  },
  {
   "cell_type": "markdown",
   "metadata": {
    "id": "0GWnHwQPPSn8"
   },
   "source": [
    "### KNN"
   ]
  },
  {
   "cell_type": "code",
   "execution_count": 28,
   "metadata": {
    "colab": {
     "base_uri": "https://localhost:8080/"
    },
    "id": "sP0CyA24PUzu",
    "outputId": "a7396d1a-4958-4815-be05-2245d0249332"
   },
   "outputs": [
    {
     "name": "stdout",
     "output_type": "stream",
     "text": [
      "Start training...done!\n",
      "Start testing...done!\n",
      "Start training...done!\n",
      "Start testing...done!\n",
      "Start training...done!\n",
      "Start testing...done!\n",
      "Start training...done!\n",
      "Start testing...done!\n",
      "Start training...done!\n",
      "Start testing...done!\n",
      "Start training...done!\n",
      "Start testing...done!\n",
      "Start training...done!\n",
      "Start testing...done!\n",
      "Start training...done!\n",
      "Start testing...done!\n",
      "Start training...done!\n",
      "Start testing...done!\n",
      "Start training...done!\n",
      "Start testing...done!\n",
      "Total time: 15.73s\n",
      "mean accuracy: 0.88 %\n",
      "mean f1 socre: 0.88 %\n",
      "mean precision: 0.89 %\n",
      "mean recall: 0.88 %\n",
      "\n",
      "ROC across folds for zero:  0.42529351481828004\n",
      "\n",
      "ROC across folds for one:  0.9918975619182261\n",
      "\n",
      "ROC across folds for two:  0.41268267079845805\n",
      "\n",
      "ROC across folds for three:  0.42341169510943893\n",
      "\n",
      "ROC across folds for four:  nan\n",
      "the average accuracy of KNN is 0.8838358880032698\n",
      "the presion, recall, f are [[  0.93566331   0.95870191   0.8173597    0.94531813]\n",
      " [  0.81302874   0.83847777   0.95859459   0.85384283]\n",
      " [  0.8685599    0.89224367   0.88119247   0.89689993]\n",
      " [156.2         78.5        272.9        192.3       ]]\n",
      "[(0, 1406), (1, 706), (2, 2457), (3, 1731)]\n"
     ]
    },
    {
     "data": {
      "text/plain": [
       "<sklearn.metrics._plot.confusion_matrix.ConfusionMatrixDisplay at 0x1e322f4fb08>"
      ]
     },
     "execution_count": 28,
     "metadata": {},
     "output_type": "execute_result"
    },
    {
     "data": {
      "image/png": "[encoded data removed]",
      "text/plain": [
       "<Figure size 432x288 with 2 Axes>"
      ]
     },
     "metadata": {
      "needs_background": "light"
     },
     "output_type": "display_data"
    }
   ],
   "source": [
    "knn_model = KNeighborsClassifier(n_neighbors=3)\n",
    "\n",
    "accs = []\n",
    "reports = []\n",
    "f1 = []\n",
    "pr = []\n",
    "re = []\n",
    "pe = []\n",
    "\n",
    "#javed#\n",
    "accuracy_ = []\n",
    "P_r_f = []\n",
    "\n",
    "mean_accuracy= []\n",
    "mean_p_r_f =[]\n",
    "##javed###\n",
    "\n",
    "roc_auc_ = []\n",
    "roc_auc_one = []\n",
    "roc_auc_two = []\n",
    "roc_auc_three = []\n",
    "roc_auc_four = []\n",
    "st_time = time.time()\n",
    "\n",
    "mean_fpr_rf = np.linspace(0,1,100)              # change the name of classifier\n",
    "\n",
    "for train_index, test_index in skfold.split(X,y):\n",
    "    X_train, X_test = X[train_index], X[test_index]\n",
    "    y_train, y_test = y[train_index], y[test_index]\n",
    "    # Oversample\n",
    "    #X_train_res, y_train_res = sm.fit_sample(X_train, y_train)\n",
    "    predictions, accuracy, precision, recall, f1socre, alg_accuracy, alg_p_r_f_score = train_test_model(knn_model, X_train, X_test, y_train, y_test, labels)\n",
    "    \n",
    "    fpr_zero, tpr_zero, _ = roc_curve(y_test, knn_model.predict_proba(X_test)[:,1], pos_label=0)\n",
    "    fpr_one, tpr_one, __ = roc_curve(y_test, knn_model.predict_proba(X_test)[:,1], pos_label=1)\n",
    "    fpr_two, tpr_two, ___ = roc_curve(y_test, knn_model.predict_proba(X_test)[:,1], pos_label=2)\n",
    "    fpr_three, tpr_three, ____ = roc_curve(y_test, knn_model.predict_proba(X_test)[:,1], pos_label=3)\n",
    "    fpr_four, tpr_four, _____ = roc_curve(y_test, knn_model.predict_proba (X_test)[:,1], pos_label=4)\n",
    "\n",
    "    roc_auc_.append(auc(fpr_zero, tpr_zero))\n",
    "    roc_auc_one.append(auc(fpr_one, tpr_one))\n",
    "    roc_auc_two.append(auc(fpr_two, tpr_two))\n",
    "    roc_auc_three.append(auc(fpr_three, tpr_three))\n",
    "    roc_auc_four.append(auc(fpr_four, tpr_four))\n",
    "    \n",
    "            #javed###      \n",
    "    accuracy_.append(alg_accuracy)\n",
    "    P_r_f.append(alg_p_r_f_score)\n",
    "    #### jave ####\n",
    "\n",
    "    pe.append(predictions)\n",
    "    accs.append(accuracy)\n",
    "    f1.append(f1socre)\n",
    "    pr.append(precision)\n",
    "    re.append(recall)\n",
    "\n",
    "\n",
    "en_time = time.time()\n",
    "#print('mean predictions: {:.2f} %'.format(sum(pe) / len(pe) ))\n",
    "print('Total time: {:.2f}s'.format(en_time-st_time))   \n",
    "print('mean accuracy: {:.2f} %'.format(np.mean(accs)))\n",
    "print('mean f1 socre: {:.2f} %'.format(np.mean(f1)))\n",
    "print('mean precision: {:.2f} %'.format(np.mean(pr)))\n",
    "print('mean recall: {:.2f} %'.format(np.mean(re)))\n",
    "\n",
    "roc_zero = sum(roc_auc_) / len(roc_auc_)\n",
    "print(\"\\nROC across folds for zero: \", roc_zero)\n",
    "\n",
    "roc_one = sum(roc_auc_one) / len(roc_auc_one)\n",
    "print(\"\\nROC across folds for one: \", roc_one)\n",
    "\n",
    "roc_two = sum(roc_auc_two) / len(roc_auc_two)\n",
    "print(\"\\nROC across folds for two: \", roc_two)\n",
    "\n",
    "roc_three = sum(roc_auc_three) / len(roc_auc_three)\n",
    "print(\"\\nROC across folds for three: \", roc_three)\n",
    "\n",
    "roc_four = sum(roc_auc_four) / len(roc_auc_four)\n",
    "print(\"\\nROC across folds for four: \", roc_four)\n",
    "\n",
    "#### jave ####\n",
    "mean_accuracy= np.mean(accuracy_, axis=0)\n",
    "print(\"the average accuracy of KNN is\",mean_accuracy)\n",
    "    \n",
    "mean_p_r_f=np.mean(P_r_f, axis=0)\n",
    "print(\"the presion, recall, f are\", mean_p_r_f)\n",
    "#### jave ####\n",
    "\n",
    "\n",
    "mean_tpr_rf = np.mean(tprs_four_rf, axis=0)\n",
    "mean_auc_rf = auc(mean_fpr_rf, mean_tpr_rf)\n",
    "\n",
    "#print(fpr_zero)\n",
    "#print(tpr_zero)\n",
    "\n",
    "#print(metrics_report)\n",
    "unique, counts = np.unique(y_train, return_counts=True)\n",
    "print(list(zip(unique, counts)))\n",
    "plot_confusion_matrix(knn_model, X_test, y_test, display_labels=labels, xticks_rotation='vertical', cmap=\"BuPu\")"
   ]
  },
  {
   "cell_type": "code",
   "execution_count": 29,
   "metadata": {
    "colab": {
     "base_uri": "https://localhost:8080/",
     "height": 295
    },
    "id": "xzMbKPWn-1M1",
    "outputId": "a1928d7b-4b29-48d4-a090-e237bff25e69"
   },
   "outputs": [
    {
     "data": {
      "image/png": "[encoded data removed]",
      "text/plain": [
       "<Figure size 432x288 with 1 Axes>"
      ]
     },
     "metadata": {
      "needs_background": "light"
     },
     "output_type": "display_data"
    }
   ],
   "source": [
    "plt.title('Receiver Operating Characteristic')\n",
    "#plt.plot(fpr_zero, tpr_zero, 'b', color='green', label= \"ROC for 0 label =\" +str(roc_zero))\n",
    "#plt.plot(fpr_one, tpr_one, 'b', label= \"ROC for 1 label =\" +str(roc_one))\n",
    "#plt.plot(fpr_two, tpr_two, 'b', color='purple',  label= \"ROC for 2 label =\" +str(roc_two))\n",
    "#plt.plot(fpr_three, tpr_three, 'b', color='red',  label= \"ROC for 3 label =\" +str(roc_three))\n",
    "#plt.plot(fpr_four, tpr_four, 'b', color='yellow', label= \"ROC for 4 label =\" +str(roc_four))\n",
    "plt.plot(mean_fpr_rf, mean_tpr_rf, 'b', color='red', label= \"ROC for Oversampling (KNN) =\" +str(mean_auc_rf),lw=2, alpha=1)\n",
    "plt.legend(loc = 'lower right')\n",
    "#plt.plot([0, 1], [0, 1],'r--')\n",
    "plt.xlim([0, 1])\n",
    "plt.ylim([0, 1.05])\n",
    "plt.ylabel('True Positive Rate')\n",
    "plt.xlabel('False Positive Rate')\n",
    "plt.show()"
   ]
  },
  {
   "cell_type": "markdown",
   "metadata": {
    "id": "yo0jCzfrHUd-"
   },
   "source": [
    "### Multilayer Perceptron"
   ]
  },
  {
   "cell_type": "code",
   "execution_count": 30,
   "metadata": {
    "colab": {
     "base_uri": "https://localhost:8080/"
    },
    "id": "RZFLMN7UHUM6",
    "outputId": "4dd17248-f939-4cc8-e4ec-99c409d447fe",
    "scrolled": true
   },
   "outputs": [
    {
     "name": "stdout",
     "output_type": "stream",
     "text": [
      "Start training...done!\n",
      "Start testing...done!\n",
      "Start training...done!\n",
      "Start testing...done!\n",
      "Start training...done!\n",
      "Start testing...done!\n",
      "Start training...done!\n",
      "Start testing...done!\n",
      "Start training...done!\n",
      "Start testing...done!\n",
      "Start training...done!\n",
      "Start testing...done!\n",
      "Start training...done!\n",
      "Start testing...done!\n",
      "Start training...done!\n",
      "Start testing...done!\n",
      "Start training...done!\n",
      "Start testing...done!\n",
      "Start training...done!\n",
      "Start testing...done!\n",
      "Total time: 1978.23s\n",
      "mean accuracy: 0.98 %\n",
      "mean f1 socre: 0.98 %\n",
      "mean precision: 0.98 %\n",
      "mean recall: 0.98 %\n",
      "the average accuracy of MLP is 0.9818520335172696\n",
      "the presion, recall, f are [[  0.96460285   0.98632324   0.99295644   0.97930136]\n",
      " [  0.9903887    0.99358974   0.97325065   0.98231056]\n",
      " [  0.97729417   0.98984677   0.98297278   0.98069223]\n",
      " [156.2         78.5        272.9        192.3       ]]\n",
      "0.9992678481399893\n",
      "[(0, 2457), (1, 2457), (2, 2457), (3, 2457)]\n"
     ]
    },
    {
     "data": {
      "text/plain": [
       "<sklearn.metrics._plot.confusion_matrix.ConfusionMatrixDisplay at 0x1e3267b8c88>"
      ]
     },
     "execution_count": 30,
     "metadata": {},
     "output_type": "execute_result"
    },
    {
     "data": {
      "image/png": "[encoded data removed]",
      "text/plain": [
       "<Figure size 432x288 with 2 Axes>"
      ]
     },
     "metadata": {
      "needs_background": "light"
     },
     "output_type": "display_data"
    }
   ],
   "source": [
    "mlp_model = MLPClassifier(random_state=1, max_iter=300)\n",
    "\n",
    "accs = []\n",
    "reports = []\n",
    "f1 = []\n",
    "pr = []\n",
    "re = []\n",
    "pe = []\n",
    "\n",
    "#javed#\n",
    "accuracy_ = []\n",
    "P_r_f = []\n",
    "\n",
    "mean_accuracy= []\n",
    "mean_p_r_f =[]\n",
    "##javed###\n",
    "\n",
    "roc_auc_ = []\n",
    "roc_auc_one = []\n",
    "roc_auc_two = []\n",
    "roc_auc_three = []\n",
    "roc_auc_four = []\n",
    "\n",
    "tprs_zero_mlp = []\n",
    "tprs_one_mlp = []\n",
    "tprs_two_mlp = []\n",
    "tprs_three_mlp = []\n",
    "tprs_four_mlp = []\n",
    "\n",
    "mean_fpr_mlp = np.linspace(0,1,100)\n",
    "\n",
    "\n",
    "st_time = time.time()\n",
    "for train_index, test_index in skfold.split(X,y):\n",
    "    X_train, X_test = X[train_index], X[test_index]\n",
    "    y_train, y_test = y[train_index], y[test_index]\n",
    "    # Oversample\n",
    "    #X_train_res, y_train_res = sm.fit_sample(X_train, y_train)\n",
    "    predictions, accuracy, precision, recall, f1socre, alg_accuracy, alg_p_r_f_score = train_test_model(mlp_model, X_train_res, X_test, y_train_res, y_test, labels)\n",
    "    \n",
    "    #fpr_zero, tpr_zero, _ = roc_curve(y_test, mlp_model.predict_proba(X_test)[:,1], pos_label=0)\n",
    "    #fpr_one, tpr_one, __ = roc_curve(y_test, mlp_model.predict_proba(X_test)[:,1], pos_label=1)\n",
    "    #fpr_two, tpr_two, ___ = roc_curve(y_test, mlp_model.predict_proba(X_test)[:,1], pos_label=2)\n",
    "    #fpr_three, tpr_three, ____ = roc_curve(y_test, mlp_model.predict_proba(X_test)[:,1], pos_label=3)\n",
    "    fpr_four_mlp, tpr_four_mlp, _____ = roc_curve(y_test, mlp_model.predict_proba (X_test)[:,3], pos_label=3)\n",
    "\n",
    "    tprs_four_mlp.append(interp(mean_fpr_mlp, fpr_four_mlp, tpr_four_mlp))\n",
    "    \n",
    "    #roc_auc_one = (auc(fpr_zero, tpr_zero))\n",
    "    #roc_auc_one = (auc(fpr_one, tpr_one))\n",
    "    #roc_auc_two = (auc(fpr_two, tpr_two))\n",
    "    #roc_auc_three = (auc(fpr_three, tpr_three))\n",
    "    roc_auc_four = (auc(fpr_four_mlp, tpr_four_mlp))\n",
    "    \n",
    "        \n",
    "            #javed###      \n",
    "    accuracy_.append(alg_accuracy)\n",
    "    P_r_f.append(alg_p_r_f_score)\n",
    "    #### jave ####\n",
    "\n",
    "    pe.append(predictions)\n",
    "    accs.append(accuracy)\n",
    "    f1.append(f1socre)\n",
    "    pr.append(precision)\n",
    "    re.append(recall)\n",
    "\n",
    "\n",
    "en_time = time.time()\n",
    "#print('mean predictions: {:.2f} %'.format(sum(pe) / len(pe) ))\n",
    "print('Total time: {:.2f}s'.format(en_time-st_time))   \n",
    "print('mean accuracy: {:.2f} %'.format(np.mean(accs)))\n",
    "print('mean f1 socre: {:.2f} %'.format(np.mean(f1)))\n",
    "print('mean precision: {:.2f} %'.format(np.mean(pr)))\n",
    "print('mean recall: {:.2f} %'.format(np.mean(re)))\n",
    "\n",
    "#roc_zero = sum(roc_auc_) / len(roc_auc_)\n",
    "#print(\"\\nROC across folds for zero: \", roc_zero)\n",
    "\n",
    "#roc_one = sum(roc_auc_one) / len(roc_auc_one)\n",
    "#print(\"\\nROC across folds for one: \", roc_one)\n",
    "\n",
    "#roc_two = sum(roc_auc_two) / len(roc_auc_two)\n",
    "#print(\"\\nROC across folds for two: \", roc_two)\n",
    "\n",
    "#roc_three = sum(roc_auc_three) / len(roc_auc_three)\n",
    "#print(\"\\nROC across folds for three: \", roc_three)\n",
    "\n",
    "#roc_four = sum(roc_auc_four) / len(roc_auc_four)\n",
    "#print(\"\\nROC across folds for four: \", roc_four)\n",
    "mean_tpr_mlp = np.mean(tprs_four_mlp, axis=0)\n",
    "mean_auc_mlp = auc(mean_fpr_mlp, mean_tpr_mlp)\n",
    "\n",
    "#### jave ####\n",
    "mean_accuracy= np.mean(accuracy_, axis=0)\n",
    "print(\"the average accuracy of MLP is\",mean_accuracy)\n",
    "    \n",
    "mean_p_r_f=np.mean(P_r_f, axis=0)\n",
    "print(\"the presion, recall, f are\", mean_p_r_f)\n",
    "#### jave ####\n",
    "\n",
    "#print(mean_tpr_mlp)\n",
    "#print(mean_fpr_mlp)\n",
    "print(mean_auc_mlp)\n",
    "\n",
    "#print(metrics_report)\n",
    "unique, counts = np.unique(y_train_res, return_counts=True)\n",
    "print(list(zip(unique, counts)))\n",
    "plot_confusion_matrix(mlp_model, X_test, y_test, display_labels=labels, xticks_rotation='vertical', cmap=\"BuPu\")"
   ]
  },
  {
   "cell_type": "code",
   "execution_count": 31,
   "metadata": {
    "colab": {
     "base_uri": "https://localhost:8080/",
     "height": 294
    },
    "id": "asOkfmpG_ytl",
    "outputId": "060bbf8d-add0-414e-d6c5-79725b1054ea"
   },
   "outputs": [
    {
     "data": {
      "image/png": "[encoded data removed]",
      "text/plain": [
       "<Figure size 432x288 with 1 Axes>"
      ]
     },
     "metadata": {
      "needs_background": "light"
     },
     "output_type": "display_data"
    }
   ],
   "source": [
    "plt.title('Receiver Operating Characteristic')\n",
    "#plt.plot(fpr_one, tpr_one, 'b', color='green', label= \"Oversampling =\" +str(roc_one))\n",
    "#plt.plot(fpr_zero, tpr_zero, 'b', color='green', label= \"ROC for 0 label =\" +str(roc_zero))\n",
    "#plt.plot(fpr_one, tpr_one, 'b', label= \"ROC for 1 label =\" +str(roc_one))\n",
    "#plt.plot(fpr_two, tpr_two, 'b', color='purple',  label= \"ROC for 2 label =\" +str(roc_two))\n",
    "#plt.plot(fpr_three, tpr_three, 'b', color='red',  label= \"ROC for 3 label =\" +str(roc_three))\n",
    "plt.plot(mean_fpr_mlp, mean_tpr_mlp, 'b', label= \"ROC for Oversampling (MLP)=\" +str(mean_auc_mlp),lw=2, alpha=1)\n",
    "plt.legend(loc = 'lower right')\n",
    "#plt.plot([0, 1], [0, 1],'r--')\n",
    "plt.xlim([0, 1])\n",
    "plt.ylim([0, 1.05])\n",
    "plt.ylabel('True Positive Rate')\n",
    "plt.xlabel('False Positive Rate')\n",
    "plt.show()"
   ]
  },
  {
   "cell_type": "markdown",
   "metadata": {
    "id": "UX2Vi4w1XWOG"
   },
   "source": [
    "### Gradient Boosting Classifier"
   ]
  },
  {
   "cell_type": "code",
   "execution_count": 32,
   "metadata": {
    "colab": {
     "base_uri": "https://localhost:8080/"
    },
    "id": "YFLJyxjIXVvU",
    "outputId": "5c893189-0e7c-4225-bcab-8dd9243e8a97"
   },
   "outputs": [
    {
     "name": "stdout",
     "output_type": "stream",
     "text": [
      "Start training...done!\n",
      "Start testing...done!\n",
      "Start training...done!\n",
      "Start testing...done!\n",
      "Start training...done!\n",
      "Start testing...done!\n",
      "Start training...done!\n",
      "Start testing...done!\n",
      "Start training...done!\n",
      "Start testing...done!\n",
      "Start training...done!\n",
      "Start testing...done!\n",
      "Start training...done!\n",
      "Start testing...done!\n",
      "Start training...done!\n",
      "Start testing...done!\n",
      "Start training...done!\n",
      "Start testing...done!\n",
      "Start training...done!\n",
      "Start testing...done!\n",
      "Total time: 56.53s\n",
      "mean accuracy: 0.80 %\n",
      "mean f1 socre: 0.80 %\n",
      "mean precision: 0.81 %\n",
      "mean recall: 0.80 %\n",
      "\n",
      "ROC across folds for zero:  0.3368203853334311\n",
      "\n",
      "ROC across folds for one:  0.9706442394760753\n",
      "\n",
      "ROC across folds for two:  0.5361847765587949\n",
      "\n",
      "ROC across folds for three:  0.3636136232624333\n",
      "\n",
      "ROC across folds for four:  nan\n",
      "the average accuracy of GB is 0.8008250562027387\n",
      "the presion, recall, f are [[  0.84115477   0.86261471   0.75354556   0.83270604]\n",
      " [  0.71707088   0.82317429   0.87504983   0.7544986 ]\n",
      " [  0.77297207   0.84055118   0.80957508   0.791288  ]\n",
      " [156.2         78.5        272.9        192.3       ]]\n",
      "[(0, 1406), (1, 706), (2, 2457), (3, 1731)]\n"
     ]
    },
    {
     "data": {
      "text/plain": [
       "<sklearn.metrics._plot.confusion_matrix.ConfusionMatrixDisplay at 0x1e326914588>"
      ]
     },
     "execution_count": 32,
     "metadata": {},
     "output_type": "execute_result"
    },
    {
     "data": {
      "image/png": "[encoded data removed]",
      "text/plain": [
       "<Figure size 432x288 with 2 Axes>"
      ]
     },
     "metadata": {
      "needs_background": "light"
     },
     "output_type": "display_data"
    }
   ],
   "source": [
    "gb_model = GradientBoostingClassifier(n_estimators=100, learning_rate=1.0, max_depth=1, random_state=0)\n",
    "\n",
    "accs = []\n",
    "reports = []\n",
    "f1 = []\n",
    "pr = []\n",
    "re = []\n",
    "pe = []\n",
    "\n",
    "#javed#\n",
    "accuracy_ = []\n",
    "P_r_f = []\n",
    "\n",
    "mean_accuracy= []\n",
    "mean_p_r_f =[]\n",
    "##javed###\n",
    "\n",
    "roc_auc_ = []\n",
    "roc_auc_one = []\n",
    "roc_auc_two = []\n",
    "roc_auc_three = []\n",
    "roc_auc_four = []\n",
    "st_time = time.time()\n",
    "for train_index, test_index in skfold.split(X,y):\n",
    "    X_train, X_test = X[train_index], X[test_index]\n",
    "    y_train, y_test = y[train_index], y[test_index]\n",
    "    # Oversample\n",
    "    #X_train_res, y_train_res = sm.fit_sample(X_train, y_train)\n",
    "    predictions, accuracy, precision, recall, f1socre, alg_accuracy, alg_p_r_f_score = train_test_model(gb_model, X_train, X_test, y_train, y_test, labels)\n",
    "    \n",
    "    fpr_zero, tpr_zero, _ = roc_curve(y_test, gb_model.predict_proba(X_test)[:,1], pos_label=0)\n",
    "    fpr_one, tpr_one, __ = roc_curve(y_test, gb_model.predict_proba(X_test)[:,1], pos_label=1)\n",
    "    fpr_two, tpr_two, ___ = roc_curve(y_test, gb_model.predict_proba(X_test)[:,1], pos_label=2)\n",
    "    fpr_three, tpr_three, ____ = roc_curve(y_test, gb_model.predict_proba(X_test)[:,1], pos_label=3)\n",
    "    fpr_four, tpr_four, _____ = roc_curve(y_test, gb_model.predict_proba (X_test)[:,1], pos_label=4)\n",
    "\n",
    "    roc_auc_.append(auc(fpr_zero, tpr_zero))\n",
    "    roc_auc_one.append(auc(fpr_one, tpr_one))\n",
    "    roc_auc_two.append(auc(fpr_two, tpr_two))\n",
    "    roc_auc_three.append(auc(fpr_three, tpr_three))\n",
    "    roc_auc_four.append(auc(fpr_four, tpr_four))\n",
    "    \n",
    "                #javed###      \n",
    "    accuracy_.append(alg_accuracy)\n",
    "    P_r_f.append(alg_p_r_f_score)\n",
    "    #### jave ####\n",
    "\n",
    "    pe.append(predictions)\n",
    "    accs.append(accuracy)\n",
    "    f1.append(f1socre)\n",
    "    pr.append(precision)\n",
    "    re.append(recall)\n",
    "\n",
    "\n",
    "en_time = time.time()\n",
    "#print('mean predictions: {:.2f} %'.format(sum(pe) / len(pe) ))\n",
    "print('Total time: {:.2f}s'.format(en_time-st_time))   \n",
    "print('mean accuracy: {:.2f} %'.format(np.mean(accs)))\n",
    "print('mean f1 socre: {:.2f} %'.format(np.mean(f1)))\n",
    "print('mean precision: {:.2f} %'.format(np.mean(pr)))\n",
    "print('mean recall: {:.2f} %'.format(np.mean(re)))\n",
    "\n",
    "roc_zero = sum(roc_auc_) / len(roc_auc_)\n",
    "print(\"\\nROC across folds for zero: \", roc_zero)\n",
    "\n",
    "roc_one = sum(roc_auc_one) / len(roc_auc_one)\n",
    "print(\"\\nROC across folds for one: \", roc_one)\n",
    "\n",
    "roc_two = sum(roc_auc_two) / len(roc_auc_two)\n",
    "print(\"\\nROC across folds for two: \", roc_two)\n",
    "\n",
    "roc_three = sum(roc_auc_three) / len(roc_auc_three)\n",
    "print(\"\\nROC across folds for three: \", roc_three)\n",
    "\n",
    "roc_four = sum(roc_auc_four) / len(roc_auc_four)\n",
    "print(\"\\nROC across folds for four: \", roc_four)\n",
    "\n",
    "#### jave ####\n",
    "mean_accuracy= np.mean(accuracy_, axis=0)\n",
    "print(\"the average accuracy of GB is\",mean_accuracy)\n",
    "    \n",
    "mean_p_r_f=np.mean(P_r_f, axis=0)\n",
    "print(\"the presion, recall, f are\", mean_p_r_f)\n",
    "#### jave ####\n",
    "\n",
    "#print(fpr_zero)\n",
    "#print(tpr_zero)\n",
    "\n",
    "#print(metrics_report)\n",
    "unique, counts = np.unique(y_train, return_counts=True)\n",
    "print(list(zip(unique, counts)))\n",
    "plot_confusion_matrix(gb_model, X_test, y_test, display_labels=labels, xticks_rotation='vertical', cmap=\"BuPu\")"
   ]
  },
  {
   "cell_type": "code",
   "execution_count": 33,
   "metadata": {
    "colab": {
     "base_uri": "https://localhost:8080/",
     "height": 295
    },
    "id": "yFyblbVCmiL-",
    "outputId": "1f0e81a2-97f9-40c5-9c67-fe1eb732bbec"
   },
   "outputs": [
    {
     "data": {
      "image/png": "[encoded data removed]",
      "text/plain": [
       "<Figure size 432x288 with 1 Axes>"
      ]
     },
     "metadata": {
      "needs_background": "light"
     },
     "output_type": "display_data"
    }
   ],
   "source": [
    "plt.title('Receiver Operating Characteristic')\n",
    "#plt.plot(fpr_zero, tpr_zero, 'b', color='green', label= \"ROC for 0 label =\" +str(roc_zero))\n",
    "plt.plot(fpr_one, tpr_one, 'b', label= \"ROC for 1 label =\" +str(roc_one))\n",
    "#plt.plot(fpr_two, tpr_two, 'b', color='purple',  label= \"ROC for 2 label =\" +str(roc_two))\n",
    "#plt.plot(fpr_three, tpr_three, 'b', color='red',  label= \"ROC for 3 label =\" +str(roc_three))\n",
    "#plt.plot(fpr_four, tpr_four, 'b', color='yellow', label= \"ROC for 4 label =\" +str(roc_four))\n",
    "plt.legend(loc = 'lower right')\n",
    "#plt.plot([0, 1], [0, 1],'r--')\n",
    "plt.xlim([0, 1])\n",
    "plt.ylim([0, 1.05])\n",
    "plt.ylabel('True Positive Rate')\n",
    "plt.xlabel('False Positive Rate')\n",
    "plt.show()"
   ]
  },
  {
   "cell_type": "markdown",
   "metadata": {
    "id": "bozob2wRs8RR"
   },
   "source": [
    "## Ensemble Methods\n",
    "Ensemble methods are techniques that create multiple models and then combine them to produce improved results. "
   ]
  },
  {
   "cell_type": "markdown",
   "metadata": {
    "id": "5WY_At4XqnbL"
   },
   "source": [
    "### Voting Classifier"
   ]
  },
  {
   "cell_type": "code",
   "execution_count": 34,
   "metadata": {
    "colab": {
     "base_uri": "https://localhost:8080/"
    },
    "id": "nqRupNkIqrYw",
    "outputId": "40d29b3d-49f5-4634-cc57-fb4ce2ad0251"
   },
   "outputs": [
    {
     "name": "stdout",
     "output_type": "stream",
     "text": [
      "Start training...done!\n",
      "Start testing...done!\n",
      "Start training...done!\n",
      "Start testing...done!\n",
      "Start training...done!\n",
      "Start testing...done!\n",
      "Start training...done!\n",
      "Start testing...done!\n",
      "Start training...done!\n",
      "Start testing...done!\n",
      "Start training...done!\n",
      "Start testing...done!\n",
      "Start training...done!\n",
      "Start testing...done!\n",
      "Start training...done!\n",
      "Start testing...done!\n",
      "Start training...done!\n",
      "Start testing...done!\n",
      "Start training...done!\n",
      "Start testing...done!\n",
      "Total time: 2847.57s\n",
      "mean accuracy: 0.97 %\n",
      "mean f1 socre: 0.97 %\n",
      "mean precision: 0.97 %\n",
      "mean recall: 0.97 %\n",
      "the average accuracy of Voting is 0.9681375434293888\n",
      "the presion, recall, f are [[  0.94765726   0.98745996   0.96782219   0.97848113]\n",
      " [  0.95648783   0.98594612   0.9772813    0.95734564]\n",
      " [  0.95192393   0.9865962    0.97247683   0.9676119 ]\n",
      " [156.2         78.5        272.9        192.3       ]]\n",
      "[(0, 1406), (1, 706), (2, 2457), (3, 1731)]\n"
     ]
    },
    {
     "data": {
      "text/plain": [
       "<sklearn.metrics._plot.confusion_matrix.ConfusionMatrixDisplay at 0x1e324531e88>"
      ]
     },
     "execution_count": 34,
     "metadata": {},
     "output_type": "execute_result"
    },
    {
     "data": {
      "image/png": "[encoded data removed]",
      "text/plain": [
       "<Figure size 432x288 with 2 Axes>"
      ]
     },
     "metadata": {
      "needs_background": "light"
     },
     "output_type": "display_data"
    }
   ],
   "source": [
    "mlp_model = MLPClassifier(random_state=1, max_iter=300)\n",
    "\n",
    "vote_model = VotingClassifier(estimators=[('mlp', mlp_model),('mlp1', mlp_model)], voting='soft')\n",
    "\n",
    "accs = []\n",
    "reports = []\n",
    "f1 = []\n",
    "pr = []\n",
    "re =[]\n",
    "\n",
    "#javed#\n",
    "accuracy_ = []\n",
    "P_r_f = []\n",
    "\n",
    "mean_accuracy= []\n",
    "mean_p_r_f =[]\n",
    "##javed###\n",
    "\n",
    "#\n",
    "roc_auc_ = []\n",
    "roc_auc_one = []\n",
    "roc_auc_two = []\n",
    "roc_auc_three = []\n",
    "roc_auc_four = []\n",
    "\n",
    "tprs_zero_v = []\n",
    "tprs_one_v = []\n",
    "tprs_two_v = []\n",
    "tprs_three_v = []\n",
    "tprs_four_v = []\n",
    "\n",
    "mean_fpr_v = np.linspace(0,1,100)\n",
    "#\n",
    "st_time = time.time()\n",
    "for train_index, test_index in skfold.split(X,y):\n",
    "    X_train, X_test = X[train_index], X[test_index]\n",
    "    y_train, y_test = y[train_index], y[test_index]\n",
    "    # Oversample\n",
    "    # X_train_res, y_train_res = sm.fit_sample(X_train, y_train)\n",
    "    predictions, accuracy, f1socre, precision, recall, alg_accuracy, alg_p_r_f_score = train_test_model(vote_model, X_train, X_test, y_train, y_test, labels)\n",
    "    accs.append(accuracy)\n",
    "    f1.append(f1socre)\n",
    "    pr.append(precision)\n",
    "    re.append(recall)\n",
    "    #reports.append(metrics_report)\n",
    "    fpr_four_v, tpr_four_v, _____ = roc_curve(y_test, vote_model.predict_proba (X_test)[:,3], pos_label=3)     #\n",
    "    tprs_four_v.append(interp(mean_fpr_v, fpr_four_v, tpr_four_v))                                             #\n",
    "    roc_auc_four = (auc(fpr_four_v, tpr_four_v))                                                               #\n",
    "    \n",
    "\n",
    "    \n",
    "                #javed###      \n",
    "    accuracy_.append(alg_accuracy)\n",
    "    P_r_f.append(alg_p_r_f_score)\n",
    "    #### jave ####\n",
    "\n",
    "en_time = time.time()\n",
    "print('Total time: {:.2f}s'.format(en_time-st_time)) \n",
    "print('mean accuracy: {:.2f} %'.format(np.mean(accs)))\n",
    "print('mean f1 socre: {:.2f} %'.format(np.mean(f1)))\n",
    "print('mean precision: {:.2f} %'.format(np.mean(pr)))\n",
    "print('mean recall: {:.2f} %'.format(np.mean(re)))\n",
    "\n",
    "#\n",
    "mean_tpr_v = np.mean(tprs_four_v, axis=0)\n",
    "mean_auc_v = auc(mean_fpr_v, mean_tpr_v)\n",
    "#\n",
    "#### jave ####\n",
    "mean_accuracy= np.mean(accuracy_, axis=0)\n",
    "print(\"the average accuracy of Voting is\",mean_accuracy)\n",
    "    \n",
    "mean_p_r_f=np.mean(P_r_f, axis=0)\n",
    "print(\"the presion, recall, f are\", mean_p_r_f)\n",
    "#### jave ####\n",
    "\n",
    "unique, counts = np.unique(y_train, return_counts=True)\n",
    "print(list(zip(unique, counts)))\n",
    "plot_confusion_matrix(vote_model, X_test, y_test, display_labels=labels, xticks_rotation='vertical', cmap=\"BuPu\")"
   ]
  },
  {
   "cell_type": "code",
   "execution_count": 35,
   "metadata": {},
   "outputs": [
    {
     "data": {
      "image/png": "[encoded data removed]",
      "text/plain": [
       "<Figure size 432x288 with 1 Axes>"
      ]
     },
     "metadata": {
      "needs_background": "light"
     },
     "output_type": "display_data"
    }
   ],
   "source": [
    "plt.title('Receiver Operating Characteristic')\n",
    "plt.plot(mean_fpr_v, mean_tpr_v, 'b', color='purple', label= \"ROC for Oversampling (Voting Classifier)=\" +str(mean_auc_v),lw=2, alpha=1)\n",
    "plt.legend(loc = 'lower right')\n",
    "plt.xlim([0, 1])\n",
    "plt.ylim([0, 1.05])\n",
    "plt.ylabel('True Positive Rate')\n",
    "plt.xlabel('False Positive Rate')\n",
    "plt.show()"
   ]
  },
  {
   "cell_type": "markdown",
   "metadata": {
    "id": "IO3tiy-3UDKh"
   },
   "source": [
    "### AdaBoost\n",
    "The core principle of AdaBoost is to fit a sequence of weak learners (i.e., models that are only slightly better than random guessing, such as small decision trees) on repeatedly modified versions of the data."
   ]
  },
  {
   "cell_type": "code",
   "execution_count": 36,
   "metadata": {
    "colab": {
     "base_uri": "https://localhost:8080/"
    },
    "id": "TiSlquVWUODN",
    "outputId": "8a87a81a-4d02-46ff-e74c-b5d745676133"
   },
   "outputs": [
    {
     "name": "stdout",
     "output_type": "stream",
     "text": [
      "Start training...done!\n",
      "Start testing...done!\n",
      "Start training...done!\n",
      "Start testing...done!\n",
      "Start training...done!\n",
      "Start testing...done!\n",
      "Start training...done!\n",
      "Start testing...done!\n",
      "Start training...done!\n",
      "Start testing...done!\n",
      "Start training...done!\n",
      "Start testing...done!\n",
      "Start training...done!\n",
      "Start testing...done!\n",
      "Start training...done!\n",
      "Start testing...done!\n",
      "Start training...done!\n",
      "Start testing...done!\n",
      "Start training...done!\n",
      "Start testing...done!\n",
      "Total time: 96.49s\n",
      "mean accuracy: 0.59 %\n",
      "mean f1 socre: 0.61 %\n",
      "mean precision: 0.59 %\n",
      "mean recall: 0.59 %\n",
      "the average accuracy of AdaBoost is 0.5927939914163091\n",
      "the presion, recall, f are [[  0.5119922    0.89212384   0.6004225    0.57070345]\n",
      " [  0.59921607   0.77195716   0.52104476   0.61617822]\n",
      " [  0.5509638    0.82703422   0.55506465   0.58854912]\n",
      " [156.2         78.5        272.9        192.3       ]]\n",
      "[(0, 1406), (1, 706), (2, 2457), (3, 1731)]\n"
     ]
    },
    {
     "data": {
      "text/plain": [
       "<sklearn.metrics._plot.confusion_matrix.ConfusionMatrixDisplay at 0x1e326fee0c8>"
      ]
     },
     "execution_count": 36,
     "metadata": {},
     "output_type": "execute_result"
    },
    {
     "data": {
      "image/png": "[encoded data removed]",
      "text/plain": [
       "<Figure size 432x288 with 2 Axes>"
      ]
     },
     "metadata": {
      "needs_background": "light"
     },
     "output_type": "display_data"
    }
   ],
   "source": [
    "ada_model = AdaBoostClassifier(n_estimators=500)\n",
    "\n",
    "accs = []\n",
    "reports = []\n",
    "f1 = []\n",
    "pr = []\n",
    "re =[]\n",
    "\n",
    "#javed#\n",
    "accuracy_ = []\n",
    "P_r_f = []\n",
    "\n",
    "mean_accuracy= []\n",
    "mean_p_r_f =[]\n",
    "##javed###\n",
    "\n",
    "st_time = time.time()\n",
    "for train_index, test_index in skfold.split(X,y):\n",
    "    X_train, X_test = X[train_index], X[test_index]\n",
    "    y_train, y_test = y[train_index], y[test_index]\n",
    "    # Oversample\n",
    "    # X_train_res, y_train_res = sm.fit_sample(X_train, y_train)\n",
    "    predictions, accuracy, f1socre, precision, recall, alg_accuracy, alg_p_r_f_score = train_test_model(ada_model, X_train, X_test, y_train, y_test, labels)\n",
    "    accs.append(accuracy)\n",
    "    f1.append(f1socre)\n",
    "    pr.append(precision)\n",
    "    re.append(recall)\n",
    "    #reports.append(metrics_report)\n",
    "    \n",
    "        \n",
    "                #javed###      \n",
    "    accuracy_.append(alg_accuracy)\n",
    "    P_r_f.append(alg_p_r_f_score)\n",
    "    #### jave ####\n",
    "\n",
    "en_time = time.time()\n",
    "print('Total time: {:.2f}s'.format(en_time-st_time)) \n",
    "print('mean accuracy: {:.2f} %'.format(np.mean(accs)))\n",
    "print('mean f1 socre: {:.2f} %'.format(np.mean(f1)))\n",
    "print('mean precision: {:.2f} %'.format(np.mean(pr)))\n",
    "print('mean recall: {:.2f} %'.format(np.mean(re)))\n",
    "\n",
    "#### jave ####\n",
    "mean_accuracy= np.mean(accuracy_, axis=0)\n",
    "print(\"the average accuracy of AdaBoost is\",mean_accuracy)\n",
    "    \n",
    "mean_p_r_f=np.mean(P_r_f, axis=0)\n",
    "print(\"the presion, recall, f are\", mean_p_r_f)\n",
    "#### jave ####\n",
    "\n",
    "unique, counts = np.unique(y_train, return_counts=True)\n",
    "print(list(zip(unique, counts)))\n",
    "plot_confusion_matrix(ada_model, X_test, y_test, display_labels=labels, xticks_rotation='vertical', cmap=\"BuPu\")"
   ]
  },
  {
   "cell_type": "markdown",
   "metadata": {
    "id": "bOot5L2NAmuo"
   },
   "source": [
    "# Undersampling"
   ]
  },
  {
   "cell_type": "markdown",
   "metadata": {
    "id": "8ZZB1SqCCWFT"
   },
   "source": [
    "### MultinomialNB"
   ]
  },
  {
   "cell_type": "code",
   "execution_count": 37,
   "metadata": {
    "colab": {
     "base_uri": "https://localhost:8080/"
    },
    "id": "-pH3YKFZeQD0",
    "outputId": "0a924428-633d-49b0-a2f1-c5cb5f750796"
   },
   "outputs": [
    {
     "name": "stdout",
     "output_type": "stream",
     "text": [
      "Start training...done!\n",
      "Start testing...done!\n",
      "Start training...done!\n",
      "Start testing...done!\n",
      "Start training...done!\n",
      "Start testing...done!\n",
      "Start training...done!\n",
      "Start testing...done!\n",
      "Start training...done!\n",
      "Start testing...done!\n",
      "Start training...done!\n",
      "Start testing...done!\n",
      "Start training...done!\n",
      "Start testing...done!\n",
      "Start training...done!\n",
      "Start testing...done!\n",
      "Start training...done!\n",
      "Start testing...done!\n",
      "Start training...done!\n",
      "Start testing...done!\n",
      "Total time: 0.64s\n",
      "mean accuracy: 0.68 %\n",
      "mean f1 socre: 0.71 %\n",
      "mean precision: 0.68 %\n",
      "mean recall: 0.68 %\n",
      "\n",
      "ROC across folds for zero:  0.354395958866786\n",
      "\n",
      "ROC across folds for one:  0.9675505828932719\n",
      "\n",
      "ROC across folds for two:  0.5065012937709763\n",
      "\n",
      "ROC across folds for three:  0.3852839488234626\n",
      "\n",
      "ROC across folds for four:  nan\n",
      "the average accuracy of NBM is 0.6778132025342326\n",
      "the presion, recall, f are [[  0.65562703   0.51064964   0.81310451   0.68454738]\n",
      " [  0.71510697   0.89811749   0.572009     0.70769376]\n",
      " [  0.68374184   0.650447     0.67088812   0.69541243]\n",
      " [156.2         78.5        272.9        192.3       ]]\n",
      "[(0, 2457), (1, 2457), (2, 2457), (3, 2457)]\n"
     ]
    },
    {
     "data": {
      "text/plain": [
       "<sklearn.metrics._plot.confusion_matrix.ConfusionMatrixDisplay at 0x1e3268a5388>"
      ]
     },
     "execution_count": 37,
     "metadata": {},
     "output_type": "execute_result"
    },
    {
     "data": {
      "image/png": "[encoded data removed]",
      "text/plain": [
       "<Figure size 432x288 with 2 Axes>"
      ]
     },
     "metadata": {
      "needs_background": "light"
     },
     "output_type": "display_data"
    }
   ],
   "source": [
    "nb_model = MultinomialNB()\n",
    "\n",
    "accs = []\n",
    "reports = []\n",
    "f1 = []\n",
    "pr = []\n",
    "re = []\n",
    "pe = []\n",
    "\n",
    "#javed#\n",
    "accuracy_ = []\n",
    "P_r_f = []\n",
    "\n",
    "mean_accuracy= []\n",
    "mean_p_r_f =[]\n",
    "##javed###\n",
    "\n",
    "roc_auc_ = []\n",
    "roc_auc_one = []\n",
    "roc_auc_two = []\n",
    "roc_auc_three = []\n",
    "roc_auc_four = []\n",
    "st_time = time.time()\n",
    "for train_index, test_index in skfold.split(X,y):\n",
    "    X_train, X_test = X[train_index], X[test_index]\n",
    "    y_train, y_test = y[train_index], y[test_index]\n",
    "    # Undersampling\n",
    "    X_train_under, y_train_under = rus.fit_resample(X_train, y_train)\n",
    "    predictions, accuracy, f1socre, precision, recall, alg_accuracy, alg_p_r_f_score = train_test_model(nb_model, X_train_under, X_test, y_train_under, y_test, labels)\n",
    "\n",
    "    fpr_zero, tpr_zero, _ = roc_curve(y_test, nb_model.predict_proba(X_test)[:,1], pos_label=0)\n",
    "    fpr_one, tpr_one, __ = roc_curve(y_test, nb_model.predict_proba(X_test)[:,1], pos_label=1)\n",
    "    fpr_two, tpr_two, ___ = roc_curve(y_test, nb_model.predict_proba(X_test)[:,1], pos_label=2)\n",
    "    fpr_three, tpr_three, ____ = roc_curve(y_test, nb_model.predict_proba(X_test)[:,1], pos_label=3)\n",
    "    fpr_four, tpr_four, _____ = roc_curve(y_test, nb_model.predict_proba (X_test)[:,1], pos_label=4)\n",
    "\n",
    "    roc_auc_.append(auc(fpr_zero, tpr_zero))\n",
    "    roc_auc_one.append(auc(fpr_one, tpr_one))\n",
    "    roc_auc_two.append(auc(fpr_two, tpr_two))\n",
    "    roc_auc_three.append(auc(fpr_three, tpr_three))\n",
    "    roc_auc_four.append(auc(fpr_four, tpr_four))\n",
    "    \n",
    "                 #javed###      \n",
    "    accuracy_.append(alg_accuracy)\n",
    "    P_r_f.append(alg_p_r_f_score)\n",
    "    #### jave ####\n",
    "\n",
    "    pe.append(predictions)\n",
    "    accs.append(accuracy)\n",
    "    f1.append(f1socre)\n",
    "    pr.append(precision)\n",
    "    re.append(recall)\n",
    "\n",
    "\n",
    "en_time = time.time()\n",
    "#print('mean predictions: {:.2f} %'.format(sum(pe) / len(pe) ))\n",
    "print('Total time: {:.2f}s'.format(en_time-st_time))   \n",
    "print('mean accuracy: {:.2f} %'.format(np.mean(accs)))\n",
    "print('mean f1 socre: {:.2f} %'.format(np.mean(f1)))\n",
    "print('mean precision: {:.2f} %'.format(np.mean(pr)))\n",
    "print('mean recall: {:.2f} %'.format(np.mean(re)))\n",
    "\n",
    "roc_zero = sum(roc_auc_) / len(roc_auc_)\n",
    "print(\"\\nROC across folds for zero: \", roc_zero)\n",
    "\n",
    "roc_one = sum(roc_auc_one) / len(roc_auc_one)\n",
    "print(\"\\nROC across folds for one: \", roc_one)\n",
    "\n",
    "roc_two = sum(roc_auc_two) / len(roc_auc_two)\n",
    "print(\"\\nROC across folds for two: \", roc_two)\n",
    "\n",
    "roc_three = sum(roc_auc_three) / len(roc_auc_three)\n",
    "print(\"\\nROC across folds for three: \", roc_three)\n",
    "\n",
    "roc_four = sum(roc_auc_four) / len(roc_auc_four)\n",
    "print(\"\\nROC across folds for four: \", roc_four)\n",
    "\n",
    "#### jave ####\n",
    "mean_accuracy= np.mean(accuracy_, axis=0)\n",
    "print(\"the average accuracy of NBM is\",mean_accuracy)\n",
    "    \n",
    "mean_p_r_f=np.mean(P_r_f, axis=0)\n",
    "print(\"the presion, recall, f are\", mean_p_r_f)\n",
    "#### jave ####\n",
    "\n",
    "#print(fpr_zero)\n",
    "#print(tpr_zero)\n",
    "\n",
    "#print(metrics_report)\n",
    "unique, counts = np.unique(y_train_res, return_counts=True)\n",
    "print(list(zip(unique, counts)))\n",
    "plot_confusion_matrix(nb_model, X_test, y_test, display_labels=labels, xticks_rotation='vertical', cmap=\"BuPu\")"
   ]
  },
  {
   "cell_type": "code",
   "execution_count": 38,
   "metadata": {
    "id": "nWsSNHhem61y"
   },
   "outputs": [
    {
     "data": {
      "image/png": "[encoded data removed]",
      "text/plain": [
       "<Figure size 432x288 with 1 Axes>"
      ]
     },
     "metadata": {
      "needs_background": "light"
     },
     "output_type": "display_data"
    }
   ],
   "source": [
    "plt.title('Receiver Operating Characteristic')\n",
    "#plt.plot(fpr_zero, tpr_zero, 'b', color='green', label= \"ROC for 0 label =\" +str(roc_zero))\n",
    "plt.plot(fpr_one, tpr_one, 'b', label= \"ROC for 1 label =\" +str(roc_one))\n",
    "#plt.plot(fpr_two, tpr_two, 'b', color='purple',  label= \"ROC for 2 label =\" +str(roc_two))\n",
    "#plt.plot(fpr_three, tpr_three, 'b', color='red',  label= \"ROC for 3 label =\" +str(roc_three))\n",
    "#plt.plot(fpr_four, tpr_four, 'b', color='yellow', label= \"ROC for 4 label =\" +str(roc_four))\n",
    "plt.legend(loc = 'lower right')\n",
    "#plt.plot([0, 1], [0, 1],'r--')\n",
    "plt.xlim([0, 1])\n",
    "plt.ylim([0, 1.05])\n",
    "plt.ylabel('True Positive Rate')\n",
    "plt.xlabel('False Positive Rate')\n",
    "plt.show()"
   ]
  },
  {
   "cell_type": "markdown",
   "metadata": {
    "id": "I9jNvpbfCnBf"
   },
   "source": [
    "### LogisticRegression"
   ]
  },
  {
   "cell_type": "code",
   "execution_count": 39,
   "metadata": {
    "colab": {
     "base_uri": "https://localhost:8080/"
    },
    "id": "9EkN811rBp-_",
    "outputId": "5b6b0fe8-9611-44cc-b502-0db0b6fe47b1"
   },
   "outputs": [
    {
     "name": "stdout",
     "output_type": "stream",
     "text": [
      "Start training...done!\n",
      "Start testing...done!\n",
      "Start training...done!\n",
      "Start testing...done!\n",
      "Start training...done!\n",
      "Start testing...done!\n",
      "Start training...done!\n",
      "Start testing...done!\n",
      "Start training...done!\n",
      "Start testing...done!\n",
      "Start training...done!\n",
      "Start testing...done!\n",
      "Start training...done!\n",
      "Start testing...done!\n",
      "Start training...done!\n",
      "Start testing...done!\n",
      "Start training...done!\n",
      "Start testing...done!\n",
      "Start training...done!\n",
      "Start testing...done!\n",
      "Total time: 6.60s\n",
      "mean accuracy: 0.75 %\n",
      "mean f1 socre: 0.75 %\n",
      "mean precision: 0.75 %\n",
      "mean recall: 0.75 %\n",
      "\n",
      "ROC across folds for zero:  0.39126993362481266\n",
      "\n",
      "ROC across folds for one:  0.9812647270166414\n",
      "\n",
      "ROC across folds for two:  0.49898232464486425\n",
      "\n",
      "ROC across folds for three:  0.3553302660075874\n",
      "\n",
      "ROC across folds for four:  nan\n",
      "the average accuracy of LR is 0.7461056611485797\n",
      "the presion, recall, f are [[  0.71603912   0.7051487    0.7774325    0.75466604]\n",
      " [  0.74133595   0.91084064   0.72187971   0.71704987]\n",
      " [  0.72803584   0.79438371   0.74825611   0.73488773]\n",
      " [156.2         78.5        272.9        192.3       ]]\n",
      "[(0, 2457), (1, 2457), (2, 2457), (3, 2457)]\n"
     ]
    },
    {
     "data": {
      "text/plain": [
       "<sklearn.metrics._plot.confusion_matrix.ConfusionMatrixDisplay at 0x1e327082548>"
      ]
     },
     "execution_count": 39,
     "metadata": {},
     "output_type": "execute_result"
    },
    {
     "data": {
      "image/png": "[encoded data removed]",
      "text/plain": [
       "<Figure size 432x288 with 2 Axes>"
      ]
     },
     "metadata": {
      "needs_background": "light"
     },
     "output_type": "display_data"
    }
   ],
   "source": [
    "log_model = LogisticRegression(penalty='l2', max_iter=500)\n",
    "\n",
    "accs = []\n",
    "reports = []\n",
    "f1 = []\n",
    "pr = []\n",
    "re = []\n",
    "pe = []\n",
    "\n",
    "#javed#\n",
    "accuracy_ = []\n",
    "P_r_f = []\n",
    "\n",
    "mean_accuracy= []\n",
    "mean_p_r_f =[]\n",
    "##javed###\n",
    "\n",
    "roc_auc_ = []\n",
    "roc_auc_one = []\n",
    "roc_auc_two = []\n",
    "roc_auc_three = []\n",
    "roc_auc_four = []\n",
    "st_time = time.time()\n",
    "for train_index, test_index in skfold.split(X,y):\n",
    "    X_train, X_test = X[train_index], X[test_index]\n",
    "    y_train, y_test = y[train_index], y[test_index]\n",
    "    # Undersampling\n",
    "    X_train_under, y_train_under = rus.fit_resample(X_train, y_train)\n",
    "    predictions, accuracy, f1socre, precision, recall, alg_accuracy, alg_p_r_f_score = train_test_model(log_model, X_train_under, X_test, y_train_under, y_test, labels)\n",
    "\n",
    "    fpr_zero, tpr_zero, _ = roc_curve(y_test, log_model.predict_proba(X_test)[:,1], pos_label=0)\n",
    "    fpr_one, tpr_one, __ = roc_curve(y_test, log_model.predict_proba(X_test)[:,1], pos_label=1)\n",
    "    fpr_two, tpr_two, ___ = roc_curve(y_test, log_model.predict_proba(X_test)[:,1], pos_label=2)\n",
    "    fpr_three, tpr_three, ____ = roc_curve(y_test, log_model.predict_proba(X_test)[:,1], pos_label=3)\n",
    "    fpr_four, tpr_four, _____ = roc_curve(y_test, log_model.predict_proba (X_test)[:,1], pos_label=4)\n",
    "\n",
    "    roc_auc_.append(auc(fpr_zero, tpr_zero))\n",
    "    roc_auc_one.append(auc(fpr_one, tpr_one))\n",
    "    roc_auc_two.append(auc(fpr_two, tpr_two))\n",
    "    roc_auc_three.append(auc(fpr_three, tpr_three))\n",
    "    roc_auc_four.append(auc(fpr_four, tpr_four))\n",
    "    \n",
    "                     #javed###      \n",
    "    accuracy_.append(alg_accuracy)\n",
    "    P_r_f.append(alg_p_r_f_score)\n",
    "    #### jave ####\n",
    "\n",
    "\n",
    "    pe.append(predictions)\n",
    "    accs.append(accuracy)\n",
    "    f1.append(f1socre)\n",
    "    pr.append(precision)\n",
    "    re.append(recall)\n",
    "\n",
    "\n",
    "en_time = time.time()\n",
    "#print('mean predictions: {:.2f} %'.format(sum(pe) / len(pe) ))\n",
    "print('Total time: {:.2f}s'.format(en_time-st_time))   \n",
    "print('mean accuracy: {:.2f} %'.format(np.mean(accs)))\n",
    "print('mean f1 socre: {:.2f} %'.format(np.mean(f1)))\n",
    "print('mean precision: {:.2f} %'.format(np.mean(pr)))\n",
    "print('mean recall: {:.2f} %'.format(np.mean(re)))\n",
    "\n",
    "roc_zero = sum(roc_auc_) / len(roc_auc_)\n",
    "print(\"\\nROC across folds for zero: \", roc_zero)\n",
    "\n",
    "roc_one = sum(roc_auc_one) / len(roc_auc_one)\n",
    "print(\"\\nROC across folds for one: \", roc_one)\n",
    "\n",
    "roc_two = sum(roc_auc_two) / len(roc_auc_two)\n",
    "print(\"\\nROC across folds for two: \", roc_two)\n",
    "\n",
    "roc_three = sum(roc_auc_three) / len(roc_auc_three)\n",
    "print(\"\\nROC across folds for three: \", roc_three)\n",
    "\n",
    "roc_four = sum(roc_auc_four) / len(roc_auc_four)\n",
    "print(\"\\nROC across folds for four: \", roc_four)\n",
    "\n",
    "#### jave ####\n",
    "mean_accuracy= np.mean(accuracy_, axis=0)\n",
    "print(\"the average accuracy of LR is\",mean_accuracy)\n",
    "    \n",
    "mean_p_r_f=np.mean(P_r_f, axis=0)\n",
    "print(\"the presion, recall, f are\", mean_p_r_f)\n",
    "#### jave ####\n",
    "\n",
    "#print(fpr_zero)\n",
    "#print(tpr_zero)\n",
    "\n",
    "#print(metrics_report)\n",
    "unique, counts = np.unique(y_train_res, return_counts=True)\n",
    "print(list(zip(unique, counts)))\n",
    "plot_confusion_matrix(log_model, X_test, y_test, display_labels=labels, xticks_rotation='vertical', cmap=\"BuPu\")"
   ]
  },
  {
   "cell_type": "code",
   "execution_count": 40,
   "metadata": {
    "id": "LMyOK3WanLc4"
   },
   "outputs": [
    {
     "data": {
      "image/png": "[encoded data removed]",
      "text/plain": [
       "<Figure size 432x288 with 1 Axes>"
      ]
     },
     "metadata": {
      "needs_background": "light"
     },
     "output_type": "display_data"
    }
   ],
   "source": [
    "plt.title('Receiver Operating Characteristic')\n",
    "plt.plot(fpr_zero, tpr_zero, 'b', color='green', label= \"ROC for 0 label =\" +str(roc_zero))\n",
    "plt.plot(fpr_one, tpr_one, 'b', label= \"ROC for 1 label =\" +str(roc_one))\n",
    "plt.plot(fpr_two, tpr_two, 'b', color='purple',  label= \"ROC for 2 label =\" +str(roc_two))\n",
    "#plt.plot(fpr_three, tpr_three, 'b', color='red',  label= \"ROC for 3 label =\" +str(roc_three))\n",
    "#plt.plot(fpr_four, tpr_four, 'b', color='yellow', label= \"ROC for 4 label =\" +str(roc_four))\n",
    "plt.legend(loc = 'lower right')\n",
    "#plt.plot([0, 1], [0, 1],'r--')\n",
    "plt.xlim([0, 1])\n",
    "plt.ylim([0, 1.05])\n",
    "plt.ylabel('True Positive Rate')\n",
    "plt.xlabel('False Positive Rate')\n",
    "plt.show()"
   ]
  },
  {
   "cell_type": "markdown",
   "metadata": {
    "id": "ZZ3FEv5sEqxR"
   },
   "source": [
    "### LinearSVC"
   ]
  },
  {
   "cell_type": "code",
   "execution_count": 41,
   "metadata": {
    "colab": {
     "base_uri": "https://localhost:8080/"
    },
    "id": "JveUtlK-Eqhl",
    "outputId": "956f7257-5b6e-4aaf-ed80-ac47e5bf1c8d"
   },
   "outputs": [
    {
     "name": "stdout",
     "output_type": "stream",
     "text": [
      "Start training...done!\n",
      "Start testing...done!\n",
      "Start training...done!\n",
      "Start testing...done!\n",
      "Start training...done!\n",
      "Start testing...done!\n",
      "Start training...done!\n",
      "Start testing...done!\n",
      "Start training...done!\n",
      "Start testing...done!\n",
      "Start training...done!\n",
      "Start testing...done!\n",
      "Start training...done!\n",
      "Start testing...done!\n",
      "Start training...done!\n",
      "Start testing...done!\n",
      "Start training...done!\n",
      "Start testing...done!\n",
      "Start training...done!\n",
      "Start testing...done!\n",
      "Total time: 0.74s\n",
      "mean accuracy: 0.73 %\n",
      "mean f1 socre: 0.74 %\n",
      "mean precision: 0.73 %\n",
      "mean recall: 0.73 %\n",
      "the average accuracy of SVC is 0.7325336194563662\n",
      "the presion, recall, f are [[  0.71653122   0.65110852   0.78223674   0.7319989 ]\n",
      " [  0.72598399   0.90702694   0.6944018    0.72067951]\n",
      " [  0.72098171   0.7575501    0.73537753   0.72553563]\n",
      " [156.2         78.5        272.9        192.3       ]]\n",
      "0.8923403786132025\n",
      "[(0, 2457), (1, 2457), (2, 2457), (3, 2457)]\n"
     ]
    },
    {
     "data": {
      "text/plain": [
       "<sklearn.metrics._plot.confusion_matrix.ConfusionMatrixDisplay at 0x1e327109f88>"
      ]
     },
     "execution_count": 41,
     "metadata": {},
     "output_type": "execute_result"
    },
    {
     "data": {
      "image/png": "[encoded data removed]",
      "text/plain": [
       "<Figure size 432x288 with 2 Axes>"
      ]
     },
     "metadata": {
      "needs_background": "light"
     },
     "output_type": "display_data"
    }
   ],
   "source": [
    "svm = LinearSVC(class_weight='balanced', verbose=False, max_iter=10000, tol=1e-4, C=0.1)\n",
    "\n",
    "accs = []\n",
    "reports = []\n",
    "f1 = []\n",
    "pr = []\n",
    "re = []\n",
    "pe = []\n",
    "\n",
    "#javed#\n",
    "accuracy_ = []\n",
    "P_r_f = []\n",
    "\n",
    "mean_accuracy= []\n",
    "mean_p_r_f =[]\n",
    "##javed###\n",
    "\n",
    "roc_auc_ = []\n",
    "roc_auc_one = []\n",
    "roc_auc_two = []\n",
    "roc_auc_three = []\n",
    "roc_auc_four_svm = []\n",
    "\n",
    "tprs_zero_svm_under = []\n",
    "tprs_one_svm_under = []\n",
    "tprs_two_svm_under = []\n",
    "tprs_three_svm_under = []\n",
    "tprs_four_svm_under = []\n",
    "\n",
    "mean_fpr_svm_under = np.linspace(0,1,100)\n",
    "\n",
    "st_time = time.time()\n",
    "for train_index, test_index in skfold.split(X,y):\n",
    "    X_train, X_test = X[train_index], X[test_index]\n",
    "    y_train, y_test = y[train_index], y[test_index]\n",
    "    # Undersampling\n",
    "    X_train_under, y_train_under = rus.fit_resample(X_train, y_train)\n",
    "    predictions, accuracy, f1socre, precision, recall, alg_accuracy, alg_p_r_f_score = train_test_model(svm, X_train_under, X_test, y_train_under, y_test, labels)\n",
    "\n",
    "    #fpr_zero, tpr_zero, _ = roc_curve(y_test, svm.decision_function(X_test)[:,1], pos_label=0)\n",
    "    #fpr_one, tpr_one, __ = roc_curve(y_test, svm.decision_function(X_test)[:,1], pos_label=1)\n",
    "    #fpr_two, tpr_two, ___ = roc_curve(y_test, svm.decision_function(X_test)[:,1], pos_label=2)\n",
    "    #fpr_three, tpr_three, ____ = roc_curve(y_test, svm.decision_function(X_test)[:,1], pos_label=3)\n",
    "    fpr_four_under_svm, tpr_four_under_svm, _____ = roc_curve(y_test, svm.decision_function (X_test)[:,3], pos_label=3)\n",
    "\n",
    "    tprs_four_svm_under.append(interp(mean_fpr_svm_under, fpr_four_under_svm, tpr_four_under_svm))\n",
    "    \n",
    "    #roc_auc_one = (auc(fpr_zero, tpr_zero))\n",
    "    #roc_auc_one = (auc(fpr_one, tpr_one))\n",
    "    #roc_auc_two = (auc(fpr_two, tpr_two))\n",
    "    #roc_auc_three = (auc(fpr_three, tpr_three))\n",
    "    roc_auc_four = (auc(fpr_four_under_svm, tpr_four_under_svm))\n",
    "    \n",
    "                         #javed###      \n",
    "    accuracy_.append(alg_accuracy)\n",
    "    P_r_f.append(alg_p_r_f_score)\n",
    "    #### jave ####\n",
    "\n",
    "\n",
    "    pe.append(predictions)\n",
    "    accs.append(accuracy)\n",
    "    f1.append(f1socre)\n",
    "    pr.append(precision)\n",
    "    re.append(recall)\n",
    "\n",
    "\n",
    "en_time = time.time()\n",
    "#print('mean predictions: {:.2f} %'.format(sum(pe) / len(pe) ))\n",
    "print('Total time: {:.2f}s'.format(en_time-st_time))   \n",
    "print('mean accuracy: {:.2f} %'.format(np.mean(accs)))\n",
    "print('mean f1 socre: {:.2f} %'.format(np.mean(f1)))\n",
    "print('mean precision: {:.2f} %'.format(np.mean(pr)))\n",
    "print('mean recall: {:.2f} %'.format(np.mean(re)))\n",
    "\n",
    "#roc_zero = sum(roc_auc_) / len(roc_auc_)\n",
    "#print(\"\\nROC across folds for zero: \", roc_zero)\n",
    "\n",
    "#roc_one = sum(roc_auc_one) / len(roc_auc_one)\n",
    "#print(\"\\nROC across folds for one: \", roc_one)\n",
    "\n",
    "#roc_two = sum(roc_auc_two) / len(roc_auc_two)\n",
    "#print(\"\\nROC across folds for two: \", roc_two)\n",
    "\n",
    "#roc_three = sum(roc_auc_three) / len(roc_auc_three)\n",
    "#print(\"\\nROC across folds for three: \", roc_three)\n",
    "\n",
    "#roc_four_under_svm = sum(roc_auc_four_svm) / len(roc_auc_four_svm)\n",
    "#print(\"\\nROC across folds for four: \", roc_four_under_svm)\n",
    "\n",
    "mean_tpr_svm_under = np.mean(tprs_four_svm_under, axis=0)\n",
    "mean_auc_svm_under = auc(mean_fpr_svm_under, mean_tpr_svm_under)\n",
    "\n",
    "#### jave ####\n",
    "mean_accuracy= np.mean(accuracy_, axis=0)\n",
    "print(\"the average accuracy of SVC is\",mean_accuracy)\n",
    "    \n",
    "mean_p_r_f=np.mean(P_r_f, axis=0)\n",
    "print(\"the presion, recall, f are\", mean_p_r_f)\n",
    "#### jave ####\n",
    "\n",
    "#print(mean_tpr_svm_under)\n",
    "#print(mean_fpr_svm_under)\n",
    "print(mean_auc_svm_under)\n",
    "\n",
    "#print(metrics_report)\n",
    "unique, counts = np.unique(y_train_res, return_counts=True)\n",
    "print(list(zip(unique, counts)))\n",
    "plot_confusion_matrix(svm, X_test, y_test, display_labels=labels, xticks_rotation='vertical', cmap=\"BuPu\")"
   ]
  },
  {
   "cell_type": "code",
   "execution_count": 42,
   "metadata": {
    "colab": {
     "base_uri": "https://localhost:8080/",
     "height": 294
    },
    "id": "eH6gGNexngcH",
    "outputId": "36b2a975-3382-42bb-b99f-90c047bcfcda"
   },
   "outputs": [
    {
     "data": {
      "image/png": "[encoded data removed]",
      "text/plain": [
       "<Figure size 432x288 with 1 Axes>"
      ]
     },
     "metadata": {
      "needs_background": "light"
     },
     "output_type": "display_data"
    }
   ],
   "source": [
    "plt.title('Receiver Operating Characteristic')\n",
    "#plt.plot(fpr_zero, tpr_zero, 'b', color='green', label= \"ROC for 0 label =\" +str(roc_zero))\n",
    "#plt.plot(fpr_one, tpr_one, 'b', label= \"ROC for 1 label =\" +str(roc_one))\n",
    "#plt.plot(fpr_two, tpr_two, 'b', color='purple',  label= \"ROC for 2 label =\" +str(roc_two))\n",
    "#plt.plot(fpr_three, tpr_three, 'b', color='red',  label= \"ROC for 3 label =\" +str(roc_three))\n",
    "plt.plot(mean_fpr_svm_under, mean_tpr_svm_under, 'b', color='red', label= \"ROC for Under-sampling (SVM) =\" +str(mean_auc_svm_under) ,lw=2, alpha=1)\n",
    "plt.legend(loc = 'lower right')\n",
    "#plt.plot([0, 1], [0, 1],'r--')\n",
    "plt.xlim([0, 1])\n",
    "plt.ylim([0, 1.05])\n",
    "plt.ylabel('True Positive Rate')\n",
    "plt.xlabel('False Positive Rate')\n",
    "plt.show()"
   ]
  },
  {
   "cell_type": "markdown",
   "metadata": {
    "id": "_65kL4sCGg7z"
   },
   "source": [
    "### RandomForestClassifier"
   ]
  },
  {
   "cell_type": "code",
   "execution_count": 43,
   "metadata": {
    "colab": {
     "base_uri": "https://localhost:8080/"
    },
    "id": "H8wltLbSGgMl",
    "outputId": "17db0818-ab5c-470a-b505-4246929f62cd"
   },
   "outputs": [
    {
     "name": "stdout",
     "output_type": "stream",
     "text": [
      "Start training...done!\n",
      "Start testing...done!\n",
      "Start training...done!\n",
      "Start testing...done!\n",
      "Start training...done!\n",
      "Start testing...done!\n",
      "Start training...done!\n",
      "Start testing...done!\n",
      "Start training...done!\n",
      "Start testing...done!\n",
      "Start training...done!\n",
      "Start testing...done!\n",
      "Start training...done!\n",
      "Start testing...done!\n",
      "Start training...done!\n",
      "Start testing...done!\n",
      "Start training...done!\n",
      "Start testing...done!\n",
      "Start training...done!\n",
      "Start testing...done!\n",
      "Total time: 22.09s\n",
      "mean accuracy: 0.80 %\n",
      "mean f1 socre: 0.80 %\n",
      "mean precision: 0.80 %\n",
      "mean recall: 0.80 %\n",
      "the average accuracy of RF is 0.7985411812793787\n",
      "the presion, recall, f are [[  0.81371913   0.75192127   0.79956071   0.8134301 ]\n",
      " [  0.75864772   0.98347939   0.78270847   0.7779226 ]\n",
      " [  0.78467093   0.85189665   0.79073601   0.79486072]\n",
      " [156.2         78.5        272.9        192.3       ]]\n",
      "0.934850691294542\n",
      "[(0, 2457), (1, 2457), (2, 2457), (3, 2457)]\n"
     ]
    },
    {
     "data": {
      "text/plain": [
       "<sklearn.metrics._plot.confusion_matrix.ConfusionMatrixDisplay at 0x1e324721a88>"
      ]
     },
     "execution_count": 43,
     "metadata": {},
     "output_type": "execute_result"
    },
    {
     "data": {
      "image/png": "[encoded data removed]",
      "text/plain": [
       "<Figure size 432x288 with 2 Axes>"
      ]
     },
     "metadata": {
      "needs_background": "light"
     },
     "output_type": "display_data"
    }
   ],
   "source": [
    "rf_model = RandomForestClassifier(n_estimators=100, max_depth=100, min_samples_split=10, n_jobs=-1, verbose=0)\n",
    "\n",
    "accs = []\n",
    "reports = []\n",
    "f1 = []\n",
    "pr = []\n",
    "re = []\n",
    "pe = []\n",
    "\n",
    "#javed#\n",
    "accuracy_ = []\n",
    "P_r_f = []\n",
    "\n",
    "mean_accuracy= []\n",
    "mean_p_r_f =[]\n",
    "##javed###\n",
    "\n",
    "roc_auc_ = []\n",
    "roc_auc_under = []\n",
    "roc_auc_two = []\n",
    "roc_auc_three = []\n",
    "roc_auc_four_under = []\n",
    "\n",
    "tprs_zero_rf_under = []\n",
    "tprs_one_rf_under = []\n",
    "tprs_two_rf_under = []\n",
    "tprs_three_rf_under = []\n",
    "tprs_four_rf_under = []\n",
    "\n",
    "mean_fpr_rf_under = np.linspace(0,1,100)\n",
    "\n",
    "st_time = time.time()\n",
    "for train_index, test_index in skfold.split(X,y):\n",
    "    X_train, X_test = X[train_index], X[test_index]\n",
    "    y_train, y_test = y[train_index], y[test_index]\n",
    "    # Undersampling\n",
    "    X_train_under, y_train_under = rus.fit_resample(X_train, y_train)\n",
    "    predictions, accuracy, f1socre, precision, recall, alg_accuracy, alg_p_r_f_score = train_test_model(rf_model, X_train_under, X_test, y_train_under, y_test, labels)\n",
    "\n",
    "    #fpr_zero, tpr_zero, _ = roc_curve(y_test, rf_model.predict_proba(X_test)[:,1], pos_label=0)\n",
    "    #fpr_under, tpr_under, __ = roc_curve(y_test, rf_model.predict_proba(X_test)[:,1], pos_label=1)\n",
    "    #fpr_two, tpr_two, ___ = roc_curve(y_test, rf_model.predict_proba(X_test)[:,1], pos_label=2)\n",
    "    #fpr_three, tpr_three, ____ = roc_curve(y_test, rf_model.predict_proba(X_test)[:,1], pos_label=3)\n",
    "    fpr_four_under_rf, tpr_four_under_rf, _____ = roc_curve(y_test, rf_model.predict_proba (X_test)[:,3], pos_label=3)\n",
    "\n",
    "    tprs_four_rf_under.append(interp(mean_fpr_rf_under, fpr_four_under_rf, tpr_four_under_rf))\n",
    "    \n",
    "    #roc_auc_one = (auc(fpr_zero, tpr_zero))\n",
    "    #roc_auc_one = (auc(fpr_one, tpr_one))\n",
    "    #roc_auc_two = (auc(fpr_two, tpr_two))\n",
    "    #roc_auc_three = (auc(fpr_three, tpr_three))\n",
    "    roc_auc_four = (auc(fpr_four_rf, tpr_four_rf))\n",
    "    \n",
    "                             #javed###      \n",
    "    accuracy_.append(alg_accuracy)\n",
    "    P_r_f.append(alg_p_r_f_score)\n",
    "    #### jave ####\n",
    "\n",
    "    pe.append(predictions)\n",
    "    accs.append(accuracy)\n",
    "    f1.append(f1socre)\n",
    "    pr.append(precision)\n",
    "    re.append(recall)\n",
    "\n",
    "\n",
    "en_time = time.time()\n",
    "#print('mean predictions: {:.2f} %'.format(sum(pe) / len(pe) ))\n",
    "print('Total time: {:.2f}s'.format(en_time-st_time))   \n",
    "print('mean accuracy: {:.2f} %'.format(np.mean(accs)))\n",
    "print('mean f1 socre: {:.2f} %'.format(np.mean(f1)))\n",
    "print('mean precision: {:.2f} %'.format(np.mean(pr)))\n",
    "print('mean recall: {:.2f} %'.format(np.mean(re)))\n",
    "\n",
    "#roc_zero = sum(roc_auc_) / len(roc_auc_)\n",
    "#print(\"\\nROC across folds for zero: \", roc_zero)\n",
    "\n",
    "#roc_one_under = sum(roc_auc_under) / len(roc_auc_under)\n",
    "#print(\"\\nROC across folds for one: \", roc_one_under)\n",
    "\n",
    "#roc_two = sum(roc_auc_two) / len(roc_auc_two)\n",
    "#print(\"\\nROC across folds for two: \", roc_two)\n",
    "\n",
    "#roc_three = sum(roc_auc_three) / len(roc_auc_three)\n",
    "#print(\"\\nROC across folds for three: \", roc_three)\n",
    "\n",
    "#roc_four_under_rf = sum(roc_auc_four_under) / len(roc_auc_four_under)\n",
    "#print(\"\\nROC across folds for four: \", roc_four_under_rf)\n",
    "\n",
    "mean_tpr_rf_under = np.mean(tprs_four_rf_under, axis=0)\n",
    "mean_auc_rf_under = auc(mean_fpr_rf_under, mean_tpr_rf_under)\n",
    "\n",
    "#### jave ####\n",
    "mean_accuracy= np.mean(accuracy_, axis=0)\n",
    "print(\"the average accuracy of RF is\",mean_accuracy)\n",
    "    \n",
    "mean_p_r_f=np.mean(P_r_f, axis=0)\n",
    "print(\"the presion, recall, f are\", mean_p_r_f)\n",
    "#### jave ####\n",
    "\n",
    "#print(mean_tpr_rf_under)\n",
    "#print(mean_fpr_rf_under)\n",
    "print(mean_auc_rf_under)\n",
    "\n",
    "#print(metrics_report)\n",
    "unique, counts = np.unique(y_train_res, return_counts=True)\n",
    "print(list(zip(unique, counts)))\n",
    "plot_confusion_matrix(rf_model, X_test, y_test, display_labels=labels, xticks_rotation='vertical', cmap=\"BuPu\")"
   ]
  },
  {
   "cell_type": "code",
   "execution_count": 44,
   "metadata": {
    "colab": {
     "base_uri": "https://localhost:8080/",
     "height": 294
    },
    "id": "sPgR3iC6n0HI",
    "outputId": "881ba69c-a0b0-42d1-d5c4-84c0d03a3d2a"
   },
   "outputs": [
    {
     "data": {
      "image/png": "[encoded data removed]",
      "text/plain": [
       "<Figure size 432x288 with 1 Axes>"
      ]
     },
     "metadata": {
      "needs_background": "light"
     },
     "output_type": "display_data"
    }
   ],
   "source": [
    "plt.title('Receiver Operating Characteristic')\n",
    "#plt.plot(fpr_under, tpr_under, 'b', label= \"Under-sampling =\" +str(roc_one_under))\n",
    "#plt.plot(fpr_zero, tpr_zero, 'b', color='green', label= \"ROC for 0 label =\" +str(roc_zero))\n",
    "#plt.plot(fpr_one, tpr_one, 'b', label= \"ROC for 1 label =\" +str(roc_one))\n",
    "#plt.plot(fpr_two, tpr_two, 'b', color='purple',  label= \"ROC for 2 label =\" +str(roc_two))\n",
    "#plt.plot(fpr_three, tpr_three, 'b', color='red',  label= \"ROC for 3 label =\" +str(roc_three))\n",
    "plt.plot(mean_fpr_rf_under, mean_tpr_rf_under, 'b', color='red', label= \"ROC for Under-sampling =\" +str(mean_auc_rf_under),lw=2, alpha=1)\n",
    "plt.legend(loc = 'lower right')\n",
    "#plt.plot([0, 1], [0, 1],'r--')\n",
    "plt.xlim([0, 1])\n",
    "plt.ylim([0, 1.05])\n",
    "plt.ylabel('True Positive Rate')\n",
    "plt.xlabel('False Positive Rate')\n",
    "plt.show()"
   ]
  },
  {
   "cell_type": "markdown",
   "metadata": {
    "id": "wR1M7aa4TkgS"
   },
   "source": [
    "### KNN"
   ]
  },
  {
   "cell_type": "code",
   "execution_count": 45,
   "metadata": {
    "colab": {
     "base_uri": "https://localhost:8080/"
    },
    "id": "jh9kvJ41Ti6E",
    "outputId": "aa68e098-8edb-4ec6-c12d-53969345ac02"
   },
   "outputs": [
    {
     "name": "stdout",
     "output_type": "stream",
     "text": [
      "Start training...done!\n",
      "Start testing...done!\n",
      "Start training...done!\n",
      "Start testing...done!\n",
      "Start training...done!\n",
      "Start testing...done!\n",
      "Start training...done!\n",
      "Start testing...done!\n",
      "Start training...done!\n",
      "Start testing...done!\n",
      "Start training...done!\n",
      "Start testing...done!\n",
      "Start training...done!\n",
      "Start testing...done!\n",
      "Start training...done!\n",
      "Start testing...done!\n",
      "Start training...done!\n",
      "Start testing...done!\n",
      "Start training...done!\n",
      "Start testing...done!\n",
      "Total time: 12.65s\n",
      "mean accuracy: 0.66 %\n",
      "mean f1 socre: 0.72 %\n",
      "mean precision: 0.66 %\n",
      "mean recall: 0.65 %\n",
      "\n",
      "ROC across folds for zero:  0.41944214123824625\n",
      "\n",
      "ROC across folds for one:  0.9816345003981286\n",
      "\n",
      "ROC across folds for two:  0.4226790779363448\n",
      "\n",
      "ROC across folds for three:  0.42170178339872955\n",
      "\n",
      "ROC across folds for four:  nan\n",
      "the average accuracy of KNN is 0.661666257919477\n",
      "the presion, recall, f are [[  0.7807686    0.75032293   0.65987601   0.74842249]\n",
      " [  0.55702678   0.89044142   0.75555107   0.52010741]\n",
      " [  0.62338736   0.80315427   0.66892324   0.57069093]\n",
      " [156.2         78.5        272.9        192.3       ]]\n",
      "[(0, 2457), (1, 2457), (2, 2457), (3, 2457)]\n"
     ]
    },
    {
     "data": {
      "text/plain": [
       "<sklearn.metrics._plot.confusion_matrix.ConfusionMatrixDisplay at 0x1e32736f088>"
      ]
     },
     "execution_count": 45,
     "metadata": {},
     "output_type": "execute_result"
    },
    {
     "data": {
      "image/png": "[encoded data removed]",
      "text/plain": [
       "<Figure size 432x288 with 2 Axes>"
      ]
     },
     "metadata": {
      "needs_background": "light"
     },
     "output_type": "display_data"
    }
   ],
   "source": [
    "knn_model = KNeighborsClassifier(n_neighbors=3)\n",
    "accs = []\n",
    "reports = []\n",
    "f1 = []\n",
    "pr = []\n",
    "re = []\n",
    "pe = []\n",
    "\n",
    "#javed#\n",
    "accuracy_ = []\n",
    "P_r_f = []\n",
    "\n",
    "mean_accuracy= []\n",
    "mean_p_r_f =[]\n",
    "##javed###\n",
    "roc_auc_ = []\n",
    "roc_auc_one = []\n",
    "roc_auc_two = []\n",
    "roc_auc_three = []\n",
    "roc_auc_four = []\n",
    "st_time = time.time()\n",
    "for train_index, test_index in skfold.split(X,y):\n",
    "    X_train, X_test = X[train_index], X[test_index]\n",
    "    y_train, y_test = y[train_index], y[test_index]\n",
    "    # Undersampling\n",
    "    X_train_under, y_train_under = rus.fit_resample(X_train, y_train)\n",
    "    predictions, accuracy, f1socre, precision, recall, alg_accuracy, alg_p_r_f_score = train_test_model(knn_model, X_train_under, X_test, y_train_under, y_test, labels)\n",
    "\n",
    "    fpr_zero, tpr_zero, _ = roc_curve(y_test, knn_model.predict_proba(X_test)[:,1], pos_label=0)\n",
    "    fpr_one, tpr_one, __ = roc_curve(y_test, knn_model.predict_proba(X_test)[:,1], pos_label=1)\n",
    "    fpr_two, tpr_two, ___ = roc_curve(y_test, knn_model.predict_proba(X_test)[:,1], pos_label=2)\n",
    "    fpr_three, tpr_three, ____ = roc_curve(y_test, knn_model.predict_proba(X_test)[:,1], pos_label=3)\n",
    "    fpr_four, tpr_four, _____ = roc_curve(y_test, knn_model.predict_proba (X_test)[:,1], pos_label=4)\n",
    "\n",
    "    roc_auc_.append(auc(fpr_zero, tpr_zero))\n",
    "    roc_auc_one.append(auc(fpr_one, tpr_one))\n",
    "    roc_auc_two.append(auc(fpr_two, tpr_two))\n",
    "    roc_auc_three.append(auc(fpr_three, tpr_three))\n",
    "    roc_auc_four.append(auc(fpr_four, tpr_four))\n",
    "    \n",
    "    #javed###      \n",
    "    accuracy_.append(alg_accuracy)\n",
    "    P_r_f.append(alg_p_r_f_score)\n",
    "    #### jave ####\n",
    "\n",
    "    pe.append(predictions)\n",
    "    accs.append(accuracy)\n",
    "    f1.append(f1socre)\n",
    "    pr.append(precision)\n",
    "    re.append(recall)\n",
    "\n",
    "\n",
    "en_time = time.time()\n",
    "#print('mean predictions: {:.2f} %'.format(sum(pe) / len(pe) ))\n",
    "print('Total time: {:.2f}s'.format(en_time-st_time))   \n",
    "print('mean accuracy: {:.2f} %'.format(np.mean(accs)))\n",
    "print('mean f1 socre: {:.2f} %'.format(np.mean(f1)))\n",
    "print('mean precision: {:.2f} %'.format(np.mean(pr)))\n",
    "print('mean recall: {:.2f} %'.format(np.mean(re)))\n",
    "\n",
    "roc_zero = sum(roc_auc_) / len(roc_auc_)\n",
    "print(\"\\nROC across folds for zero: \", roc_zero)\n",
    "\n",
    "roc_one = sum(roc_auc_one) / len(roc_auc_one)\n",
    "print(\"\\nROC across folds for one: \", roc_one)\n",
    "\n",
    "roc_two = sum(roc_auc_two) / len(roc_auc_two)\n",
    "print(\"\\nROC across folds for two: \", roc_two)\n",
    "\n",
    "roc_three = sum(roc_auc_three) / len(roc_auc_three)\n",
    "print(\"\\nROC across folds for three: \", roc_three)\n",
    "\n",
    "roc_four = sum(roc_auc_four) / len(roc_auc_four)\n",
    "print(\"\\nROC across folds for four: \", roc_four)\n",
    "\n",
    "#### jave ####\n",
    "mean_accuracy= np.mean(accuracy_, axis=0)\n",
    "print(\"the average accuracy of KNN is\",mean_accuracy)\n",
    "    \n",
    "mean_p_r_f=np.mean(P_r_f, axis=0)\n",
    "print(\"the presion, recall, f are\", mean_p_r_f)\n",
    "#### jave ####\n",
    "\n",
    "#print(fpr_zero)\n",
    "#print(tpr_zero)\n",
    "\n",
    "#print(metrics_report)\n",
    "unique, counts = np.unique(y_train_res, return_counts=True)\n",
    "print(list(zip(unique, counts)))\n",
    "plot_confusion_matrix(knn_model, X_test, y_test, display_labels=labels, xticks_rotation='vertical', cmap=\"BuPu\")"
   ]
  },
  {
   "cell_type": "code",
   "execution_count": 46,
   "metadata": {
    "id": "HIkxaFWfoBNK"
   },
   "outputs": [
    {
     "data": {
      "image/png": "[encoded data removed]",
      "text/plain": [
       "<Figure size 432x288 with 1 Axes>"
      ]
     },
     "metadata": {
      "needs_background": "light"
     },
     "output_type": "display_data"
    }
   ],
   "source": [
    "plt.title('Receiver Operating Characteristic')\n",
    "plt.plot(fpr_zero, tpr_zero, 'b', color='green', label= \"ROC for 0 label =\" +str(roc_zero))\n",
    "plt.plot(fpr_one, tpr_one, 'b', label= \"ROC for 1 label =\" +str(roc_one))\n",
    "plt.plot(fpr_two, tpr_two, 'b', color='purple',  label= \"ROC for 2 label =\" +str(roc_two))\n",
    "plt.plot(fpr_three, tpr_three, 'b', color='red',  label= \"ROC for 3 label =\" +str(roc_three))\n",
    "plt.plot(fpr_four, tpr_four, 'b', color='yellow', label= \"ROC for 4 label =\" +str(roc_four))\n",
    "plt.legend(loc = 'lower right')\n",
    "#plt.plot([0, 1], [0, 1],'r--')\n",
    "plt.xlim([0, 1])\n",
    "plt.ylim([0, 1.05])\n",
    "plt.ylabel('True Positive Rate')\n",
    "plt.xlabel('False Positive Rate')\n",
    "plt.show()"
   ]
  },
  {
   "cell_type": "markdown",
   "metadata": {
    "id": "nTwRPZZ9JGR6"
   },
   "source": [
    "### MLPClassifier"
   ]
  },
  {
   "cell_type": "code",
   "execution_count": 47,
   "metadata": {
    "colab": {
     "base_uri": "https://localhost:8080/"
    },
    "id": "2-dA6xF_ICQd",
    "outputId": "37722df2-962c-4721-d50e-a9eaf0d8691b",
    "scrolled": true
   },
   "outputs": [
    {
     "name": "stdout",
     "output_type": "stream",
     "text": [
      "Start training...done!\n",
      "Start testing...done!\n",
      "Start training...done!\n",
      "Start testing...done!\n",
      "Start training...done!\n",
      "Start testing...done!\n",
      "Start training...done!\n",
      "Start testing...done!\n",
      "Start training...done!\n",
      "Start testing...done!\n",
      "Start training...done!\n",
      "Start testing...done!\n",
      "Start training...done!\n",
      "Start testing...done!\n",
      "Start training...done!\n",
      "Start testing...done!\n",
      "Start training...done!\n",
      "Start testing...done!\n",
      "Start training...done!\n",
      "Start testing...done!\n",
      "Total time: 922.26s\n",
      "mean accuracy: 0.84 %\n",
      "mean f1 socre: 0.84 %\n",
      "mean precision: 0.84 %\n",
      "mean recall: 0.84 %\n",
      "the average accuracy of MLP is 0.8396828121806662\n",
      "the presion, recall, f are [[  0.80194456   0.83101137   0.86317967   0.84726363]\n",
      " [  0.85018782   1.           0.79954212   0.82264141]\n",
      " [  0.82517953   0.90736888   0.83000254   0.83456854]\n",
      " [156.2         78.5        272.9        192.3       ]]\n",
      "0.9544776972261827\n",
      "[(0, 2457), (1, 2457), (2, 2457), (3, 2457)]\n"
     ]
    },
    {
     "data": {
      "text/plain": [
       "<sklearn.metrics._plot.confusion_matrix.ConfusionMatrixDisplay at 0x1e3270eb388>"
      ]
     },
     "execution_count": 47,
     "metadata": {},
     "output_type": "execute_result"
    },
    {
     "data": {
      "image/png": "[encoded data removed]",
      "text/plain": [
       "<Figure size 432x288 with 2 Axes>"
      ]
     },
     "metadata": {
      "needs_background": "light"
     },
     "output_type": "display_data"
    }
   ],
   "source": [
    "mlp_model = MLPClassifier(random_state=1, max_iter=300)\n",
    "accs = []\n",
    "reports = []\n",
    "f1 = []\n",
    "pr = []\n",
    "re = []\n",
    "pe = []\n",
    "\n",
    "#javed#\n",
    "accuracy_ = []\n",
    "P_r_f = []\n",
    "\n",
    "mean_accuracy= []\n",
    "mean_p_r_f =[]\n",
    "##javed###\n",
    "roc_auc_ = []\n",
    "roc_auc_one_under = []\n",
    "roc_auc_two = []\n",
    "roc_auc_three = []\n",
    "roc_auc_four_mlp = []\n",
    "\n",
    "tprs_zero_mlp_under = []\n",
    "tprs_one_mlp_under = []\n",
    "tprs_two_mlp_under = []\n",
    "tprs_three_mlp_under = []\n",
    "tprs_four_mlp_under = []\n",
    "\n",
    "mean_fpr_mlp_under = np.linspace(0,1,100)\n",
    "\n",
    "st_time = time.time()\n",
    "for train_index, test_index in skfold.split(X,y):\n",
    "    X_train, X_test = X[train_index], X[test_index]\n",
    "    y_train, y_test = y[train_index], y[test_index]\n",
    "    # Undersampling\n",
    "    #X_train_under, y_train_under = rus.fit_sample(X_train, y_train)\n",
    "    predictions, accuracy, f1socre, precision, recall, alg_accuracy, alg_p_r_f_score = train_test_model(mlp_model, X_train_under, X_test, y_train_under, y_test, labels)\n",
    "\n",
    "    #fpr_zero, tpr_zero, _ = roc_curve(y_test, mlp_model.predict_proba(X_test)[:,1], pos_label=0)\n",
    "    #fpr_one_under, tpr_one_under, __ = roc_curve(y_test, mlp_model.predict_proba(X_test)[:,1], pos_label=1)\n",
    "    #fpr_two, tpr_two, ___ = roc_curve(y_test, mlp_model.predict_proba(X_test)[:,1], pos_label=2)\n",
    "    #fpr_three, tpr_three, ____ = roc_curve(y_test, mlp_model.predict_proba(X_test)[:,1], pos_label=3)\n",
    "    fpr_four_mlp_under, tpr_four_mlp_under, _____ = roc_curve(y_test, mlp_model.predict_proba (X_test)[:,3], pos_label=3)\n",
    "\n",
    "    tprs_four_mlp_under.append(interp(mean_fpr_mlp_under, fpr_four_mlp_under, tpr_four_mlp_under))\n",
    "    \n",
    "        #javed###      \n",
    "    accuracy_.append(alg_accuracy)\n",
    "    P_r_f.append(alg_p_r_f_score)\n",
    "    #### jave ####\n",
    "    \n",
    "    #roc_auc_one = (auc(fpr_zero, tpr_zero))\n",
    "    #roc_auc_one = (auc(fpr_one, tpr_one))\n",
    "    #roc_auc_two = (auc(fpr_two, tpr_two))\n",
    "    #roc_auc_three = (auc(fpr_three, tpr_three))\n",
    "    #roc_auc_four = (auc(fpr_four_mlp_under, tpr_four_mlp_under))\n",
    "\n",
    "    pe.append(predictions)\n",
    "    accs.append(accuracy)\n",
    "    f1.append(f1socre)\n",
    "    pr.append(precision)\n",
    "    re.append(recall)\n",
    "\n",
    "\n",
    "en_time = time.time()\n",
    "#print('mean predictions: {:.2f} %'.format(sum(pe) / len(pe) ))\n",
    "print('Total time: {:.2f}s'.format(en_time-st_time))   \n",
    "print('mean accuracy: {:.2f} %'.format(np.mean(accs)))\n",
    "print('mean f1 socre: {:.2f} %'.format(np.mean(f1)))\n",
    "print('mean precision: {:.2f} %'.format(np.mean(pr)))\n",
    "print('mean recall: {:.2f} %'.format(np.mean(re)))\n",
    "\n",
    "#roc_zero = sum(roc_auc_) / len(roc_auc_)\n",
    "#print(\"\\nROC across folds for zero: \", roc_zero)\n",
    "\n",
    "#roc_mlp_under = sum(roc_auc_one_under) / len(roc_auc_one_under)\n",
    "#print(\"\\nROC across folds for one: \", roc_mlp_under)\n",
    "\n",
    "#roc_two = sum(roc_auc_two) / len(roc_auc_two)\n",
    "#print(\"\\nROC across folds for two: \", roc_two)\n",
    "\n",
    "#roc_three = sum(roc_auc_three) / len(roc_auc_three)\n",
    "#print(\"\\nROC across folds for three: \", roc_three)\n",
    "\n",
    "#roc_mlp_under_four = sum(roc_auc_four_mlp) / len(roc_auc_four_mlp)\n",
    "#print(\"\\nROC across folds for four: \", roc_mlp_under_four)\n",
    "\n",
    "mean_tpr_mlp_under = np.mean(tprs_four_mlp_under, axis=0)\n",
    "mean_auc_mlp_under = auc(mean_fpr_mlp_under, mean_tpr_mlp_under)\n",
    "\n",
    "#### jave ####\n",
    "mean_accuracy= np.mean(accuracy_, axis=0)\n",
    "print(\"the average accuracy of MLP is\",mean_accuracy)\n",
    "    \n",
    "mean_p_r_f=np.mean(P_r_f, axis=0)\n",
    "print(\"the presion, recall, f are\", mean_p_r_f)\n",
    "#### jave ####\n",
    "\n",
    "#print(mean_tpr_mlp_under)\n",
    "#print(mean_fpr_mlp_under)\n",
    "print(mean_auc_mlp_under)\n",
    "\n",
    "#print(metrics_report)\n",
    "unique, counts = np.unique(y_train_res, return_counts=True)\n",
    "print(list(zip(unique, counts)))\n",
    "plot_confusion_matrix(mlp_model, X_test, y_test, display_labels=labels, xticks_rotation='vertical', cmap=\"BuPu\")"
   ]
  },
  {
   "cell_type": "code",
   "execution_count": 48,
   "metadata": {
    "colab": {
     "base_uri": "https://localhost:8080/",
     "height": 294
    },
    "id": "IlCoqhVVoOVv",
    "outputId": "531efdf2-432e-4256-a786-60e32981b4e2"
   },
   "outputs": [
    {
     "data": {
      "image/png": "[encoded data removed]",
      "text/plain": [
       "<Figure size 432x288 with 1 Axes>"
      ]
     },
     "metadata": {
      "needs_background": "light"
     },
     "output_type": "display_data"
    }
   ],
   "source": [
    "plt.title('Receiver Operating Characteristic')\n",
    "#plt.plot(fpr_one_under, tpr_one_under, 'b', label= \"Under-sampling =\" +str(roc_mlp_under))\n",
    "#plt.plot(fpr_zero, tpr_zero, 'b', color='green', label= \"ROC for 0 label =\" +str(roc_zero))\n",
    "#plt.plot(fpr_one, tpr_one, 'b', label= \"ROC for 1 label =\" +str(roc_one))\n",
    "#plt.plot(fpr_two, tpr_two, 'b', color='purple',  label= \"ROC for 2 label =\" +str(roc_two))\n",
    "#plt.plot(fpr_three, tpr_three, 'b', color='red',  label= \"ROC for 3 label =\" +str(roc_three))\n",
    "plt.plot(mean_fpr_mlp_under, mean_tpr_mlp_under, 'b', color='red', label= \"ROC for Under-sampling (MLP) =\" +str(mean_auc_mlp_under))\n",
    "plt.legend(loc = 'lower right')\n",
    "#plt.plot([0, 1], [0, 1],'r--')\n",
    "plt.xlim([0, 1])\n",
    "plt.ylim([0, 1.05])\n",
    "plt.ylabel('True Positive Rate')\n",
    "plt.xlabel('False Positive Rate')\n",
    "plt.show()"
   ]
  },
  {
   "cell_type": "markdown",
   "metadata": {
    "id": "mEDran8Vmb74"
   },
   "source": [
    "### Gradient Boosting Classifier"
   ]
  },
  {
   "cell_type": "code",
   "execution_count": 49,
   "metadata": {
    "colab": {
     "base_uri": "https://localhost:8080/"
    },
    "id": "R_XU_U04mcdk",
    "outputId": "0795f721-a50e-4bee-810b-a69e2a34ac6a"
   },
   "outputs": [
    {
     "name": "stdout",
     "output_type": "stream",
     "text": [
      "Start training...done!\n",
      "Start testing...done!\n",
      "Start training...done!\n",
      "Start testing...done!\n",
      "Start training...done!\n",
      "Start testing...done!\n",
      "Start training...done!\n",
      "Start testing...done!\n",
      "Start training...done!\n",
      "Start testing...done!\n",
      "Start training...done!\n",
      "Start testing...done!\n",
      "Start training...done!\n",
      "Start testing...done!\n",
      "Start training...done!\n",
      "Start testing...done!\n",
      "Start training...done!\n",
      "Start testing...done!\n",
      "Start training...done!\n",
      "Start testing...done!\n",
      "Total time: 69.59s\n",
      "mean accuracy: 0.80 %\n",
      "mean f1 socre: 0.81 %\n",
      "mean precision: 0.80 %\n",
      "mean recall: 0.80 %\n",
      "\n",
      "ROC across folds for zero:  0.3486772247576109\n",
      "\n",
      "ROC across folds for one:  0.9927036263821399\n",
      "\n",
      "ROC across folds for two:  0.5299698315644038\n",
      "\n",
      "ROC across folds for three:  0.34967585678681556\n",
      "\n",
      "ROC across folds for four:  nan\n",
      "the average accuracy of GBC is 0.8049642346208868\n",
      "the presion, recall, f are [[  0.81799332   0.76152186   0.80800643   0.81741031]\n",
      " [  0.78620774   0.99488802   0.77608678   0.78361399]\n",
      " [  0.80131706   0.86241377   0.79131633   0.79941182]\n",
      " [156.2         78.5        272.9        192.3       ]]\n",
      "[(0, 2457), (1, 2457), (2, 2457), (3, 2457)]\n"
     ]
    },
    {
     "data": {
      "text/plain": [
       "<sklearn.metrics._plot.confusion_matrix.ConfusionMatrixDisplay at 0x1e326902a88>"
      ]
     },
     "execution_count": 49,
     "metadata": {},
     "output_type": "execute_result"
    },
    {
     "data": {
      "image/png": "[encoded data removed]",
      "text/plain": [
       "<Figure size 432x288 with 2 Axes>"
      ]
     },
     "metadata": {
      "needs_background": "light"
     },
     "output_type": "display_data"
    }
   ],
   "source": [
    "gb_model = GradientBoostingClassifier(n_estimators=100, learning_rate=1.0, max_depth=1, random_state=0)\n",
    "\n",
    "accs = []\n",
    "reports = []\n",
    "f1 = []\n",
    "pr = []\n",
    "re = []\n",
    "pe = []\n",
    "\n",
    "#javed#\n",
    "accuracy_ = []\n",
    "P_r_f = []\n",
    "\n",
    "mean_accuracy= []\n",
    "mean_p_r_f =[]\n",
    "##javed###\n",
    "\n",
    "roc_auc_ = []\n",
    "roc_auc_one = []\n",
    "roc_auc_two = []\n",
    "roc_auc_three = []\n",
    "roc_auc_four = []\n",
    "st_time = time.time()\n",
    "for train_index, test_index in skfold.split(X,y):\n",
    "    X_train, X_test = X[train_index], X[test_index]\n",
    "    y_train, y_test = y[train_index], y[test_index]\n",
    "    # Undersampling\n",
    "    #X_train_under, y_train_under = rus.fit_sample(X_train, y_train)\n",
    "    predictions, accuracy, f1socre, precision, recall, alg_accuracy, alg_p_r_f_score = train_test_model(gb_model, X_train_under, X_test, y_train_under, y_test, labels)\n",
    "\n",
    "    fpr_zero, tpr_zero, _ = roc_curve(y_test, gb_model.predict_proba(X_test)[:,1], pos_label=0)\n",
    "    fpr_one, tpr_one, __ = roc_curve(y_test, gb_model.predict_proba(X_test)[:,1], pos_label=1)\n",
    "    fpr_two, tpr_two, ___ = roc_curve(y_test, gb_model.predict_proba(X_test)[:,1], pos_label=2)\n",
    "    fpr_three, tpr_three, ____ = roc_curve(y_test, gb_model.predict_proba(X_test)[:,1], pos_label=3)\n",
    "    fpr_four, tpr_four, _____ = roc_curve(y_test, gb_model.predict_proba (X_test)[:,1], pos_label=4)\n",
    "\n",
    "    roc_auc_.append(auc(fpr_zero, tpr_zero))\n",
    "    roc_auc_one.append(auc(fpr_one, tpr_one))\n",
    "    roc_auc_two.append(auc(fpr_two, tpr_two))\n",
    "    roc_auc_three.append(auc(fpr_three, tpr_three))\n",
    "    roc_auc_four.append(auc(fpr_four, tpr_four))\n",
    "    \n",
    "            #javed###      \n",
    "    accuracy_.append(alg_accuracy)\n",
    "    P_r_f.append(alg_p_r_f_score)\n",
    "    #### jave ####\n",
    "\n",
    "    pe.append(predictions)\n",
    "    accs.append(accuracy)\n",
    "    f1.append(f1socre)\n",
    "    pr.append(precision)\n",
    "    re.append(recall)\n",
    "\n",
    "\n",
    "en_time = time.time()\n",
    "#print('mean predictions: {:.2f} %'.format(sum(pe) / len(pe) ))\n",
    "print('Total time: {:.2f}s'.format(en_time-st_time))   \n",
    "print('mean accuracy: {:.2f} %'.format(np.mean(accs)))\n",
    "print('mean f1 socre: {:.2f} %'.format(np.mean(f1)))\n",
    "print('mean precision: {:.2f} %'.format(np.mean(pr)))\n",
    "print('mean recall: {:.2f} %'.format(np.mean(re)))\n",
    "\n",
    "roc_zero = sum(roc_auc_) / len(roc_auc_)\n",
    "print(\"\\nROC across folds for zero: \", roc_zero)\n",
    "\n",
    "roc_one = sum(roc_auc_one) / len(roc_auc_one)\n",
    "print(\"\\nROC across folds for one: \", roc_one)\n",
    "\n",
    "roc_two = sum(roc_auc_two) / len(roc_auc_two)\n",
    "print(\"\\nROC across folds for two: \", roc_two)\n",
    "\n",
    "roc_three = sum(roc_auc_three) / len(roc_auc_three)\n",
    "print(\"\\nROC across folds for three: \", roc_three)\n",
    "\n",
    "roc_four = sum(roc_auc_four) / len(roc_auc_four)\n",
    "print(\"\\nROC across folds for four: \", roc_four)\n",
    "\n",
    "#### jave ####\n",
    "mean_accuracy= np.mean(accuracy_, axis=0)\n",
    "print(\"the average accuracy of GBC is\",mean_accuracy)\n",
    "    \n",
    "mean_p_r_f=np.mean(P_r_f, axis=0)\n",
    "print(\"the presion, recall, f are\", mean_p_r_f)\n",
    "#### jave ####\n",
    "\n",
    "#print(fpr_zero)\n",
    "#print(tpr_zero)\n",
    "\n",
    "#print(metrics_report)\n",
    "unique, counts = np.unique(y_train_res, return_counts=True)\n",
    "print(list(zip(unique, counts)))\n",
    "plot_confusion_matrix(gb_model, X_test, y_test, display_labels=labels, xticks_rotation='vertical', cmap=\"BuPu\")"
   ]
  },
  {
   "cell_type": "code",
   "execution_count": 50,
   "metadata": {
    "colab": {
     "base_uri": "https://localhost:8080/",
     "height": 295
    },
    "id": "UWUZ07PHqV_O",
    "outputId": "dff2a2b5-4299-44cd-87b0-e3eacff671a3"
   },
   "outputs": [
    {
     "data": {
      "image/png": "[encoded data removed]",
      "text/plain": [
       "<Figure size 432x288 with 1 Axes>"
      ]
     },
     "metadata": {
      "needs_background": "light"
     },
     "output_type": "display_data"
    }
   ],
   "source": [
    "plt.title('Receiver Operating Characteristic')\n",
    "plt.plot(fpr_zero, tpr_zero, 'b', color='green', label= \"ROC for 0 label =\" +str(roc_zero))\n",
    "plt.plot(fpr_one, tpr_one, 'b', label= \"ROC for 1 label =\" +str(roc_one))\n",
    "plt.plot(fpr_two, tpr_two, 'b', color='purple',  label= \"ROC for 2 label =\" +str(roc_two))\n",
    "#plt.plot(fpr_three, tpr_three, 'b', color='red',  label= \"ROC for 3 label =\" +str(roc_three))\n",
    "#plt.plot(fpr_four, tpr_four, 'b', color='yellow', label= \"ROC for 4 label =\" +str(roc_four))\n",
    "plt.legend(loc = 'lower right')\n",
    "#plt.plot([0, 1], [0, 1],'r--')\n",
    "plt.xlim([0, 1])\n",
    "plt.ylim([0, 1.05])\n",
    "plt.ylabel('True Positive Rate')\n",
    "plt.xlabel('False Positive Rate')\n",
    "plt.show()"
   ]
  },
  {
   "cell_type": "markdown",
   "metadata": {
    "id": "RiaIBYcFtQeE"
   },
   "source": [
    "## Ensemble Methods\n",
    "Ensemble methods are techniques that create multiple models and then combine them to produce improved results."
   ]
  },
  {
   "cell_type": "markdown",
   "metadata": {
    "id": "JKj_49XOsr93"
   },
   "source": [
    "### Voting Classifier"
   ]
  },
  {
   "cell_type": "code",
   "execution_count": 51,
   "metadata": {
    "colab": {
     "base_uri": "https://localhost:8080/"
    },
    "id": "ufhDnZzXssW8",
    "outputId": "b068deb2-b8e5-4657-c6cc-1d58d33379f2"
   },
   "outputs": [
    {
     "name": "stdout",
     "output_type": "stream",
     "text": [
      "Start training...done!\n",
      "Start testing...done!\n",
      "Start training...done!\n",
      "Start testing...done!\n",
      "Start training...done!\n",
      "Start testing...done!\n",
      "Start training...done!\n",
      "Start testing...done!\n",
      "Start training...done!\n",
      "Start testing...done!\n",
      "Start training...done!\n",
      "Start testing...done!\n",
      "Start training...done!\n",
      "Start testing...done!\n",
      "Start training...done!\n",
      "Start testing...done!\n",
      "Start training...done!\n",
      "Start testing...done!\n",
      "Start training...done!\n",
      "Start testing...done!\n",
      "Total time: 26.41s\n",
      "mean accuracy: 0.80 %\n",
      "mean f1 socre: 0.80 %\n",
      "mean precision: 0.80 %\n",
      "mean recall: 0.80 %\n",
      "the average accuracy of Voting Classifier is 0.7983923973022685\n",
      "the presion, recall, f are [[  0.75542504   0.71953792   0.84082873   0.82810583]\n",
      " [  0.8079087    0.96179812   0.75411011   0.7867282 ]\n",
      " [  0.7805307    0.82282504   0.79490108   0.80654301]\n",
      " [156.2         78.5        272.9        192.3       ]]\n",
      "[(0, 706), (1, 706), (2, 706), (3, 706)]\n"
     ]
    },
    {
     "data": {
      "text/plain": [
       "<sklearn.metrics._plot.confusion_matrix.ConfusionMatrixDisplay at 0x1e327259548>"
      ]
     },
     "execution_count": 51,
     "metadata": {},
     "output_type": "execute_result"
    },
    {
     "data": {
      "image/png": "[encoded data removed]",
      "text/plain": [
       "<Figure size 432x288 with 2 Axes>"
      ]
     },
     "metadata": {
      "needs_background": "light"
     },
     "output_type": "display_data"
    }
   ],
   "source": [
    "nb_model = MultinomialNB()\n",
    "rf_model = RandomForestClassifier(n_estimators=100, max_depth=100, min_samples_split=10, n_jobs=-1, verbose=0)\n",
    "log_model = LogisticRegression(penalty='l2', max_iter=500)\n",
    "\n",
    "vote_model = VotingClassifier(estimators=[('nb', nb_model), ('rf', rf_model), ('log', log_model)], voting='hard')\n",
    "\n",
    "accs = []\n",
    "reports = []\n",
    "f1 = []\n",
    "pr = []\n",
    "re =[]\n",
    "#javed#\n",
    "accuracy_ = []\n",
    "P_r_f = []\n",
    "\n",
    "mean_accuracy= []\n",
    "mean_p_r_f =[]\n",
    "##javed###\n",
    "\n",
    "st_time = time.time()\n",
    "\n",
    "for train_index, test_index in skfold.split(X,y):\n",
    "    X_train, X_test = X[train_index], X[test_index]\n",
    "    y_train, y_test = y[train_index], y[test_index]\n",
    "    # Undersampling\n",
    "    #X_train_under, y_train_under = rus.fit_sample(X_train, y_train)\n",
    "    predictions, accuracy, f1socre, precision, recall, alg_accuracy, alg_p_r_f_score = train_test_model(vote_model, X_train_under, X_test, y_train_under, y_test, labels)\n",
    "    accs.append(accuracy)\n",
    "    f1.append(f1socre)\n",
    "    pr.append(precision)\n",
    "    re.append(recall)\n",
    "    #reports.append(metrics_report)\n",
    "    \n",
    "                #javed###      \n",
    "    accuracy_.append(alg_accuracy)\n",
    "    P_r_f.append(alg_p_r_f_score)\n",
    "    #### jave ####\n",
    "    \n",
    "en_time = time.time()\n",
    "print('Total time: {:.2f}s'.format(en_time-st_time))   \n",
    "print('mean accuracy: {:.2f} %'.format(np.mean(accs)))\n",
    "print('mean f1 socre: {:.2f} %'.format(np.mean(f1)))\n",
    "print('mean precision: {:.2f} %'.format(np.mean(pr)))\n",
    "print('mean recall: {:.2f} %'.format(np.mean(re)))\n",
    "\n",
    "\n",
    "#### jave ####\n",
    "mean_accuracy= np.mean(accuracy_, axis=0)\n",
    "print(\"the average accuracy of Voting Classifier is\",mean_accuracy)\n",
    "    \n",
    "mean_p_r_f=np.mean(P_r_f, axis=0)\n",
    "print(\"the presion, recall, f are\", mean_p_r_f)\n",
    "#### jave ####\n",
    "\n",
    "\n",
    "unique, counts = np.unique(y_train_under, return_counts=True)\n",
    "print(list(zip(unique, counts)))\n",
    "plot_confusion_matrix(vote_model, X_test, y_test, display_labels=labels, xticks_rotation='vertical', cmap=\"BuPu\")"
   ]
  },
  {
   "cell_type": "markdown",
   "metadata": {
    "id": "Wh-ToB22XO4R"
   },
   "source": [
    "### Ada Boost Classifier\n",
    "The core principle of AdaBoost is to fit a sequence of weak learners (i.e., models that are only slightly better than random guessing, such as small decision trees) on repeatedly modified versions of the data."
   ]
  },
  {
   "cell_type": "code",
   "execution_count": 52,
   "metadata": {
    "colab": {
     "base_uri": "https://localhost:8080/"
    },
    "id": "wdnz-faUXRr6",
    "outputId": "2c964537-a464-436b-b124-15d0008d8056"
   },
   "outputs": [
    {
     "name": "stdout",
     "output_type": "stream",
     "text": [
      "Start training...done!\n",
      "Start testing...done!\n",
      "Start training...done!\n",
      "Start testing...done!\n",
      "Start training...done!\n",
      "Start testing...done!\n",
      "Start training...done!\n",
      "Start testing...done!\n",
      "Start training...done!\n",
      "Start testing...done!\n",
      "Start training...done!\n",
      "Start testing...done!\n",
      "Start training...done!\n",
      "Start testing...done!\n",
      "Start training...done!\n",
      "Start testing...done!\n",
      "Start training...done!\n",
      "Start testing...done!\n",
      "Start training...done!\n",
      "Start testing...done!\n",
      "Total time: 109.99s\n",
      "mean accuracy: 0.62 %\n",
      "mean f1 socre: 0.62 %\n",
      "mean precision: 0.62 %\n",
      "mean recall: 0.62 %\n",
      "the average accuracy of AdaBoost is 0.6170839975475169\n",
      "the presion, recall, f are [[  0.54528211   0.83104764   0.61590156   0.59181315]\n",
      " [  0.54735424   0.85714054   0.56979369   0.64270833]\n",
      " [  0.54566005   0.84335217   0.59154477   0.61572801]\n",
      " [156.2         78.5        272.9        192.3       ]]\n",
      "[(0, 706), (1, 706), (2, 706), (3, 706)]\n"
     ]
    },
    {
     "data": {
      "text/plain": [
       "<sklearn.metrics._plot.confusion_matrix.ConfusionMatrixDisplay at 0x1e326fb26c8>"
      ]
     },
     "execution_count": 52,
     "metadata": {},
     "output_type": "execute_result"
    },
    {
     "data": {
      "image/png": "[encoded data removed]",
      "text/plain": [
       "<Figure size 432x288 with 2 Axes>"
      ]
     },
     "metadata": {
      "needs_background": "light"
     },
     "output_type": "display_data"
    }
   ],
   "source": [
    "ada_model = AdaBoostClassifier(n_estimators=500)\n",
    "\n",
    "accs = []\n",
    "reports = []\n",
    "f1 = []\n",
    "pr = []\n",
    "re =[]\n",
    "\n",
    "#javed#\n",
    "accuracy_ = []\n",
    "P_r_f = []\n",
    "\n",
    "mean_accuracy= []\n",
    "mean_p_r_f =[]\n",
    "##javed###\n",
    "st_time = time.time()\n",
    "\n",
    "for train_index, test_index in skfold.split(X,y):\n",
    "    X_train, X_test = X[train_index], X[test_index]\n",
    "    y_train, y_test = y[train_index], y[test_index]\n",
    "    # Undersampling\n",
    "    #X_train_under, y_train_under = rus.fit_sample(X_train, y_train)\n",
    "    predictions, accuracy, f1socre, precision, recall, alg_accuracy, alg_p_r_f_score = train_test_model(ada_model, X_train_under, X_test, y_train_under, y_test, labels)\n",
    "    accs.append(accuracy)\n",
    "    f1.append(f1socre)\n",
    "    pr.append(precision)\n",
    "    re.append(recall)\n",
    "    #reports.append(metrics_report)\n",
    "    \n",
    "    #javed###      \n",
    "    accuracy_.append(alg_accuracy)\n",
    "    P_r_f.append(alg_p_r_f_score)\n",
    "    #### jave ####\n",
    "    \n",
    "    \n",
    "en_time = time.time()\n",
    "print('Total time: {:.2f}s'.format(en_time-st_time))   \n",
    "print('mean accuracy: {:.2f} %'.format(np.mean(accs)))\n",
    "print('mean f1 socre: {:.2f} %'.format(np.mean(f1)))\n",
    "print('mean precision: {:.2f} %'.format(np.mean(pr)))\n",
    "print('mean recall: {:.2f} %'.format(np.mean(re)))\n",
    "\n",
    "#### jave ####\n",
    "mean_accuracy= np.mean(accuracy_, axis=0)\n",
    "print(\"the average accuracy of AdaBoost is\",mean_accuracy)\n",
    "    \n",
    "mean_p_r_f=np.mean(P_r_f, axis=0)\n",
    "print(\"the presion, recall, f are\", mean_p_r_f)\n",
    "#### jave ####\n",
    "unique, counts = np.unique(y_train_under, return_counts=True)\n",
    "print(list(zip(unique, counts)))\n",
    "plot_confusion_matrix(ada_model, X_test, y_test, display_labels=labels, xticks_rotation='vertical', cmap=\"BuPu\")"
   ]
  },
  {
   "cell_type": "markdown",
   "metadata": {
    "id": "yl4XdzLDXYBd"
   },
   "source": [
    "# ROC Combine"
   ]
  },
  {
   "cell_type": "markdown",
   "metadata": {
    "id": "_F_JXgjDQj2x"
   },
   "source": [
    "### ROC for Random Forest"
   ]
  },
  {
   "cell_type": "code",
   "execution_count": 53,
   "metadata": {
    "colab": {
     "base_uri": "https://localhost:8080/",
     "height": 294
    },
    "id": "oXOJL33GXa7V",
    "outputId": "a01a487b-dc86-49d0-b320-0b6088bfb011"
   },
   "outputs": [
    {
     "data": {
      "image/png": "[encoded data removed]",
      "text/plain": [
       "<Figure size 432x288 with 1 Axes>"
      ]
     },
     "metadata": {
      "needs_background": "light"
     },
     "output_type": "display_data"
    }
   ],
   "source": [
    "plt.title('Receiver Operating Characteristic')\n",
    "plt.plot(mean_fpr_rf_under, mean_tpr_rf_under, 'b', color='red', label= \"ROC for Under-sampling (RF) =\" +str(mean_auc_rf_under),lw=2, alpha=1)\n",
    "plt.plot(mean_fpr_rf, mean_tpr_rf, 'b', label= \"ROC for Oversampling (RF) =\" +str(mean_auc_rf),lw=2, alpha=1)\n",
    "plt.legend(loc = 'lower right')\n",
    "#plt.plot([0, 1], [0, 1],'r--')\n",
    "plt.xlim([0, 1])\n",
    "plt.ylim([0, 1.05])\n",
    "plt.ylabel('True Positive Rate')\n",
    "plt.xlabel('False Positive Rate')\n",
    "plt.show()"
   ]
  },
  {
   "cell_type": "markdown",
   "metadata": {
    "id": "bcJ9suQErFKa"
   },
   "source": [
    "### ROC for MLP"
   ]
  },
  {
   "cell_type": "code",
   "execution_count": 54,
   "metadata": {
    "colab": {
     "base_uri": "https://localhost:8080/",
     "height": 294
    },
    "id": "3XaseUFLp506",
    "outputId": "d7530dc7-2341-49d1-c588-e291d65f5fd6"
   },
   "outputs": [
    {
     "data": {
      "image/png": "[encoded data removed]",
      "text/plain": [
       "<Figure size 432x288 with 1 Axes>"
      ]
     },
     "metadata": {
      "needs_background": "light"
     },
     "output_type": "display_data"
    }
   ],
   "source": [
    "plt.title('Receiver Operating Characteristic')\n",
    "plt.plot(mean_fpr_mlp_under, mean_tpr_mlp_under, 'b', color='red', label= \"ROC for Under-sampling (MLP) =\" +str(mean_auc_mlp_under))\n",
    "plt.plot(mean_fpr_mlp, mean_tpr_mlp, 'b', label= \"ROC for Oversampling (MLP)=\" +str(mean_auc_mlp),lw=2, alpha=1)\n",
    "plt.legend(loc = 'lower right')\n",
    "#plt.plot([0, 1], [0, 1],'r--')\n",
    "plt.xlim([0, 1])\n",
    "plt.ylim([0, 1.05])\n",
    "plt.ylabel('True Positive Rate')\n",
    "plt.xlabel('False Positive Rate')\n",
    "plt.show()"
   ]
  },
  {
   "cell_type": "markdown",
   "metadata": {
    "id": "11q2hM9BJgps"
   },
   "source": [
    "### ROC for SVM"
   ]
  },
  {
   "cell_type": "code",
   "execution_count": 55,
   "metadata": {
    "colab": {
     "base_uri": "https://localhost:8080/",
     "height": 294
    },
    "id": "vS13MjX0JkJ5",
    "outputId": "643877bb-6393-4824-c14d-102e8fce9190"
   },
   "outputs": [
    {
     "data": {
      "image/png": "[encoded data removed]",
      "text/plain": [
       "<Figure size 432x288 with 1 Axes>"
      ]
     },
     "metadata": {
      "needs_background": "light"
     },
     "output_type": "display_data"
    }
   ],
   "source": [
    "plt.title('Receiver Operating Characteristic')\n",
    "plt.plot(mean_fpr_svm_under, mean_tpr_svm_under, 'b', color='red', label= \"ROC for Under-sampling (SVM) =\" +str(mean_auc_svm_under) ,lw=2, alpha=1)\n",
    "plt.plot(mean_fpr_svm, mean_tpr_svm, 'b', label= \"ROC for Oversamling (SVM) =\" +str(mean_auc_svm),lw=2, alpha=1)\n",
    "plt.legend(loc = 'lower right')\n",
    "#plt.plot([0, 1], [0, 1],'r--')\n",
    "plt.xlim([0, 1])\n",
    "plt.ylim([0, 1.05])\n",
    "plt.ylabel('True Positive Rate')\n",
    "plt.xlabel('False Positive Rate')\n",
    "plt.show()"
   ]
  },
  {
   "cell_type": "code",
   "execution_count": null,
   "metadata": {},
   "outputs": [],
   "source": []
  },
  {
   "cell_type": "code",
   "execution_count": null,
   "metadata": {},
   "outputs": [],
   "source": []
  },
  {
   "cell_type": "code",
   "execution_count": null,
   "metadata": {},
   "outputs": [],
   "source": []
  },
  {
   "cell_type": "code",
   "execution_count": null,
   "metadata": {},
   "outputs": [],
   "source": []
  }
 ],
 "metadata": {
  "colab": {
   "collapsed_sections": [
    "cVmU1Znotx5m",
    "__0fkhFpt61L",
    "njjRI8Kbt-5s",
    "2BZPQ1h1uFnK",
    "osRNFWZ1mjlL",
    "WhhV7AyYuIIG",
    "y8neizT-G8iK",
    "hIPaa_S8BsY1",
    "dWKvvFE9CTtB",
    "2zGgaD3VHIlg",
    "0GWnHwQPPSn8",
    "yo0jCzfrHUd-",
    "UX2Vi4w1XWOG",
    "bozob2wRs8RR",
    "5WY_At4XqnbL",
    "IO3tiy-3UDKh",
    "8ZZB1SqCCWFT",
    "I9jNvpbfCnBf",
    "_65kL4sCGg7z",
    "wR1M7aa4TkgS",
    "nTwRPZZ9JGR6",
    "mEDran8Vmb74",
    "RiaIBYcFtQeE",
    "JKj_49XOsr93",
    "Wh-ToB22XO4R"
   ],
   "name": "Oversampling and Under-samplimg.ipynb",
   "provenance": []
  },
  "kernelspec": {
   "display_name": "Python 3",
   "language": "python",
   "name": "python3"
  },
  "language_info": {
   "codemirror_mode": {
    "name": "ipython",
    "version": 3
   },
   "file_extension": ".py",
   "mimetype": "text/x-python",
   "name": "python",
   "nbconvert_exporter": "python",
   "pygments_lexer": "ipython3",
   "version": "3.7.4"
  }
 },
 "nbformat": 4,
 "nbformat_minor": 1
}
