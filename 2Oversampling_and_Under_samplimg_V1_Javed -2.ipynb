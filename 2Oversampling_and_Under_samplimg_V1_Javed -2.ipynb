{
 "cells": [
  {
   "cell_type": "code",
   "execution_count": 2,
   "metadata": {
    "id": "6NMCoKNwMeAH"
   },
   "outputs": [],
   "source": [
    "import os\n",
    "import time\n",
    "import re\n",
    "import numpy as np\n",
    "import pandas as pd\n",
    "import matplotlib.pyplot as plt\n",
    "from tqdm import tqdm\n",
    "\n",
    "from sklearn.feature_extraction.text import CountVectorizer, TfidfVectorizer\n",
    "from sklearn import preprocessing\n",
    "from sklearn.model_selection import train_test_split, StratifiedKFold, KFold\n",
    "\n",
    "from sklearn.naive_bayes import MultinomialNB\n",
    "from sklearn.linear_model import SGDClassifier\n",
    "from sklearn.linear_model import LogisticRegression\n",
    "from sklearn.svm import LinearSVC\n",
    "from sklearn.neighbors import KNeighborsClassifier\n",
    "from sklearn.ensemble import RandomForestClassifier, GradientBoostingClassifier, VotingClassifier, AdaBoostClassifier\n",
    "from sklearn.neural_network import MLPClassifier\n",
    "\n",
    "from sklearn.metrics import classification_report\n",
    "from sklearn.metrics import confusion_matrix\n",
    "from sklearn.metrics import plot_confusion_matrix\n",
    "#from yellowbrick.classifier import ConfusionMatrix\n",
    "from sklearn.metrics import precision_recall_fscore_support as score"
   ]
  },
  {
   "cell_type": "code",
   "execution_count": 3,
   "metadata": {
    "id": "pqTEsiJdhcf-"
   },
   "outputs": [],
   "source": [
    "from sklearn.metrics import accuracy_score, f1_score, confusion_matrix, classification_report\n",
    "from sklearn.metrics import roc_curve, auc, roc_auc_score, precision_recall_curve, average_precision_score, precision_score, recall_score\n",
    "from sklearn.metrics import plot_roc_curve"
   ]
  },
  {
   "cell_type": "code",
   "execution_count": 4,
   "metadata": {
    "id": "cz0nhczn4X2c"
   },
   "outputs": [],
   "source": [
    "import warnings\n",
    "warnings.filterwarnings('ignore')"
   ]
  },
  {
   "cell_type": "code",
   "execution_count": 5,
   "metadata": {
    "colab": {
     "base_uri": "https://localhost:8080/"
    },
    "id": "NAwhlE-y4gQa",
    "outputId": "371b2d1f-b5f1-494e-e8d2-0627dbe52019"
   },
   "outputs": [],
   "source": [
    "#from google.colab import drive\n",
    "#drive.mount('/content/gdrive')"
   ]
  },
  {
   "cell_type": "code",
   "execution_count": 6,
   "metadata": {
    "colab": {
     "base_uri": "https://localhost:8080/"
    },
    "id": "DwiS9cGq41Z9",
    "outputId": "1a4417e4-a4a0-49b4-de8f-9a0d09de45a9",
    "scrolled": false
   },
   "outputs": [
    {
     "name": "stdout",
     "output_type": "stream",
     "text": [
      "  My_Labels                                       Base_Reviews\n",
      "0   sadness  I am crying . Bought and paid the app.and don'...\n",
      "1     anger  downloaded and deleted because I faces problem...\n",
      "2   sadness  From some time the app shows invalid file when...\n",
      "3   disgust  You can only make calls to users of this app.I...\n",
      "4   disgust  I couldn't even sign up it just exited out and...\n",
      "212825\n"
     ]
    },
    {
     "data": {
      "text/html": [
       "<div>\n",
       "<style scoped>\n",
       "    .dataframe tbody tr th:only-of-type {\n",
       "        vertical-align: middle;\n",
       "    }\n",
       "\n",
       "    .dataframe tbody tr th {\n",
       "        vertical-align: top;\n",
       "    }\n",
       "\n",
       "    .dataframe thead th {\n",
       "        text-align: right;\n",
       "    }\n",
       "</style>\n",
       "<table border=\"1\" class=\"dataframe\">\n",
       "  <thead>\n",
       "    <tr style=\"text-align: right;\">\n",
       "      <th></th>\n",
       "      <th>Base_Reviews</th>\n",
       "    </tr>\n",
       "    <tr>\n",
       "      <th>My_Labels</th>\n",
       "      <th></th>\n",
       "    </tr>\n",
       "  </thead>\n",
       "  <tbody>\n",
       "    <tr>\n",
       "      <td>anger</td>\n",
       "      <td>1562</td>\n",
       "    </tr>\n",
       "    <tr>\n",
       "      <td>disgust</td>\n",
       "      <td>785</td>\n",
       "    </tr>\n",
       "    <tr>\n",
       "      <td>fear</td>\n",
       "      <td>2729</td>\n",
       "    </tr>\n",
       "    <tr>\n",
       "      <td>sadness</td>\n",
       "      <td>1923</td>\n",
       "    </tr>\n",
       "  </tbody>\n",
       "</table>\n",
       "</div>"
      ],
      "text/plain": [
       "           Base_Reviews\n",
       "My_Labels              \n",
       "anger              1562\n",
       "disgust             785\n",
       "fear               2729\n",
       "sadness            1923"
      ]
     },
     "execution_count": 6,
     "metadata": {},
     "output_type": "execute_result"
    }
   ],
   "source": [
    "df = pd.read_csv('datasetforclassification.csv', engine='python',usecols=['Base_Reviews','My_Labels'])\n",
    "df = df[pd.notnull(df['My_Labels'])]\n",
    "print(df.head())\n",
    "print(df['Base_Reviews'].astype(str).apply(lambda x: len(x.split(' '))).sum())\n",
    "df.groupby('My_Labels').count()"
   ]
  },
  {
   "cell_type": "code",
   "execution_count": 57,
   "metadata": {
    "colab": {
     "base_uri": "https://localhost:8080/",
     "height": 252
    },
    "id": "umt3UXau5BxO",
    "outputId": "6a698233-7d92-497e-d99a-921da22f4cc8"
   },
   "outputs": [
    {
     "data": {
      "image/png": "[encoded data removed]",
      "text/plain": [
       "<Figure size 432x288 with 1 Axes>"
      ]
     },
     "metadata": {},
     "output_type": "display_data"
    }
   ],
   "source": [
    "labels  = My_Labels = 'sadness ','anger','disgust','fear'\n",
    "sizes =[1562,785,2729,1923]\n",
    "explode =(0.1,0.1,0.1,0.2) \n",
    "fig1, ax1 = plt.subplots()\n",
    "ax1.pie(sizes, explode=explode, labels =labels , autopct='%1.1f%%',\n",
    "        shadow=True, startangle=90)\n",
    "ax1.axis('equal')  # Equal aspect ratio ensures that pie is drawn as a circle.\n",
    "\n",
    "plt.show()"
   ]
  },
  {
   "cell_type": "markdown",
   "metadata": {
    "id": "cVmU1Znotx5m"
   },
   "source": [
    "## clean_text\n",
    "clean the text by removing special characters, punctuations, etc."
   ]
  },
  {
   "cell_type": "code",
   "execution_count": 8,
   "metadata": {
    "colab": {
     "base_uri": "https://localhost:8080/"
    },
    "id": "pHgzyWOt5F-X",
    "outputId": "a342bf25-f274-44e8-b2fa-aef3464e4f81"
   },
   "outputs": [
    {
     "name": "stderr",
     "output_type": "stream",
     "text": [
      "[nltk_data] Downloading package stopwords to\n",
      "[nltk_data]     C:\\Users\\Nekdil\\AppData\\Roaming\\nltk_data...\n",
      "[nltk_data]   Package stopwords is already up-to-date!\n"
     ]
    }
   ],
   "source": [
    "# Text Pre-processing (text cleaning techniques)\n",
    "from bs4 import BeautifulSoup\n",
    "import re\n",
    "import nltk\n",
    "from nltk.corpus import stopwords\n",
    "nltk.download('stopwords')\n",
    "REPLACE_BY_SPACE_RE = re.compile('[/(){}\\[\\]\\|@,;]')\n",
    "BAD_SYMBOLS_RE = re.compile('[^0-9a-z #+_]')\n",
    "STOPWORDS = set(stopwords.words('english'))\n",
    "def clean_text(text):\n",
    "    \"\"\"\n",
    "        text: a string\n",
    "        \n",
    "        return: modified initial string\n",
    "    \"\"\"\n",
    "    text = BeautifulSoup(text, \"lxml\").text # HTML decoding\n",
    "    text = text.lower() # lowercase text\n",
    "    text = REPLACE_BY_SPACE_RE.sub(' ', text) # replace REPLACE_BY_SPACE_RE symbols by space in text\n",
    "    text = BAD_SYMBOLS_RE.sub('', text) # delete symbols which are in BAD_SYMBOLS_RE from text\n",
    "    text = ' '.join(word for word in text.split() if word not in STOPWORDS) # delete stopwors from text\n",
    "    return text"
   ]
  },
  {
   "cell_type": "code",
   "execution_count": 9,
   "metadata": {
    "colab": {
     "base_uri": "https://localhost:8080/"
    },
    "id": "BtQsiQgm5Kc-",
    "outputId": "60cef5e3-c4f7-4bd4-e677-652cba0f8bbb"
   },
   "outputs": [
    {
     "name": "stdout",
     "output_type": "stream",
     "text": [
      "downloaded and deleted because I faces problem in the dificult  layout. And also I got problem like this \" invalid file when trying to open\". Can you please fix this. Bothering me bro\n",
      "My_Labels: anger\n"
     ]
    }
   ],
   "source": [
    "def print_plot(index):\n",
    "    example = df[df.index == index][['Base_Reviews', 'My_Labels']].values[0]\n",
    "    if len(example) > 0:\n",
    "        print(example[0])\n",
    "        print('My_Labels:', example[1])\n",
    "print_plot(1)"
   ]
  },
  {
   "cell_type": "code",
   "execution_count": 10,
   "metadata": {
    "colab": {
     "base_uri": "https://localhost:8080/"
    },
    "id": "1JV8KHfS5Oko",
    "outputId": "e323542e-31f3-428a-a94e-9575b5060993"
   },
   "outputs": [
    {
     "name": "stdout",
     "output_type": "stream",
     "text": [
      "downloaded deleted faces problem dificult layout also got problem like invalid file trying open please fix bothering bro\n",
      "My_Labels: anger\n"
     ]
    }
   ],
   "source": [
    "# We want to show a look a Clean text and lables as you wanna.(After text_Preprocessing)\n",
    "df['Base_Reviews'] = df['Base_Reviews'].astype(str).apply(clean_text)\n",
    "print_plot(1) # 4567"
   ]
  },
  {
   "cell_type": "code",
   "execution_count": 11,
   "metadata": {
    "id": "lkWKSBTJ5UIv"
   },
   "outputs": [],
   "source": [
    "def clean_text(text):\n",
    "    \"\"\" clean the text by removing special characters, punctuations, etc. \"\"\"\n",
    "    text = text.lower()\n",
    "    remove_xx_seq  = re.compile('xx+')\n",
    "    replace_by_space = re.compile('[/(){}\\[\\]\\|@,;]')\n",
    "    remove_special_characters = re.compile('[^0-9a-z +]')\n",
    "    remove_extra_space = re.compile('[^A-Za-z0-9]+')\n",
    "    remove_numbers = re.compile('[0-9]+')\n",
    "    text = re.sub(remove_xx_seq, ' ', text)\n",
    "    text = re.sub(replace_by_space, ' ', text)\n",
    "    text = re.sub(remove_special_characters, ' ', text)\n",
    "    text = re.sub(remove_numbers, ' ', text)\n",
    "    text = re.sub(remove_extra_space, ' ', text)\n",
    "    return text.strip()"
   ]
  },
  {
   "cell_type": "markdown",
   "metadata": {
    "id": "__0fkhFpt61L"
   },
   "source": [
    "## preprocess_corpus\n",
    "Preprocess the entire corpus including cleaning the text documents and return the updated dataframe."
   ]
  },
  {
   "cell_type": "code",
   "execution_count": 12,
   "metadata": {
    "id": "ypLZijDc5QM-"
   },
   "outputs": [],
   "source": [
    "def preprocess_corpus(df, column='text'):\n",
    "    \"\"\" Preprocess the entire corpus including cleaning the text documents and return the updated dataframe. \"\"\"\n",
    "    df[column] = df[column].apply(clean_text)\n",
    "    return df"
   ]
  },
  {
   "cell_type": "markdown",
   "metadata": {
    "id": "njjRI8Kbt-5s"
   },
   "source": [
    "## Encode_labels\n",
    "Encode the class labels into a numbers."
   ]
  },
  {
   "cell_type": "code",
   "execution_count": 13,
   "metadata": {
    "id": "1GH_msIK5yiy"
   },
   "outputs": [],
   "source": [
    "def encode_labels(labels):\n",
    "    \"\"\" Encode the class labels into a numbers. \"\"\"\n",
    "    label_encoder = preprocessing.LabelEncoder()\n",
    "    label_encoder.fit(labels)\n",
    "    #label_encoder.get_vocabulary()\n",
    "    return label_encoder\n"
   ]
  },
  {
   "cell_type": "markdown",
   "metadata": {
    "id": "2BZPQ1h1uFnK"
   },
   "source": [
    "## Compute_tfidf\n",
    " Calculate the tfidf features for all the text documents and return a (documents, fatures) matrix. "
   ]
  },
  {
   "cell_type": "code",
   "execution_count": 14,
   "metadata": {
    "id": "AC_faNGn54uO"
   },
   "outputs": [],
   "source": [
    "# def compute_tfidf(corpus, stop_words='english', ngram_range=(1, 1), max_features=None):\n",
    "  #   \"\"\" Calculate the tfidf features for all the text documents and return a (documents, fatures) matrix. \"\"\"\n",
    "   #  vectorizer = TfidfVectorizer(input='content', stop_words=stop_words, ngram_range=ngram_range, min_df=3, max_df=0.9, max_features=max_features)\n",
    "   ##  print('Computing tfidf features...', end='')\n",
    "    # X = vectorizer.fit_transform(corpus)\n",
    "   #  print('done!')\n",
    "    # return X, vectorizer"
   ]
  },
  {
   "cell_type": "markdown",
   "metadata": {
    "id": "osRNFWZ1mjlL"
   },
   "source": [
    "## Count Vectorizer"
   ]
  },
  {
   "cell_type": "code",
   "execution_count": 15,
   "metadata": {
    "id": "714h3G-fmfnQ"
   },
   "outputs": [],
   "source": [
    " def compute_count(corpus, stop_words='english', ngram_range=(1, 1), max_features=None):\n",
    "     \"\"\" Calculate the Count Vectorizer features for all the text documents and return a (documents, fatures) matrix. \"\"\"\n",
    "     vectorizer = CountVectorizer(input='content', stop_words=stop_words, ngram_range=ngram_range, min_df=3, max_df=0.9, max_features=max_features)\n",
    "     print('Computing tfidf features...', end='')\n",
    "     X = vectorizer.fit_transform(corpus)\n",
    "     print('done!')\n",
    "     return X, vectorizer"
   ]
  },
  {
   "cell_type": "markdown",
   "metadata": {
    "id": "WhhV7AyYuIIG"
   },
   "source": [
    "## Train_test_model\n",
    "Train and test the model using the training and test data sets. Return the predictions, accuracy and metric reports."
   ]
  },
  {
   "cell_type": "code",
   "execution_count": 16,
   "metadata": {
    "id": "dJdYi6bA6RCZ"
   },
   "outputs": [],
   "source": [
    "from sklearn.metrics import accuracy_score\n",
    "from sklearn.metrics import precision_recall_fscore_support\n",
    "alg_accuracy= []\n",
    "alg_p_r_f_score =[]\n",
    "\n",
    "def train_test_model(model, X_train, X_test, y_train, y_test,labels):\n",
    "    \"\"\" Train and test the model using the training and test data sets. Return the predictions, accuracy and metric reports. \"\"\"\n",
    "    print('Start training...', end='')\n",
    "    model.fit(X_train, y_train)\n",
    "    print('done!')\n",
    "    print('Start testing...', end='')\n",
    "    predictions = model.predict(X_test)\n",
    "    accuracy = model.score(X_test, y_test)\n",
    "    ####javed####\n",
    "    alg_accuracy= accuracy_score(predictions, y_test)\n",
    "    alg_p_r_f_score = precision_recall_fscore_support(y_test,predictions, average=None)\n",
    "     ####javed####\n",
    "    f1score = f1_score(y_test, predictions, average='weighted', pos_label=4)\n",
    "    confusionMatrix = confusion_matrix(y_test, predictions)\n",
    "    recall = recall_score(y_test, predictions, average='weighted', pos_label=4)\n",
    "    precision = precision_score(y_test, predictions, average='weighted', pos_label=4)\n",
    "    metrics_report = classification_report(y_test, predictions, target_names=labels)\n",
    "#    precision, recall, fscore, train_support = score(y_test, predictions, average='weighted')\n",
    "    print('done!')\n",
    "    return predictions, accuracy, precision, recall, f1score, alg_accuracy, alg_p_r_f_score\n",
    "    #return  predictions, accuracy, tpr, fpr"
   ]
  },
  {
   "cell_type": "code",
   "execution_count": 17,
   "metadata": {
    "colab": {
     "base_uri": "https://localhost:8080/"
    },
    "id": "q1HqdXfE6YMq",
    "outputId": "af4faede-e198-4ee0-98ce-6a92ca162cb3",
    "scrolled": true
   },
   "outputs": [
    {
     "name": "stdout",
     "output_type": "stream",
     "text": [
      "Number of categories:  ['sadness' 'anger' 'disgust' 'fear']\n",
      "\n"
     ]
    },
    {
     "data": {
      "text/plain": [
       "<matplotlib.axes._subplots.AxesSubplot at 0x27ed37946c8>"
      ]
     },
     "execution_count": 17,
     "metadata": {},
     "output_type": "execute_result"
    },
    {
     "data": {
      "image/png": "[encoded data removed]",
      "text/plain": [
       "<Figure size 432x288 with 1 Axes>"
      ]
     },
     "metadata": {
      "needs_background": "light"
     },
     "output_type": "display_data"
    }
   ],
   "source": [
    "categories = df.My_Labels.unique()\n",
    "print('Number of categories: ', categories)\n",
    "print()\n",
    "df.My_Labels.value_counts().plot(kind='bar', title='Categories vs Number of reviews', cmap='plasma')"
   ]
  },
  {
   "cell_type": "markdown",
   "metadata": {
    "id": "i6INwkwgVWBY"
   },
   "source": [
    "# Setting for model TFIDF Features"
   ]
  },
  {
   "cell_type": "code",
   "execution_count": 18,
   "metadata": {
    "colab": {
     "base_uri": "https://localhost:8080/"
    },
    "id": "xkJ8WAm46Zpu",
    "outputId": "ece0ccb6-9a97-4c86-f959-e670d282a5cb"
   },
   "outputs": [
    {
     "name": "stdout",
     "output_type": "stream",
     "text": [
      "Computing tfidf features...done!\n",
      "  (0, 888)\t1\n",
      "  (0, 507)\t1\n",
      "  (0, 2408)\t1\n",
      "  (0, 294)\t1\n",
      "  (0, 1069)\t1\n",
      "  (0, 3821)\t2\n",
      "  (0, 1879)\t1\n",
      "  (0, 1607)\t1\n",
      "  (0, 12)\t1\n",
      "  (0, 3478)\t1\n",
      "  (0, 290)\t2\n",
      "  (0, 3067)\t1\n",
      "  (0, 1796)\t1\n",
      "  (0, 1338)\t1\n",
      "  (0, 3548)\t1\n",
      "  (0, 2354)\t1\n",
      "  (0, 2440)\t1\n",
      "  (0, 3656)\t1\n",
      "  (0, 2044)\t1\n",
      "  (0, 2774)\t1\n",
      "  (0, 1653)\t1\n",
      "  (0, 1365)\t1\n",
      "  (0, 2609)\t1\n",
      "  (0, 1062)\t1\n",
      "  (1, 1796)\t1\n",
      "  :\t:\n",
      "  (6995, 3274)\t1\n",
      "  (6996, 2069)\t1\n",
      "  (6996, 2922)\t1\n",
      "  (6996, 2716)\t1\n",
      "  (6996, 3156)\t1\n",
      "  (6996, 3202)\t1\n",
      "  (6996, 3007)\t1\n",
      "  (6996, 1168)\t1\n",
      "  (6996, 3641)\t1\n",
      "  (6996, 3013)\t1\n",
      "  (6996, 617)\t1\n",
      "  (6996, 2098)\t1\n",
      "  (6996, 2567)\t1\n",
      "  (6996, 1506)\t1\n",
      "  (6997, 3478)\t1\n",
      "  (6997, 1600)\t1\n",
      "  (6997, 2510)\t1\n",
      "  (6997, 3724)\t1\n",
      "  (6997, 779)\t1\n",
      "  (6997, 2925)\t1\n",
      "  (6998, 1069)\t1\n",
      "  (6998, 1301)\t1\n",
      "  (6998, 1977)\t1\n",
      "  (6998, 2722)\t1\n",
      "  (6998, 2433)\t1\n",
      "CountVectorizer(max_df=0.9, min_df=3, stop_words='english')\n",
      "[3 0 3 ... 2 2 1]\n"
     ]
    }
   ],
   "source": [
    "# Create tfidf features from the text\n",
    "stop_words    = 'english'\n",
    "ngram_range   = (1, 1)\n",
    "max_features  = None\n",
    "# X, vectorizer = compute_tfidf(df['Base_Reviews'].apply(lambda x: np.str_(x)), stop_words, ngram_range, max_features)\n",
    "X, vectorizer = compute_count(df['Base_Reviews'].apply(lambda x: np.str_(x)), stop_words, ngram_range, max_features)\n",
    "\n",
    "# Encode the labels\n",
    "labels = df.My_Labels.unique()\n",
    "label_encoder = encode_labels(labels)\n",
    "y = label_encoder.transform(df.My_Labels)\n",
    "print(X)\n",
    "print(vectorizer)\n",
    "print(y)"
   ]
  },
  {
   "cell_type": "markdown",
   "metadata": {
    "id": "y8neizT-G8iK"
   },
   "source": [
    "## Import Oversampling and Under-sampling methods"
   ]
  },
  {
   "cell_type": "code",
   "execution_count": 19,
   "metadata": {
    "id": "2rFwPzH_9qUN"
   },
   "outputs": [
    {
     "name": "stdout",
     "output_type": "stream",
     "text": [
      "Requirement already satisfied: imbalanced-learn in d:\\anaconda files\\lib\\site-packages (0.8.1)\n",
      "Requirement already satisfied: scipy>=0.19.1 in d:\\anaconda files\\lib\\site-packages (from imbalanced-learn) (1.3.1)\n",
      "Requirement already satisfied: joblib>=0.11 in d:\\anaconda files\\lib\\site-packages (from imbalanced-learn) (0.13.2)\n",
      "Requirement already satisfied: scikit-learn>=0.24 in d:\\anaconda files\\lib\\site-packages (from imbalanced-learn) (1.0)\n",
      "Requirement already satisfied: numpy>=1.13.3 in d:\\anaconda files\\lib\\site-packages (from imbalanced-learn) (1.16.5)\n",
      "Requirement already satisfied: threadpoolctl>=2.0.0 in d:\\anaconda files\\lib\\site-packages (from scikit-learn>=0.24->imbalanced-learn) (3.0.0)\n"
     ]
    }
   ],
   "source": [
    "!pip install imbalanced-learn\n",
    "from imblearn.over_sampling import SMOTE\n",
    "from imblearn.under_sampling import RandomUnderSampler\n",
    "from sklearn.model_selection import cross_val_score\n",
    "sm = SMOTE()\n",
    "rus = RandomUnderSampler(random_state=42, replacement=True)# fit predictor and target variable"
   ]
  },
  {
   "cell_type": "code",
   "execution_count": 20,
   "metadata": {
    "id": "p7XU66SFIqfU"
   },
   "outputs": [],
   "source": [
    "skfold = StratifiedKFold(n_splits=10, shuffle=True, random_state=123)"
   ]
  },
  {
   "cell_type": "markdown",
   "metadata": {
    "id": "EUlvHOE29um1"
   },
   "source": [
    "# Oversampling"
   ]
  },
  {
   "cell_type": "markdown",
   "metadata": {
    "id": "hIPaa_S8BsY1"
   },
   "source": [
    "### MultinomialNB"
   ]
  },
  {
   "cell_type": "code",
   "execution_count": 21,
   "metadata": {
    "colab": {
     "base_uri": "https://localhost:8080/"
    },
    "id": "myGPuiPJRu8D",
    "outputId": "71921084-d93f-48de-9c53-4707e4a2a94b",
    "scrolled": true
   },
   "outputs": [
    {
     "name": "stdout",
     "output_type": "stream",
     "text": [
      "Start training...done!\n",
      "Start testing...done!\n",
      "Start training...done!\n",
      "Start testing...done!\n",
      "Start training...done!\n",
      "Start testing...done!\n",
      "Start training...done!\n",
      "Start testing...done!\n",
      "Start training...done!\n",
      "Start testing...done!\n",
      "Start training...done!\n",
      "Start testing...done!\n",
      "Start training...done!\n",
      "Start testing...done!\n",
      "Start training...done!\n",
      "Start testing...done!\n",
      "Start training...done!\n",
      "Start testing...done!\n",
      "Start training...done!\n",
      "Start testing...done!\n",
      "Total time: 4.84s\n",
      "mean accuracy: 0.77 %\n",
      "mean f1 socre: 0.77 %\n",
      "mean precision: 0.78 %\n",
      "mean recall: 0.77 %\n",
      "the average accuracy of MNB is 0.7669673002248111\n",
      "the presion, recall, f are [[  0.74411673   0.6725506    0.8794944    0.72162293]\n",
      " [  0.76441287   0.87776696   0.69621983   0.8242093 ]\n",
      " [  0.75366544   0.76030141   0.77680878   0.76862532]\n",
      " [156.2         78.5        272.9        192.3       ]]\n",
      "0.9193552746723703\n",
      "[(0, 2457), (1, 2457), (2, 2457), (3, 2457)]\n"
     ]
    },
    {
     "data": {
      "text/plain": [
       "<sklearn.metrics._plot.confusion_matrix.ConfusionMatrixDisplay at 0x27ed3a60b08>"
      ]
     },
     "execution_count": 21,
     "metadata": {},
     "output_type": "execute_result"
    },
    {
     "data": {
      "image/png": "[encoded data removed]",
      "text/plain": [
       "<Figure size 432x288 with 2 Axes>"
      ]
     },
     "metadata": {
      "needs_background": "light"
     },
     "output_type": "display_data"
    }
   ],
   "source": [
    "from scipy import interp\n",
    "nb_model = MultinomialNB()\n",
    "\n",
    "accs = []\n",
    "reports = []\n",
    "f1 = []\n",
    "pr = []\n",
    "re = []\n",
    "pe = []\n",
    "#javed#\n",
    "accuracy_ = []\n",
    "P_r_f = []\n",
    "\n",
    "mean_accuracy= []\n",
    "mean_p_r_f =[]\n",
    "##javed###\n",
    "roc_auc_ = []\n",
    "roc_auc_one = []\n",
    "roc_auc_two = []\n",
    "roc_auc_three = []\n",
    "#n1 roc_auc_four = []\n",
    "\n",
    "tprs_zero_nb = []\n",
    "tprs_one_nb = []\n",
    "tprs_two_nb = []\n",
    "tprs_three_nb = []\n",
    "#n1 tprs_four_nb = []\n",
    "\n",
    "mean_fpr = np.linspace(0,1,100)\n",
    "\n",
    "st_time = time.time()\n",
    "for train_index, test_index in skfold.split(X,y):\n",
    "    X_train, X_test = X[train_index], X[test_index]\n",
    "    y_train, y_test = y[train_index], y[test_index]\n",
    "    # Oversample\n",
    "    X_train_res, y_train_res = sm.fit_resample(X_train, y_train)\n",
    "    predictions, accuracy, precision, recall, f1socre,alg_accuracy, alg_p_r_f_score  = train_test_model(nb_model, X_train_res, X_test, y_train_res, y_test, labels)\n",
    "    #print(\"the accuracy is\",alg_accuracy)\n",
    "    #break\n",
    "   # fpr_zero, tpr_zero, _ = roc_curve(y_test, nb_model.predict_proba(X_test)[:,1], pos_label=0)\n",
    "    fpr_one, tpr_one, __ = roc_curve(y_test, nb_model.predict_proba(X_test)[:,3], pos_label=3)\n",
    "    #fpr_two, tpr_two, ___ = roc_curve(y_test, nb_model.predict_proba(X_test)[:,1], pos_label=2)\n",
    "    #fpr_three, tpr_three, ____ = roc_curve(y_test, nb_model.predict_proba(X_test)[:,1], pos_label=3)\n",
    "    #fpr_four, tpr_four, _____ = roc_curve(y_test, nb_model.predict_proba(X_test)[:,1], pos_label=4)\n",
    "    \n",
    "    tprs_one_nb.append(interp(mean_fpr, fpr_one, tpr_one))\n",
    "    \n",
    "    #roc_auc_one = (auc(fpr_zero, tpr_zero))\n",
    "    roc_auc_one = (auc(fpr_one, tpr_one))\n",
    "    #roc_auc_two = (auc(fpr_two, tpr_two))\n",
    "    #roc_auc_three = (auc(fpr_three, tpr_three))\n",
    "    #roc_auc_four = (auc(fpr_four, tpr_four))\n",
    "    \n",
    "    #javed###      \n",
    "    accuracy_.append(alg_accuracy)\n",
    "    P_r_f.append(alg_p_r_f_score)\n",
    "    #### jave ####\n",
    "\n",
    "    pe.append(predictions)\n",
    "    accs.append(accuracy)\n",
    "    f1.append(f1socre)\n",
    "    pr.append(precision)\n",
    "    re.append(recall)\n",
    "      \n",
    "en_time = time.time()\n",
    "#print('mean predictions: {:.2f} %'.format(sum(pe) / len(pe) ))\n",
    "print('Total time: {:.2f}s'.format(en_time-st_time))   \n",
    "print('mean accuracy: {:.2f} %'.format(np.mean(accs)))\n",
    "print('mean f1 socre: {:.2f} %'.format(np.mean(f1)))\n",
    "print('mean precision: {:.2f} %'.format(np.mean(pr)))\n",
    "print('mean recall: {:.2f} %'.format(np.mean(re)))\n",
    "\n",
    "#roc_zero = sum(roc_auc_) / len(roc_auc_)\n",
    "#print(\"\\nROC across folds for zero: \", roc_zero)\n",
    "\n",
    "#roc_one = sum(roc_auc_one) / len(roc_auc_one)\n",
    "#print(\"\\nROC across folds for one: \", roc_one)\n",
    "\n",
    "#roc_two = sum(roc_auc_two) / len(roc_auc_two)\n",
    "#print(\"\\nROC across folds for two: \", roc_two)\n",
    "\n",
    "#roc_three = sum(roc_auc_three) / len(roc_auc_three)\n",
    "#print(\"\\nROC across folds for three: \", roc_three)\n",
    "\n",
    "#roc_four = sum(roc_auc_four) / len(roc_auc_four)\n",
    "#print(\"\\nROC across folds for four: \", roc_four)\n",
    "\n",
    "mean_tpr = np.mean(tprs_one_nb, axis=0)\n",
    "mean_auc = auc(mean_fpr, mean_tpr)\n",
    "\n",
    "#### jave ####\n",
    "mean_accuracy= np.mean(accuracy_, axis=0)\n",
    "print(\"the average accuracy of MNB is\",mean_accuracy)\n",
    "    \n",
    "mean_p_r_f=np.mean(P_r_f, axis=0)\n",
    "print(\"the presion, recall, f are\", mean_p_r_f)\n",
    "#### jave ####\n",
    "\n",
    "#print(mean_tpr)\n",
    "#print(mean_fpr)\n",
    "print(mean_auc)\n",
    "#print(metrics_report)\n",
    "unique, counts = np.unique(y_train_res, return_counts=True)\n",
    "print(list(zip(unique, counts)))\n",
    "plot_confusion_matrix(nb_model, X_test, y_test, display_labels=labels, xticks_rotation='vertical', cmap=\"BuPu\")"
   ]
  },
  {
   "cell_type": "code",
   "execution_count": 22,
   "metadata": {
    "colab": {
     "base_uri": "https://localhost:8080/"
    },
    "id": "MAsT5sG0Wp88",
    "outputId": "5c9e4372-7b38-4764-bd77-574879bf427e"
   },
   "outputs": [
    {
     "data": {
      "image/png": "[encoded data removed]",
      "text/plain": [
       "<Figure size 432x288 with 1 Axes>"
      ]
     },
     "metadata": {
      "needs_background": "light"
     },
     "output_type": "display_data"
    }
   ],
   "source": [
    "plt.title('Receiver Operating Characteristic')\n",
    "#plt.plot(fpr_zero, tpr_zero, 'b', color='green', label= \"ROC for 0 label =\" +str(roc_zero))\n",
    "plt.plot(mean_fpr, mean_tpr, 'b', label= \"ROC for 1 label =\" +str(mean_auc))\n",
    "#plt.plot(fpr_two, tpr_two, 'b', color='purple',  label= \"ROC for 2 label =\" +str(roc_two))\n",
    "#plt.plot(fpr_three, tpr_three, 'b', color='red',  label= \"ROC for 3 label =\" +str(roc_three))\n",
    "#plt.plot(fpr_four, tpr_four, 'b', color='yellow', label= \"ROC for 4 label =\" +str(roc_four))\n",
    "plt.legend(loc = 'lower right')\n",
    "#plt.plot([0, 1], [0, 1],'r--')\n",
    "plt.xlim([0, 1])\n",
    "plt.ylim([0, 1.05])\n",
    "plt.ylabel('True Positive Rate')\n",
    "plt.xlabel('False Positive Rate')\n",
    "plt.show()"
   ]
  },
  {
   "cell_type": "markdown",
   "metadata": {
    "id": "dWKvvFE9CTtB"
   },
   "source": [
    "### LogisticRegression"
   ]
  },
  {
   "cell_type": "code",
   "execution_count": 23,
   "metadata": {
    "colab": {
     "base_uri": "https://localhost:8080/"
    },
    "id": "abIgelNWApSA",
    "outputId": "54281b2a-5395-47b4-f0a8-ca089010e180"
   },
   "outputs": [
    {
     "name": "stdout",
     "output_type": "stream",
     "text": [
      "Start training...done!\n",
      "Start testing...done!\n",
      "Start training...done!\n",
      "Start testing...done!\n",
      "Start training...done!\n",
      "Start testing...done!\n",
      "Start training...done!\n",
      "Start testing...done!\n",
      "Start training...done!\n",
      "Start testing...done!\n",
      "Start training...done!\n",
      "Start testing...done!\n",
      "Start training...done!\n",
      "Start testing...done!\n",
      "Start training...done!\n",
      "Start testing...done!\n",
      "Start training...done!\n",
      "Start testing...done!\n",
      "Start training...done!\n",
      "Start testing...done!\n",
      "Total time: 18.45s\n",
      "mean accuracy: 0.93 %\n",
      "mean f1 socre: 0.93 %\n",
      "mean precision: 0.93 %\n",
      "mean recall: 0.93 %\n",
      "\n",
      "ROC across folds for zero:  0.39758636898290434\n",
      "\n",
      "ROC across folds for one:  0.9983114351487655\n",
      "\n",
      "ROC across folds for two:  0.41629818541540187\n",
      "\n",
      "ROC across folds for three:  0.4400205836871457\n",
      "\n",
      "ROC across folds for four:  nan\n",
      "the average accuracy of LR is 0.9334185571224198\n",
      "the presion, recall, f are [[  0.92385939   0.97900033   0.93190903   0.92747513]\n",
      " [  0.91166095   0.93370659   0.9490654    0.92874028]\n",
      " [  0.91732517   0.9555159    0.94027288   0.92766367]\n",
      " [156.2         78.5        272.9        192.3       ]]\n",
      "[(0, 1406), (1, 706), (2, 2457), (3, 1731)]\n"
     ]
    },
    {
     "data": {
      "text/plain": [
       "<sklearn.metrics._plot.confusion_matrix.ConfusionMatrixDisplay at 0x27ed4c540c8>"
      ]
     },
     "execution_count": 23,
     "metadata": {},
     "output_type": "execute_result"
    },
    {
     "data": {
      "image/png": "[encoded data removed]",
      "text/plain": [
       "<Figure size 432x288 with 2 Axes>"
      ]
     },
     "metadata": {
      "needs_background": "light"
     },
     "output_type": "display_data"
    }
   ],
   "source": [
    "log_model = LogisticRegression(penalty='l2', max_iter=500)\n",
    "\n",
    "accs = []\n",
    "reports = []\n",
    "f1 = []\n",
    "pr = []\n",
    "re = []\n",
    "pe = []\n",
    "\n",
    "#javed#\n",
    "accuracy_ = []\n",
    "P_r_f = []\n",
    "\n",
    "mean_accuracy= []\n",
    "mean_p_r_f =[]\n",
    "##javed###\n",
    "\n",
    "roc_auc_ = []\n",
    "roc_auc_one = []\n",
    "roc_auc_two = []\n",
    "roc_auc_three = []\n",
    "roc_auc_four = []\n",
    "st_time = time.time()\n",
    "for train_index, test_index in skfold.split(X,y):\n",
    "    X_train, X_test = X[train_index], X[test_index]\n",
    "    y_train, y_test = y[train_index], y[test_index]\n",
    "    # Oversample\n",
    "    #X_train_res, y_train_res = sm.fit_sample(X_train, y_train)\n",
    "    predictions, accuracy, precision, recall, f1socre, alg_accuracy, alg_p_r_f_score = train_test_model(log_model, X_train, X_test, y_train, y_test, labels)\n",
    "    \n",
    "    fpr_zero, tpr_zero, _ = roc_curve(y_test, log_model.predict_proba(X_test)[:,1], pos_label=0)\n",
    "    fpr_one, tpr_one, __ = roc_curve(y_test, log_model.predict_proba(X_test)[:,1], pos_label=1)\n",
    "    fpr_two, tpr_two, ___ = roc_curve(y_test, log_model.predict_proba(X_test)[:,1], pos_label=2)\n",
    "    fpr_three, tpr_three, ____ = roc_curve(y_test, log_model.predict_proba(X_test)[:,1], pos_label=3)\n",
    "    fpr_four, tpr_four, _____ = roc_curve(y_test, log_model.predict_proba(X_test)[:,1], pos_label=4)\n",
    "\n",
    "    roc_auc_.append(auc(fpr_zero, tpr_zero))\n",
    "    roc_auc_one.append(auc(fpr_one, tpr_one))\n",
    "    roc_auc_two.append(auc(fpr_two, tpr_two))\n",
    "    roc_auc_three.append(auc(fpr_three, tpr_three))\n",
    "    roc_auc_four.append(auc(fpr_four, tpr_four))\n",
    "    \n",
    "     #javed###      \n",
    "    accuracy_.append(alg_accuracy)\n",
    "    P_r_f.append(alg_p_r_f_score)\n",
    "    #### jave ####\n",
    "\n",
    "    pe.append(predictions)\n",
    "    accs.append(accuracy)\n",
    "    f1.append(f1socre)\n",
    "    pr.append(precision)\n",
    "    re.append(recall)\n",
    "\n",
    "\n",
    "en_time = time.time()\n",
    "#print('mean predictions: {:.2f} %'.format(sum(pe) / len(pe) ))\n",
    "print('Total time: {:.2f}s'.format(en_time-st_time))   \n",
    "print('mean accuracy: {:.2f} %'.format(np.mean(accs)))\n",
    "print('mean f1 socre: {:.2f} %'.format(np.mean(f1)))\n",
    "print('mean precision: {:.2f} %'.format(np.mean(pr)))\n",
    "print('mean recall: {:.2f} %'.format(np.mean(re)))\n",
    "\n",
    "roc_zero = sum(roc_auc_) / len(roc_auc_)\n",
    "print(\"\\nROC across folds for zero: \", roc_zero)\n",
    "\n",
    "roc_one = sum(roc_auc_one) / len(roc_auc_one)\n",
    "print(\"\\nROC across folds for one: \", roc_one)\n",
    "\n",
    "roc_two = sum(roc_auc_two) / len(roc_auc_two)\n",
    "print(\"\\nROC across folds for two: \", roc_two)\n",
    "\n",
    "roc_three = sum(roc_auc_three) / len(roc_auc_three)\n",
    "print(\"\\nROC across folds for three: \", roc_three)\n",
    "\n",
    "roc_four = sum(roc_auc_four) / len(roc_auc_four)\n",
    "print(\"\\nROC across folds for four: \", roc_four)\n",
    "\n",
    "#### jave ####\n",
    "mean_accuracy= np.mean(accuracy_, axis=0)\n",
    "print(\"the average accuracy of LR is\",mean_accuracy)\n",
    "    \n",
    "mean_p_r_f=np.mean(P_r_f, axis=0)\n",
    "print(\"the presion, recall, f are\", mean_p_r_f)\n",
    "#### jave ####\n",
    "\n",
    "\n",
    "#print(fpr_zero)\n",
    "#print(tpr_zero)\n",
    "\n",
    "#print(metrics_report)\n",
    "unique, counts = np.unique(y_train, return_counts=True)\n",
    "print(list(zip(unique, counts)))\n",
    "plot_confusion_matrix(log_model, X_test, y_test, display_labels=labels, xticks_rotation='vertical', cmap=\"BuPu\")"
   ]
  },
  {
   "cell_type": "code",
   "execution_count": 24,
   "metadata": {
    "colab": {
     "base_uri": "https://localhost:8080/",
     "height": 295
    },
    "id": "GLzcrXJv8lgZ",
    "outputId": "ed380c8c-5843-48de-945a-908e5a5d1f72"
   },
   "outputs": [
    {
     "data": {
      "image/png": "[encoded data removed]",
      "text/plain": [
       "<Figure size 432x288 with 1 Axes>"
      ]
     },
     "metadata": {
      "needs_background": "light"
     },
     "output_type": "display_data"
    }
   ],
   "source": [
    "plt.title('Receiver Operating Characteristic')\n",
    "#plt.plot(fpr_zero, tpr_zero, 'b', color='green', label= \"ROC for 0 label =\" +str(roc_zero))\n",
    "plt.plot(fpr_one, tpr_one, 'b', label= \"ROC for 1 label =\" +str(roc_one))\n",
    "#plt.plot(fpr_two, tpr_two, 'b', color='purple',  label= \"ROC for 2 label =\" +str(roc_two))\n",
    "#plt.plot(fpr_three, tpr_three, 'b', color='red',  label= \"ROC for 3 label =\" +str(roc_three))\n",
    "#plt.plot(fpr_four, tpr_four, 'b', color='yellow', label= \"ROC for 4 label =\" +str(roc_four))\n",
    "plt.legend(loc = 'lower right')\n",
    "#plt.plot([0, 1], [0, 1],'r--')\n",
    "plt.xlim([0, 1])\n",
    "plt.ylim([0, 1.05])\n",
    "plt.ylabel('True Positive Rate')\n",
    "plt.xlabel('False Positive Rate')\n",
    "plt.show()"
   ]
  },
  {
   "cell_type": "markdown",
   "metadata": {
    "id": "i74aicPaD2pa"
   },
   "source": [
    "### LinearSVC"
   ]
  },
  {
   "cell_type": "code",
   "execution_count": 25,
   "metadata": {
    "colab": {
     "base_uri": "https://localhost:8080/"
    },
    "id": "9QEBmQYkD0RN",
    "outputId": "65a536dd-22eb-4fbf-ad2d-0f0534d43228"
   },
   "outputs": [
    {
     "name": "stdout",
     "output_type": "stream",
     "text": [
      "Start training...done!\n",
      "Start testing...done!\n",
      "Start training...done!\n",
      "Start testing...done!\n",
      "Start training...done!\n",
      "Start testing...done!\n",
      "Start training...done!\n",
      "Start testing...done!\n",
      "Start training...done!\n",
      "Start testing...done!\n",
      "Start training...done!\n",
      "Start testing...done!\n",
      "Start training...done!\n",
      "Start testing...done!\n",
      "Start training...done!\n",
      "Start testing...done!\n",
      "Start training...done!\n",
      "Start testing...done!\n",
      "Start training...done!\n",
      "Start testing...done!\n",
      "Total time: 16.78s\n",
      "mean accuracy: 0.94 %\n",
      "mean f1 socre: 0.94 %\n",
      "mean precision: 0.94 %\n",
      "mean recall: 0.94 %\n",
      "the average accuracy of LSV is 0.9394140609033312\n",
      "the presion, recall, f are [[  0.91613624   0.92142621   0.97051472   0.92648544]\n",
      " [  0.9506941    0.99490425   0.91606739   0.94070056]\n",
      " [  0.93291539   0.95661985   0.94239376   0.93336892]\n",
      " [156.2         78.5        272.9        192.3       ]]\n",
      "[(0, 2457), (1, 2457), (2, 2457), (3, 2457)]\n"
     ]
    },
    {
     "data": {
      "text/plain": [
       "<sklearn.metrics._plot.confusion_matrix.ConfusionMatrixDisplay at 0x27ed4caadc8>"
      ]
     },
     "execution_count": 25,
     "metadata": {},
     "output_type": "execute_result"
    },
    {
     "data": {
      "image/png": "[encoded data removed]",
      "text/plain": [
       "<Figure size 432x288 with 2 Axes>"
      ]
     },
     "metadata": {
      "needs_background": "light"
     },
     "output_type": "display_data"
    }
   ],
   "source": [
    "svm = LinearSVC(class_weight='balanced', verbose=False, max_iter=10000, tol=1e-4, C=0.1)\n",
    "\n",
    "accs = []\n",
    "reports = []\n",
    "f1 = []\n",
    "pr = []\n",
    "re = []\n",
    "pe = []\n",
    "\n",
    "#javed#\n",
    "accuracy_ = []\n",
    "P_r_f = []\n",
    "\n",
    "mean_accuracy= []\n",
    "mean_p_r_f =[]\n",
    "##javed###\n",
    "\n",
    "roc_auc_ = []\n",
    "roc_auc_one = []\n",
    "roc_auc_two = []\n",
    "roc_auc_three = []\n",
    "roc_auc_four_svm = []\n",
    "\n",
    "tprs_zero_svm = []\n",
    "tprs_one_svm = []\n",
    "tprs_two_svm = []\n",
    "tprs_three_svm = []\n",
    "tprs_four_svm = []\n",
    "\n",
    "mean_fpr_svm = np.linspace(0,1,100)\n",
    "\n",
    "st_time = time.time()\n",
    "for train_index, test_index in skfold.split(X,y):\n",
    "    X_train, X_test = X[train_index], X[test_index]\n",
    "    y_train, y_test = y[train_index], y[test_index]\n",
    "    # Oversample\n",
    "    #X_train_res, y_train_res = sm.fit_sample(X_train, y_train)\n",
    "    predictions, accuracy, precision, recall, f1socre, alg_accuracy, alg_p_r_f_score = train_test_model(svm, X_train_res, X_test, y_train_res, y_test, labels)\n",
    "    \n",
    "    #fpr_zero, tpr_zero, _ = roc_curve(y_test, svm.decision_function(X_test)[:,1], pos_label=0)\n",
    "    #fpr_one, tpr_one, __ = roc_curve(y_test, svm.decision_function(X_test)[:,1], pos_label=1)\n",
    "    #fpr_two, tpr_two, ___ = roc_curve(y_test, svm.decision_function(X_test)[:,1], pos_label=2)\n",
    "    #fpr_three, tpr_three, ____ = roc_curve(y_test, svm.decision_function(X_test)[:,1], pos_label=3)\n",
    "    fpr_four_svm, tpr_four_svm, _____ = roc_curve(y_test, svm.decision_function (X_test)[:,3], pos_label=3)\n",
    "\n",
    "    tprs_four_svm.append(interp(mean_fpr_svm, fpr_four_svm, tpr_four_svm))\n",
    "    \n",
    "    #roc_auc_one = (auc(fpr_zero, tpr_zero))\n",
    "    #roc_auc_one = (auc(fpr_one, tpr_one))\n",
    "    #roc_auc_two = (auc(fpr_two, tpr_two))\n",
    "    #roc_auc_three = (auc(fpr_three, tpr_three))\n",
    "    roc_auc_four = (auc(fpr_four_svm, tpr_four_svm))\n",
    "    \n",
    "    \n",
    "     #javed###      \n",
    "    accuracy_.append(alg_accuracy)\n",
    "    P_r_f.append(alg_p_r_f_score)\n",
    "    #### jave ####\n",
    "\n",
    "    pe.append(predictions)\n",
    "    accs.append(accuracy)\n",
    "    f1.append(f1socre)\n",
    "    pr.append(precision)\n",
    "    re.append(recall)\n",
    "\n",
    "\n",
    "en_time = time.time()\n",
    "#print('mean predictions: {:.2f} %'.format(sum(pe) / len(pe) ))\n",
    "print('Total time: {:.2f}s'.format(en_time-st_time))   \n",
    "print('mean accuracy: {:.2f} %'.format(np.mean(accs)))\n",
    "print('mean f1 socre: {:.2f} %'.format(np.mean(f1)))\n",
    "print('mean precision: {:.2f} %'.format(np.mean(pr)))\n",
    "print('mean recall: {:.2f} %'.format(np.mean(re)))\n",
    "\n",
    "#roc_zero = sum(roc_auc_) / len(roc_auc_)\n",
    "#print(\"\\nROC across folds for zero: \", roc_zero)\n",
    "\n",
    "#roc_one = sum(roc_auc_one) / len(roc_auc_one)\n",
    "#print(\"\\nROC across folds for one: \", roc_one)\n",
    "\n",
    "#roc_two = sum(roc_auc_two) / len(roc_auc_two)\n",
    "#print(\"\\nROC across folds for two: \", roc_two)\n",
    "\n",
    "#roc_three = sum(roc_auc_three) / len(roc_auc_three)\n",
    "#print(\"\\nROC across folds for three: \", roc_three)\n",
    "\n",
    "#roc_four_svm = sum(roc_auc_four_svm) / len(roc_auc_four_svm)\n",
    "#print(\"\\nROC across folds for four: \", roc_four_svm)\n",
    "\n",
    "#### jave ####\n",
    "mean_accuracy= np.mean(accuracy_, axis=0)\n",
    "print(\"the average accuracy of LSV is\",mean_accuracy)\n",
    "    \n",
    "mean_p_r_f=np.mean(P_r_f, axis=0)\n",
    "print(\"the presion, recall, f are\", mean_p_r_f)\n",
    "#### jave ####\n",
    "\n",
    "mean_tpr_svm = np.mean(tprs_four_svm, axis=0)\n",
    "mean_auc_svm = auc(mean_fpr_svm, mean_tpr_svm)\n",
    "\n",
    "#print(mean_tpr_svm)\n",
    "#print(mean_fpr_svm)\n",
    "#print(mean_auc_svm)\n",
    "\n",
    "#print(metrics_report)\n",
    "unique, counts = np.unique(y_train_res, return_counts=True)\n",
    "print(list(zip(unique, counts)))\n",
    "plot_confusion_matrix(svm, X_test, y_test, display_labels=labels, xticks_rotation='vertical', cmap=\"BuPu\")"
   ]
  },
  {
   "cell_type": "code",
   "execution_count": 26,
   "metadata": {
    "colab": {
     "base_uri": "https://localhost:8080/",
     "height": 294
    },
    "id": "xp3ZUcwT9mee",
    "outputId": "51102c39-c7e7-4cf6-c7b5-1ff650296bd9"
   },
   "outputs": [
    {
     "data": {
      "image/png": "[encoded data removed]",
      "text/plain": [
       "<Figure size 432x288 with 1 Axes>"
      ]
     },
     "metadata": {
      "needs_background": "light"
     },
     "output_type": "display_data"
    }
   ],
   "source": [
    "plt.title('Receiver Operating Characteristic')\n",
    "#plt.plot(fpr_zero, tpr_zero, 'b', color='green', label= \"ROC for 0 label =\" +str(roc_zero))\n",
    "#plt.plot(fpr_one, tpr_one, 'b', label= \"ROC for 1 label =\" +str(roc_one))\n",
    "#plt.plot(fpr_two, tpr_two, 'b', color='purple',  label= \"ROC for 2 label =\" +str(roc_two))\n",
    "#plt.plot(fpr_three, tpr_three, 'b', color='red',  label= \"ROC for 3 label =\" +str(roc_three))\n",
    "plt.plot(mean_fpr_svm, mean_tpr_svm, 'b', label= \"ROC for Oversamling (SVM) =\" +str(mean_auc_svm),lw=2, alpha=1)\n",
    "plt.legend(loc = 'lower right')\n",
    "#plt.plot([0, 1], [0, 1],'r--')\n",
    "plt.xlim([0, 1])\n",
    "plt.ylim([0, 1.05])\n",
    "plt.ylabel('True Positive Rate')\n",
    "plt.xlabel('False Positive Rate')\n",
    "plt.show()"
   ]
  },
  {
   "cell_type": "markdown",
   "metadata": {
    "id": "2zGgaD3VHIlg"
   },
   "source": [
    "### RandomForestClassifier"
   ]
  },
  {
   "cell_type": "code",
   "execution_count": 27,
   "metadata": {
    "colab": {
     "base_uri": "https://localhost:8080/"
    },
    "id": "s_QsYip2Ffm0",
    "outputId": "017b2dca-e4d9-4275-88b2-8869db91e33b"
   },
   "outputs": [
    {
     "name": "stdout",
     "output_type": "stream",
     "text": [
      "Start training...done!\n",
      "Start testing...done!\n",
      "Start training...done!\n",
      "Start testing...done!\n",
      "Start training...done!\n",
      "Start testing...done!\n",
      "Start training...done!\n",
      "Start testing...done!\n",
      "Start training...done!\n",
      "Start testing...done!\n",
      "Start training...done!\n",
      "Start testing...done!\n",
      "Start training...done!\n",
      "Start testing...done!\n",
      "Start training...done!\n",
      "Start testing...done!\n",
      "Start training...done!\n",
      "Start testing...done!\n",
      "Start training...done!\n",
      "Start testing...done!\n",
      "Total time: 33.77s\n",
      "mean accuracy: 0.98 %\n",
      "mean f1 socre: 0.98 %\n",
      "mean precision: 0.98 %\n",
      "mean recall: 0.98 %\n",
      "the average accuracy of RF is 0.9757071326384631\n",
      "the presion, recall, f are [[  0.96849634   0.9729084    0.98693942   0.96748303]\n",
      " [  0.97949943   0.99873418   0.96811301   0.97398802]\n",
      " [  0.97392026   0.98559616   0.97739282   0.97067896]\n",
      " [156.2         78.5        272.9        192.3       ]]\n",
      "[(0, 2457), (1, 2457), (2, 2457), (3, 2457)]\n"
     ]
    },
    {
     "data": {
      "text/plain": [
       "<sklearn.metrics._plot.confusion_matrix.ConfusionMatrixDisplay at 0x27ed4dad6c8>"
      ]
     },
     "execution_count": 27,
     "metadata": {},
     "output_type": "execute_result"
    },
    {
     "data": {
      "image/png": "[encoded data removed]",
      "text/plain": [
       "<Figure size 432x288 with 2 Axes>"
      ]
     },
     "metadata": {
      "needs_background": "light"
     },
     "output_type": "display_data"
    }
   ],
   "source": [
    "rf_model = RandomForestClassifier(n_estimators=100, max_depth=100, min_samples_split=10, n_jobs=-1, verbose=0)\n",
    "\n",
    "accs = []\n",
    "reports = []\n",
    "f1 = []\n",
    "pr = []\n",
    "re = []\n",
    "pe = []\n",
    "\n",
    "#javed#\n",
    "accuracy_ = []\n",
    "P_r_f = []\n",
    "\n",
    "mean_accuracy= []\n",
    "mean_p_r_f =[]\n",
    "##javed###\n",
    "\n",
    "roc_auc_ = []\n",
    "roc_auc_one = []\n",
    "roc_auc_two = []\n",
    "roc_auc_three = []\n",
    "roc_auc_four_rf = []\n",
    "\n",
    "tprs_zero_rf = []\n",
    "tprs_one_rf = []\n",
    "tprs_two_rf = []\n",
    "tprs_three_rf = []\n",
    "tprs_four_rf = []\n",
    "\n",
    "mean_fpr_rf = np.linspace(0,1,100)\n",
    "\n",
    "st_time = time.time()\n",
    "for train_index, test_index in skfold.split(X,y):\n",
    "    X_train, X_test = X[train_index], X[test_index]\n",
    "    y_train, y_test = y[train_index], y[test_index]\n",
    "    #Oversampling\n",
    "    #X_train_res, y_train_res = sm.fit_sample(X_train, y_train)\n",
    "    predictions, accuracy, precision, recall, f1socre, alg_accuracy, alg_p_r_f_score = train_test_model(rf_model, X_train_res, X_test, y_train_res, y_test, labels)\n",
    "    \n",
    "    #fpr_zero, tpr_zero, _ = roc_curve(y_test, rf_model.predict_proba(X_test)[:,1], pos_label=0)\n",
    "    #fpr_one, tpr_one, __ = roc_curve(y_test, rf_model.predict_proba(X_test)[:,1], pos_label=1)\n",
    "    #fpr_two, tpr_two, ___ = roc_curve(y_test, rf_model.predict_proba(X_test)[:,1], pos_label=2)\n",
    "    #fpr_three, tpr_three, ____ = roc_curve(y_test, rf_model.predict_proba(X_test)[:,1], pos_label=3)\n",
    "    fpr_four_rf, tpr_four_rf, _____ = roc_curve(y_test, rf_model.predict_proba (X_test)[:,3], pos_label=3)\n",
    "\n",
    "    tprs_four_rf.append(interp(mean_fpr_rf, fpr_four_rf, tpr_four_rf))\n",
    "    \n",
    "    #roc_auc_one = (auc(fpr_zero, tpr_zero))\n",
    "    #roc_auc_one = (auc(fpr_one, tpr_one))\n",
    "    #roc_auc_two = (auc(fpr_two, tpr_two))\n",
    "    #roc_auc_three = (auc(fpr_three, tpr_three))\n",
    "    roc_auc_four = (auc(fpr_four_rf, tpr_four_rf))\n",
    "    \n",
    "        #javed###      \n",
    "    accuracy_.append(alg_accuracy)\n",
    "    P_r_f.append(alg_p_r_f_score)\n",
    "    #### jave ####\n",
    "\n",
    "    pe.append(predictions)\n",
    "    accs.append(accuracy)\n",
    "    f1.append(f1socre)\n",
    "    pr.append(precision)\n",
    "    re.append(recall)\n",
    "\n",
    "\n",
    "en_time = time.time()\n",
    "#print('mean predictions: {:.2f} %'.format(sum(pe) / len(pe) ))\n",
    "print('Total time: {:.2f}s'.format(en_time-st_time))   \n",
    "print('mean accuracy: {:.2f} %'.format(np.mean(accs)))\n",
    "print('mean f1 socre: {:.2f} %'.format(np.mean(f1)))\n",
    "print('mean precision: {:.2f} %'.format(np.mean(pr)))\n",
    "print('mean recall: {:.2f} %'.format(np.mean(re)))\n",
    "\n",
    "#roc_zero = sum(roc_auc_) / len(roc_auc_)\n",
    "#print(\"\\nROC across folds for zero: \", roc_zero)\n",
    "\n",
    "#roc_one = sum(roc_auc_one) / len(roc_auc_one)\n",
    "#print(\"\\nROC across folds for one: \", roc_one)\n",
    "\n",
    "#roc_two = sum(roc_auc_two) / len(roc_auc_two)\n",
    "#print(\"\\nROC across folds for two: \", roc_two)\n",
    "\n",
    "#roc_three = sum(roc_auc_three) / len(roc_auc_three)\n",
    "#print(\"\\nROC across folds for three: \", roc_three)\n",
    "\n",
    "#roc_four_rf = sum(roc_auc_four_rf) / len(roc_auc_four_rf)\n",
    "#print(\"\\nROC across folds for four: \", roc_four_rf)\n",
    "\n",
    "#### jave ####\n",
    "mean_accuracy= np.mean(accuracy_, axis=0)\n",
    "print(\"the average accuracy of RF is\",mean_accuracy)\n",
    "    \n",
    "mean_p_r_f=np.mean(P_r_f, axis=0)\n",
    "print(\"the presion, recall, f are\", mean_p_r_f)\n",
    "#### jave ####\n",
    "\n",
    "\n",
    "mean_tpr_rf = np.mean(tprs_four_rf, axis=0)\n",
    "mean_auc_rf = auc(mean_fpr_rf, mean_tpr_rf)\n",
    "\n",
    "#print(mean_tpr_rf)\n",
    "#print(mean_fpr_rf)\n",
    "#print(mean_auc_rf)\n",
    "\n",
    "#print(metrics_report)\n",
    "unique, counts = np.unique(y_train_res, return_counts=True)\n",
    "print(list(zip(unique, counts)))\n",
    "plot_confusion_matrix(rf_model, X_test, y_test, display_labels=labels, xticks_rotation='vertical', cmap=\"BuPu\")"
   ]
  },
  {
   "cell_type": "code",
   "execution_count": 28,
   "metadata": {
    "colab": {
     "base_uri": "https://localhost:8080/",
     "height": 294
    },
    "id": "C187e5Al-asj",
    "outputId": "3b06e393-de73-4b2d-c676-1886837be445"
   },
   "outputs": [
    {
     "data": {
      "image/png": "[encoded data removed]",
      "text/plain": [
       "<Figure size 432x288 with 1 Axes>"
      ]
     },
     "metadata": {
      "needs_background": "light"
     },
     "output_type": "display_data"
    }
   ],
   "source": [
    "plt.title('Receiver Operating Characteristic')\n",
    "#plt.plot(fpr_one, tpr_one, 'b', color='red', label= \"Oversampling =\" +str(roc_one))\n",
    "#plt.plot(fpr_zero, tpr_zero, 'b', color='green', label= \"ROC for 0 label =\" +str(roc_zero))\n",
    "#plt.plot(fpr_one, tpr_one, 'b', label= \"ROC for 1 label =\" +str(roc_one))\n",
    "#plt.plot(fpr_two, tpr_two, 'b', color='purple',  label= \"ROC for 2 label =\" +str(roc_two))\n",
    "#plt.plot(fpr_three, tpr_three, 'b', color='red',  label= \"ROC for 3 label =\" +str(roc_three))\n",
    "plt.plot(mean_fpr_rf, mean_tpr_rf, 'b', color='green', label= \"ROC for Oversampling (RF) =\" +str(mean_auc_rf),lw=2, alpha=1)\n",
    "plt.legend(loc = 'lower right')\n",
    "#plt.plot([0, 1], [0, 1],'r--')\n",
    "plt.xlim([0, 1])\n",
    "plt.ylim([0, 1.05])\n",
    "plt.ylabel('True Positive Rate')\n",
    "plt.xlabel('False Positive Rate')\n",
    "plt.show()"
   ]
  },
  {
   "cell_type": "markdown",
   "metadata": {
    "id": "0GWnHwQPPSn8"
   },
   "source": [
    "### KNN"
   ]
  },
  {
   "cell_type": "code",
   "execution_count": 29,
   "metadata": {
    "colab": {
     "base_uri": "https://localhost:8080/"
    },
    "id": "sP0CyA24PUzu",
    "outputId": "a7396d1a-4958-4815-be05-2245d0249332"
   },
   "outputs": [
    {
     "name": "stdout",
     "output_type": "stream",
     "text": [
      "Start training...done!\n",
      "Start testing...done!\n",
      "Start training...done!\n",
      "Start testing...done!\n",
      "Start training...done!\n",
      "Start testing...done!\n",
      "Start training...done!\n",
      "Start testing...done!\n",
      "Start training...done!\n",
      "Start testing...done!\n",
      "Start training...done!\n",
      "Start testing...done!\n",
      "Start training...done!\n",
      "Start testing...done!\n",
      "Start training...done!\n",
      "Start testing...done!\n",
      "Start training...done!\n",
      "Start testing...done!\n",
      "Start training...done!\n",
      "Start testing...done!\n",
      "Total time: 17.44s\n",
      "mean accuracy: 0.89 %\n",
      "mean f1 socre: 0.89 %\n",
      "mean precision: 0.89 %\n",
      "mean recall: 0.89 %\n",
      "\n",
      "ROC across folds for zero:  0.43320806417483315\n",
      "\n",
      "ROC across folds for one:  0.9949287909492043\n",
      "\n",
      "ROC across folds for two:  0.41731228903919704\n",
      "\n",
      "ROC across folds for three:  0.4094987339377454\n",
      "\n",
      "ROC across folds for four:  nan\n",
      "the average accuracy of KNN is 0.8904095646842428\n",
      "the presion, recall, f are [[  0.85971053   0.89628714   0.89381751   0.90939675]\n",
      " [  0.86170995   0.90071405   0.9032563    0.89131045]\n",
      " [  0.86046906   0.89832602   0.89838205   0.90011307]\n",
      " [156.2         78.5        272.9        192.3       ]]\n",
      "[(0, 1406), (1, 706), (2, 2457), (3, 1731)]\n"
     ]
    },
    {
     "data": {
      "text/plain": [
       "<sklearn.metrics._plot.confusion_matrix.ConfusionMatrixDisplay at 0x27ed3649708>"
      ]
     },
     "execution_count": 29,
     "metadata": {},
     "output_type": "execute_result"
    },
    {
     "data": {
      "image/png": "[encoded data removed]",
      "text/plain": [
       "<Figure size 432x288 with 2 Axes>"
      ]
     },
     "metadata": {
      "needs_background": "light"
     },
     "output_type": "display_data"
    }
   ],
   "source": [
    "knn_model = KNeighborsClassifier(n_neighbors=3)\n",
    "\n",
    "accs = []\n",
    "reports = []\n",
    "f1 = []\n",
    "pr = []\n",
    "re = []\n",
    "pe = []\n",
    "\n",
    "#javed#\n",
    "accuracy_ = []\n",
    "P_r_f = []\n",
    "\n",
    "mean_accuracy= []\n",
    "mean_p_r_f =[]\n",
    "##javed###\n",
    "\n",
    "roc_auc_ = []\n",
    "roc_auc_one = []\n",
    "roc_auc_two = []\n",
    "roc_auc_three = []\n",
    "roc_auc_four = []\n",
    "st_time = time.time()\n",
    "\n",
    "mean_fpr_rf = np.linspace(0,1,100)              # change the name of classifier\n",
    "\n",
    "for train_index, test_index in skfold.split(X,y):\n",
    "    X_train, X_test = X[train_index], X[test_index]\n",
    "    y_train, y_test = y[train_index], y[test_index]\n",
    "    # Oversample\n",
    "    #X_train_res, y_train_res = sm.fit_sample(X_train, y_train)\n",
    "    predictions, accuracy, precision, recall, f1socre, alg_accuracy, alg_p_r_f_score = train_test_model(knn_model, X_train, X_test, y_train, y_test, labels)\n",
    "    \n",
    "    fpr_zero, tpr_zero, _ = roc_curve(y_test, knn_model.predict_proba(X_test)[:,1], pos_label=0)\n",
    "    fpr_one, tpr_one, __ = roc_curve(y_test, knn_model.predict_proba(X_test)[:,1], pos_label=1)\n",
    "    fpr_two, tpr_two, ___ = roc_curve(y_test, knn_model.predict_proba(X_test)[:,1], pos_label=2)\n",
    "    fpr_three, tpr_three, ____ = roc_curve(y_test, knn_model.predict_proba(X_test)[:,1], pos_label=3)\n",
    "    fpr_four, tpr_four, _____ = roc_curve(y_test, knn_model.predict_proba (X_test)[:,1], pos_label=4)\n",
    "\n",
    "    roc_auc_.append(auc(fpr_zero, tpr_zero))\n",
    "    roc_auc_one.append(auc(fpr_one, tpr_one))\n",
    "    roc_auc_two.append(auc(fpr_two, tpr_two))\n",
    "    roc_auc_three.append(auc(fpr_three, tpr_three))\n",
    "    roc_auc_four.append(auc(fpr_four, tpr_four))\n",
    "    \n",
    "            #javed###      \n",
    "    accuracy_.append(alg_accuracy)\n",
    "    P_r_f.append(alg_p_r_f_score)\n",
    "    #### jave ####\n",
    "\n",
    "    pe.append(predictions)\n",
    "    accs.append(accuracy)\n",
    "    f1.append(f1socre)\n",
    "    pr.append(precision)\n",
    "    re.append(recall)\n",
    "\n",
    "\n",
    "en_time = time.time()\n",
    "#print('mean predictions: {:.2f} %'.format(sum(pe) / len(pe) ))\n",
    "print('Total time: {:.2f}s'.format(en_time-st_time))   \n",
    "print('mean accuracy: {:.2f} %'.format(np.mean(accs)))\n",
    "print('mean f1 socre: {:.2f} %'.format(np.mean(f1)))\n",
    "print('mean precision: {:.2f} %'.format(np.mean(pr)))\n",
    "print('mean recall: {:.2f} %'.format(np.mean(re)))\n",
    "\n",
    "roc_zero = sum(roc_auc_) / len(roc_auc_)\n",
    "print(\"\\nROC across folds for zero: \", roc_zero)\n",
    "\n",
    "roc_one = sum(roc_auc_one) / len(roc_auc_one)\n",
    "print(\"\\nROC across folds for one: \", roc_one)\n",
    "\n",
    "roc_two = sum(roc_auc_two) / len(roc_auc_two)\n",
    "print(\"\\nROC across folds for two: \", roc_two)\n",
    "\n",
    "roc_three = sum(roc_auc_three) / len(roc_auc_three)\n",
    "print(\"\\nROC across folds for three: \", roc_three)\n",
    "\n",
    "roc_four = sum(roc_auc_four) / len(roc_auc_four)\n",
    "print(\"\\nROC across folds for four: \", roc_four)\n",
    "\n",
    "#### jave ####\n",
    "mean_accuracy= np.mean(accuracy_, axis=0)\n",
    "print(\"the average accuracy of KNN is\",mean_accuracy)\n",
    "    \n",
    "mean_p_r_f=np.mean(P_r_f, axis=0)\n",
    "print(\"the presion, recall, f are\", mean_p_r_f)\n",
    "#### jave ####\n",
    "\n",
    "\n",
    "mean_tpr_rf = np.mean(tprs_four_rf, axis=0)\n",
    "mean_auc_rf = auc(mean_fpr_rf, mean_tpr_rf)\n",
    "\n",
    "#print(fpr_zero)\n",
    "#print(tpr_zero)\n",
    "\n",
    "#print(metrics_report)\n",
    "unique, counts = np.unique(y_train, return_counts=True)\n",
    "print(list(zip(unique, counts)))\n",
    "plot_confusion_matrix(knn_model, X_test, y_test, display_labels=labels, xticks_rotation='vertical', cmap=\"BuPu\")"
   ]
  },
  {
   "cell_type": "code",
   "execution_count": 30,
   "metadata": {
    "colab": {
     "base_uri": "https://localhost:8080/",
     "height": 295
    },
    "id": "xzMbKPWn-1M1",
    "outputId": "a1928d7b-4b29-48d4-a090-e237bff25e69"
   },
   "outputs": [
    {
     "data": {
      "image/png": "[encoded data removed]",
      "text/plain": [
       "<Figure size 432x288 with 1 Axes>"
      ]
     },
     "metadata": {
      "needs_background": "light"
     },
     "output_type": "display_data"
    }
   ],
   "source": [
    "plt.title('Receiver Operating Characteristic')\n",
    "#plt.plot(fpr_zero, tpr_zero, 'b', color='green', label= \"ROC for 0 label =\" +str(roc_zero))\n",
    "#plt.plot(fpr_one, tpr_one, 'b', label= \"ROC for 1 label =\" +str(roc_one))\n",
    "#plt.plot(fpr_two, tpr_two, 'b', color='purple',  label= \"ROC for 2 label =\" +str(roc_two))\n",
    "#plt.plot(fpr_three, tpr_three, 'b', color='red',  label= \"ROC for 3 label =\" +str(roc_three))\n",
    "#plt.plot(fpr_four, tpr_four, 'b', color='yellow', label= \"ROC for 4 label =\" +str(roc_four))\n",
    "plt.plot(mean_fpr_rf, mean_tpr_rf, 'b', color='red', label= \"ROC for Oversampling (KNN) =\" +str(mean_auc_rf),lw=2, alpha=1)\n",
    "plt.legend(loc = 'lower right')\n",
    "#plt.plot([0, 1], [0, 1],'r--')\n",
    "plt.xlim([0, 1])\n",
    "plt.ylim([0, 1.05])\n",
    "plt.ylabel('True Positive Rate')\n",
    "plt.xlabel('False Positive Rate')\n",
    "plt.show()"
   ]
  },
  {
   "cell_type": "markdown",
   "metadata": {
    "id": "yo0jCzfrHUd-"
   },
   "source": [
    "### Multilayer Perceptron"
   ]
  },
  {
   "cell_type": "code",
   "execution_count": 31,
   "metadata": {
    "colab": {
     "base_uri": "https://localhost:8080/"
    },
    "id": "RZFLMN7UHUM6",
    "outputId": "4dd17248-f939-4cc8-e4ec-99c409d447fe",
    "scrolled": true
   },
   "outputs": [
    {
     "name": "stdout",
     "output_type": "stream",
     "text": [
      "Start training...done!\n",
      "Start testing...done!\n",
      "Start training...done!\n",
      "Start testing...done!\n",
      "Start training...done!\n",
      "Start testing...done!\n",
      "Start training...done!\n",
      "Start testing...done!\n",
      "Start training...done!\n",
      "Start testing...done!\n",
      "Start training...done!\n",
      "Start testing...done!\n",
      "Start training...done!\n",
      "Start testing...done!\n",
      "Start training...done!\n",
      "Start testing...done!\n",
      "Start training...done!\n",
      "Start testing...done!\n",
      "Start training...done!\n",
      "Start testing...done!\n",
      "Total time: 1645.50s\n",
      "mean accuracy: 0.98 %\n",
      "mean f1 socre: 0.98 %\n",
      "mean precision: 0.98 %\n",
      "mean recall: 0.98 %\n",
      "the average accuracy of MLP is 0.9778512160228899\n",
      "the presion, recall, f are [[  0.96727859   0.96705739   0.98487387   0.98151685]\n",
      " [  0.97887473   1.           0.9772786    0.96878778]\n",
      " [  0.97298365   0.98318044   0.98103968   0.97502914]\n",
      " [156.2         78.5        272.9        192.3       ]]\n",
      "0.9994089312773238\n",
      "[(0, 2457), (1, 2457), (2, 2457), (3, 2457)]\n"
     ]
    },
    {
     "data": {
      "text/plain": [
       "<sklearn.metrics._plot.confusion_matrix.ConfusionMatrixDisplay at 0x27ed7180888>"
      ]
     },
     "execution_count": 31,
     "metadata": {},
     "output_type": "execute_result"
    },
    {
     "data": {
      "image/png": "[encoded data removed]",
      "text/plain": [
       "<Figure size 432x288 with 2 Axes>"
      ]
     },
     "metadata": {
      "needs_background": "light"
     },
     "output_type": "display_data"
    }
   ],
   "source": [
    "mlp_model = MLPClassifier(random_state=1, max_iter=300)\n",
    "\n",
    "accs = []\n",
    "reports = []\n",
    "f1 = []\n",
    "pr = []\n",
    "re = []\n",
    "pe = []\n",
    "\n",
    "#javed#\n",
    "accuracy_ = []\n",
    "P_r_f = []\n",
    "\n",
    "mean_accuracy= []\n",
    "mean_p_r_f =[]\n",
    "##javed###\n",
    "\n",
    "roc_auc_ = []\n",
    "roc_auc_one = []\n",
    "roc_auc_two = []\n",
    "roc_auc_three = []\n",
    "roc_auc_four = []\n",
    "\n",
    "tprs_zero_mlp = []\n",
    "tprs_one_mlp = []\n",
    "tprs_two_mlp = []\n",
    "tprs_three_mlp = []\n",
    "tprs_four_mlp = []\n",
    "\n",
    "mean_fpr_mlp = np.linspace(0,1,100)\n",
    "\n",
    "\n",
    "st_time = time.time()\n",
    "for train_index, test_index in skfold.split(X,y):\n",
    "    X_train, X_test = X[train_index], X[test_index]\n",
    "    y_train, y_test = y[train_index], y[test_index]\n",
    "    # Oversample\n",
    "    #X_train_res, y_train_res = sm.fit_sample(X_train, y_train)\n",
    "    predictions, accuracy, precision, recall, f1socre, alg_accuracy, alg_p_r_f_score = train_test_model(mlp_model, X_train_res, X_test, y_train_res, y_test, labels)\n",
    "    \n",
    "    #fpr_zero, tpr_zero, _ = roc_curve(y_test, mlp_model.predict_proba(X_test)[:,1], pos_label=0)\n",
    "    #fpr_one, tpr_one, __ = roc_curve(y_test, mlp_model.predict_proba(X_test)[:,1], pos_label=1)\n",
    "    #fpr_two, tpr_two, ___ = roc_curve(y_test, mlp_model.predict_proba(X_test)[:,1], pos_label=2)\n",
    "    #fpr_three, tpr_three, ____ = roc_curve(y_test, mlp_model.predict_proba(X_test)[:,1], pos_label=3)\n",
    "    fpr_four_mlp, tpr_four_mlp, _____ = roc_curve(y_test, mlp_model.predict_proba (X_test)[:,3], pos_label=3)\n",
    "\n",
    "    tprs_four_mlp.append(interp(mean_fpr_mlp, fpr_four_mlp, tpr_four_mlp))\n",
    "    \n",
    "    #roc_auc_one = (auc(fpr_zero, tpr_zero))\n",
    "    #roc_auc_one = (auc(fpr_one, tpr_one))\n",
    "    #roc_auc_two = (auc(fpr_two, tpr_two))\n",
    "    #roc_auc_three = (auc(fpr_three, tpr_three))\n",
    "    roc_auc_four = (auc(fpr_four_mlp, tpr_four_mlp))\n",
    "    \n",
    "        \n",
    "            #javed###      \n",
    "    accuracy_.append(alg_accuracy)\n",
    "    P_r_f.append(alg_p_r_f_score)\n",
    "    #### jave ####\n",
    "\n",
    "    pe.append(predictions)\n",
    "    accs.append(accuracy)\n",
    "    f1.append(f1socre)\n",
    "    pr.append(precision)\n",
    "    re.append(recall)\n",
    "\n",
    "\n",
    "en_time = time.time()\n",
    "#print('mean predictions: {:.2f} %'.format(sum(pe) / len(pe) ))\n",
    "print('Total time: {:.2f}s'.format(en_time-st_time))   \n",
    "print('mean accuracy: {:.2f} %'.format(np.mean(accs)))\n",
    "print('mean f1 socre: {:.2f} %'.format(np.mean(f1)))\n",
    "print('mean precision: {:.2f} %'.format(np.mean(pr)))\n",
    "print('mean recall: {:.2f} %'.format(np.mean(re)))\n",
    "\n",
    "#roc_zero = sum(roc_auc_) / len(roc_auc_)\n",
    "#print(\"\\nROC across folds for zero: \", roc_zero)\n",
    "\n",
    "#roc_one = sum(roc_auc_one) / len(roc_auc_one)\n",
    "#print(\"\\nROC across folds for one: \", roc_one)\n",
    "\n",
    "#roc_two = sum(roc_auc_two) / len(roc_auc_two)\n",
    "#print(\"\\nROC across folds for two: \", roc_two)\n",
    "\n",
    "#roc_three = sum(roc_auc_three) / len(roc_auc_three)\n",
    "#print(\"\\nROC across folds for three: \", roc_three)\n",
    "\n",
    "#roc_four = sum(roc_auc_four) / len(roc_auc_four)\n",
    "#print(\"\\nROC across folds for four: \", roc_four)\n",
    "mean_tpr_mlp = np.mean(tprs_four_mlp, axis=0)\n",
    "mean_auc_mlp = auc(mean_fpr_mlp, mean_tpr_mlp)\n",
    "\n",
    "#### jave ####\n",
    "mean_accuracy= np.mean(accuracy_, axis=0)\n",
    "print(\"the average accuracy of MLP is\",mean_accuracy)\n",
    "    \n",
    "mean_p_r_f=np.mean(P_r_f, axis=0)\n",
    "print(\"the presion, recall, f are\", mean_p_r_f)\n",
    "#### jave ####\n",
    "\n",
    "#print(mean_tpr_mlp)\n",
    "#print(mean_fpr_mlp)\n",
    "print(mean_auc_mlp)\n",
    "\n",
    "#print(metrics_report)\n",
    "unique, counts = np.unique(y_train_res, return_counts=True)\n",
    "print(list(zip(unique, counts)))\n",
    "plot_confusion_matrix(mlp_model, X_test, y_test, display_labels=labels, xticks_rotation='vertical', cmap=\"BuPu\")"
   ]
  },
  {
   "cell_type": "code",
   "execution_count": 32,
   "metadata": {
    "colab": {
     "base_uri": "https://localhost:8080/",
     "height": 294
    },
    "id": "asOkfmpG_ytl",
    "outputId": "060bbf8d-add0-414e-d6c5-79725b1054ea"
   },
   "outputs": [
    {
     "data": {
      "image/png": "[encoded data removed]",
      "text/plain": [
       "<Figure size 432x288 with 1 Axes>"
      ]
     },
     "metadata": {
      "needs_background": "light"
     },
     "output_type": "display_data"
    }
   ],
   "source": [
    "plt.title('Receiver Operating Characteristic')\n",
    "#plt.plot(fpr_one, tpr_one, 'b', color='green', label= \"Oversampling =\" +str(roc_one))\n",
    "#plt.plot(fpr_zero, tpr_zero, 'b', color='green', label= \"ROC for 0 label =\" +str(roc_zero))\n",
    "#plt.plot(fpr_one, tpr_one, 'b', label= \"ROC for 1 label =\" +str(roc_one))\n",
    "#plt.plot(fpr_two, tpr_two, 'b', color='purple',  label= \"ROC for 2 label =\" +str(roc_two))\n",
    "#plt.plot(fpr_three, tpr_three, 'b', color='red',  label= \"ROC for 3 label =\" +str(roc_three))\n",
    "plt.plot(mean_fpr_mlp, mean_tpr_mlp, 'b', label= \"ROC for Oversampling (MLP)=\" +str(mean_auc_mlp),lw=2, alpha=1)\n",
    "plt.legend(loc = 'lower right')\n",
    "#plt.plot([0, 1], [0, 1],'r--')\n",
    "plt.xlim([0, 1])\n",
    "plt.ylim([0, 1.05])\n",
    "plt.ylabel('True Positive Rate')\n",
    "plt.xlabel('False Positive Rate')\n",
    "plt.show()"
   ]
  },
  {
   "cell_type": "markdown",
   "metadata": {
    "id": "UX2Vi4w1XWOG"
   },
   "source": [
    "### Gradient Boosting Classifier"
   ]
  },
  {
   "cell_type": "code",
   "execution_count": 33,
   "metadata": {
    "colab": {
     "base_uri": "https://localhost:8080/"
    },
    "id": "YFLJyxjIXVvU",
    "outputId": "5c893189-0e7c-4225-bcab-8dd9243e8a97"
   },
   "outputs": [
    {
     "name": "stdout",
     "output_type": "stream",
     "text": [
      "Start training...done!\n",
      "Start testing...done!\n",
      "Start training...done!\n",
      "Start testing...done!\n",
      "Start training...done!\n",
      "Start testing...done!\n",
      "Start training...done!\n",
      "Start testing...done!\n",
      "Start training...done!\n",
      "Start testing...done!\n",
      "Start training...done!\n",
      "Start testing...done!\n",
      "Start training...done!\n",
      "Start testing...done!\n",
      "Start training...done!\n",
      "Start testing...done!\n",
      "Start training...done!\n",
      "Start testing...done!\n",
      "Start training...done!\n",
      "Start testing...done!\n",
      "Total time: 38.20s\n",
      "mean accuracy: 0.75 %\n",
      "mean f1 socre: 0.75 %\n",
      "mean precision: 0.75 %\n",
      "mean recall: 0.75 %\n",
      "\n",
      "ROC across folds for zero:  0.3584279975601348\n",
      "\n",
      "ROC across folds for one:  0.9359587523933369\n",
      "\n",
      "ROC across folds for two:  0.48965556272950544\n",
      "\n",
      "ROC across folds for three:  0.41770662369813677\n",
      "\n",
      "ROC across folds for four:  nan\n",
      "the average accuracy of GB is 0.7466826078070714\n",
      "the presion, recall, f are [[  0.82236782   0.7413619    0.70682026   0.7733698 ]\n",
      " [  0.65429936   0.75287244   0.84024591   0.68639627]\n",
      " [  0.72772413   0.74637697   0.76750194   0.72680787]\n",
      " [156.2         78.5        272.9        192.3       ]]\n",
      "[(0, 1406), (1, 706), (2, 2457), (3, 1731)]\n"
     ]
    },
    {
     "data": {
      "text/plain": [
       "<sklearn.metrics._plot.confusion_matrix.ConfusionMatrixDisplay at 0x27ed6f92088>"
      ]
     },
     "execution_count": 33,
     "metadata": {},
     "output_type": "execute_result"
    },
    {
     "data": {
      "image/png": "[encoded data removed]",
      "text/plain": [
       "<Figure size 432x288 with 2 Axes>"
      ]
     },
     "metadata": {
      "needs_background": "light"
     },
     "output_type": "display_data"
    }
   ],
   "source": [
    "gb_model = GradientBoostingClassifier(n_estimators=100, learning_rate=1.0, max_depth=1, random_state=0)\n",
    "\n",
    "accs = []\n",
    "reports = []\n",
    "f1 = []\n",
    "pr = []\n",
    "re = []\n",
    "pe = []\n",
    "\n",
    "#javed#\n",
    "accuracy_ = []\n",
    "P_r_f = []\n",
    "\n",
    "mean_accuracy= []\n",
    "mean_p_r_f =[]\n",
    "##javed###\n",
    "\n",
    "roc_auc_ = []\n",
    "roc_auc_one = []\n",
    "roc_auc_two = []\n",
    "roc_auc_three = []\n",
    "roc_auc_four = []\n",
    "st_time = time.time()\n",
    "for train_index, test_index in skfold.split(X,y):\n",
    "    X_train, X_test = X[train_index], X[test_index]\n",
    "    y_train, y_test = y[train_index], y[test_index]\n",
    "    # Oversample\n",
    "    #X_train_res, y_train_res = sm.fit_sample(X_train, y_train)\n",
    "    predictions, accuracy, precision, recall, f1socre, alg_accuracy, alg_p_r_f_score = train_test_model(gb_model, X_train, X_test, y_train, y_test, labels)\n",
    "    \n",
    "    fpr_zero, tpr_zero, _ = roc_curve(y_test, gb_model.predict_proba(X_test)[:,1], pos_label=0)\n",
    "    fpr_one, tpr_one, __ = roc_curve(y_test, gb_model.predict_proba(X_test)[:,1], pos_label=1)\n",
    "    fpr_two, tpr_two, ___ = roc_curve(y_test, gb_model.predict_proba(X_test)[:,1], pos_label=2)\n",
    "    fpr_three, tpr_three, ____ = roc_curve(y_test, gb_model.predict_proba(X_test)[:,1], pos_label=3)\n",
    "    fpr_four, tpr_four, _____ = roc_curve(y_test, gb_model.predict_proba (X_test)[:,1], pos_label=4)\n",
    "\n",
    "    roc_auc_.append(auc(fpr_zero, tpr_zero))\n",
    "    roc_auc_one.append(auc(fpr_one, tpr_one))\n",
    "    roc_auc_two.append(auc(fpr_two, tpr_two))\n",
    "    roc_auc_three.append(auc(fpr_three, tpr_three))\n",
    "    roc_auc_four.append(auc(fpr_four, tpr_four))\n",
    "    \n",
    "                #javed###      \n",
    "    accuracy_.append(alg_accuracy)\n",
    "    P_r_f.append(alg_p_r_f_score)\n",
    "    #### jave ####\n",
    "\n",
    "    pe.append(predictions)\n",
    "    accs.append(accuracy)\n",
    "    f1.append(f1socre)\n",
    "    pr.append(precision)\n",
    "    re.append(recall)\n",
    "\n",
    "\n",
    "en_time = time.time()\n",
    "#print('mean predictions: {:.2f} %'.format(sum(pe) / len(pe) ))\n",
    "print('Total time: {:.2f}s'.format(en_time-st_time))   \n",
    "print('mean accuracy: {:.2f} %'.format(np.mean(accs)))\n",
    "print('mean f1 socre: {:.2f} %'.format(np.mean(f1)))\n",
    "print('mean precision: {:.2f} %'.format(np.mean(pr)))\n",
    "print('mean recall: {:.2f} %'.format(np.mean(re)))\n",
    "\n",
    "roc_zero = sum(roc_auc_) / len(roc_auc_)\n",
    "print(\"\\nROC across folds for zero: \", roc_zero)\n",
    "\n",
    "roc_one = sum(roc_auc_one) / len(roc_auc_one)\n",
    "print(\"\\nROC across folds for one: \", roc_one)\n",
    "\n",
    "roc_two = sum(roc_auc_two) / len(roc_auc_two)\n",
    "print(\"\\nROC across folds for two: \", roc_two)\n",
    "\n",
    "roc_three = sum(roc_auc_three) / len(roc_auc_three)\n",
    "print(\"\\nROC across folds for three: \", roc_three)\n",
    "\n",
    "roc_four = sum(roc_auc_four) / len(roc_auc_four)\n",
    "print(\"\\nROC across folds for four: \", roc_four)\n",
    "\n",
    "#### jave ####\n",
    "mean_accuracy= np.mean(accuracy_, axis=0)\n",
    "print(\"the average accuracy of GB is\",mean_accuracy)\n",
    "    \n",
    "mean_p_r_f=np.mean(P_r_f, axis=0)\n",
    "print(\"the presion, recall, f are\", mean_p_r_f)\n",
    "#### jave ####\n",
    "\n",
    "#print(fpr_zero)\n",
    "#print(tpr_zero)\n",
    "\n",
    "#print(metrics_report)\n",
    "unique, counts = np.unique(y_train, return_counts=True)\n",
    "print(list(zip(unique, counts)))\n",
    "plot_confusion_matrix(gb_model, X_test, y_test, display_labels=labels, xticks_rotation='vertical', cmap=\"BuPu\")"
   ]
  },
  {
   "cell_type": "code",
   "execution_count": 34,
   "metadata": {
    "colab": {
     "base_uri": "https://localhost:8080/",
     "height": 295
    },
    "id": "yFyblbVCmiL-",
    "outputId": "1f0e81a2-97f9-40c5-9c67-fe1eb732bbec"
   },
   "outputs": [
    {
     "data": {
      "image/png": "[encoded data removed]",
      "text/plain": [
       "<Figure size 432x288 with 1 Axes>"
      ]
     },
     "metadata": {
      "needs_background": "light"
     },
     "output_type": "display_data"
    }
   ],
   "source": [
    "plt.title('Receiver Operating Characteristic')\n",
    "#plt.plot(fpr_zero, tpr_zero, 'b', color='green', label= \"ROC for 0 label =\" +str(roc_zero))\n",
    "plt.plot(fpr_one, tpr_one, 'b', label= \"ROC for 1 label =\" +str(roc_one))\n",
    "#plt.plot(fpr_two, tpr_two, 'b', color='purple',  label= \"ROC for 2 label =\" +str(roc_two))\n",
    "#plt.plot(fpr_three, tpr_three, 'b', color='red',  label= \"ROC for 3 label =\" +str(roc_three))\n",
    "#plt.plot(fpr_four, tpr_four, 'b', color='yellow', label= \"ROC for 4 label =\" +str(roc_four))\n",
    "plt.legend(loc = 'lower right')\n",
    "#plt.plot([0, 1], [0, 1],'r--')\n",
    "plt.xlim([0, 1])\n",
    "plt.ylim([0, 1.05])\n",
    "plt.ylabel('True Positive Rate')\n",
    "plt.xlabel('False Positive Rate')\n",
    "plt.show()"
   ]
  },
  {
   "cell_type": "markdown",
   "metadata": {
    "id": "bozob2wRs8RR"
   },
   "source": [
    "## Ensemble Methods\n",
    "Ensemble methods are techniques that create multiple models and then combine them to produce improved results. "
   ]
  },
  {
   "cell_type": "markdown",
   "metadata": {
    "id": "5WY_At4XqnbL"
   },
   "source": [
    "### Voting Classifier"
   ]
  },
  {
   "cell_type": "code",
   "execution_count": 35,
   "metadata": {
    "colab": {
     "base_uri": "https://localhost:8080/"
    },
    "id": "nqRupNkIqrYw",
    "outputId": "40d29b3d-49f5-4634-cc57-fb4ce2ad0251"
   },
   "outputs": [
    {
     "name": "stdout",
     "output_type": "stream",
     "text": [
      "Start training...done!\n",
      "Start testing...done!\n",
      "Start training...done!\n",
      "Start testing...done!\n",
      "Start training...done!\n",
      "Start testing...done!\n",
      "Start training...done!\n",
      "Start testing...done!\n",
      "Start training...done!\n",
      "Start testing...done!\n",
      "Start training...done!\n",
      "Start testing...done!\n",
      "Start training...done!\n",
      "Start testing...done!\n",
      "Start training...done!\n",
      "Start testing...done!\n",
      "Start training...done!\n",
      "Start testing...done!\n",
      "Start training...done!\n",
      "Start testing...done!\n",
      "Total time: 2108.89s\n",
      "mean accuracy: 0.97 %\n",
      "mean f1 socre: 0.97 %\n",
      "mean precision: 0.97 %\n",
      "mean recall: 0.97 %\n",
      "the average accuracy of Voting is 0.9675659104843655\n",
      "the presion, recall, f are [[  0.94873432   0.97785041   0.96928845   0.9777728 ]\n",
      " [  0.95711253   0.99363843   0.97325334   0.95734564]\n",
      " [  0.95256747   0.98555632   0.97111097   0.96735804]\n",
      " [156.2         78.5        272.9        192.3       ]]\n",
      "[(0, 1406), (1, 706), (2, 2457), (3, 1731)]\n"
     ]
    },
    {
     "data": {
      "text/plain": [
       "<sklearn.metrics._plot.confusion_matrix.ConfusionMatrixDisplay at 0x27ed70bbfc8>"
      ]
     },
     "execution_count": 35,
     "metadata": {},
     "output_type": "execute_result"
    },
    {
     "data": {
      "image/png": "[encoded data removed]",
      "text/plain": [
       "<Figure size 432x288 with 2 Axes>"
      ]
     },
     "metadata": {
      "needs_background": "light"
     },
     "output_type": "display_data"
    }
   ],
   "source": [
    "mlp_model = MLPClassifier(random_state=1, max_iter=300)\n",
    "\n",
    "vote_model = VotingClassifier(estimators=[('mlp', mlp_model),('mlp1', mlp_model)], voting='soft')\n",
    "\n",
    "accs = []\n",
    "reports = []\n",
    "f1 = []\n",
    "pr = []\n",
    "re =[]\n",
    "\n",
    "#javed#\n",
    "accuracy_ = []\n",
    "P_r_f = []\n",
    "\n",
    "mean_accuracy= []\n",
    "mean_p_r_f =[]\n",
    "##javed###\n",
    "\n",
    "#\n",
    "roc_auc_ = []\n",
    "roc_auc_one = []\n",
    "roc_auc_two = []\n",
    "roc_auc_three = []\n",
    "roc_auc_four = []\n",
    "\n",
    "tprs_zero_v = []\n",
    "tprs_one_v = []\n",
    "tprs_two_v = []\n",
    "tprs_three_v = []\n",
    "tprs_four_v = []\n",
    "\n",
    "mean_fpr_v = np.linspace(0,1,100)\n",
    "#\n",
    "st_time = time.time()\n",
    "for train_index, test_index in skfold.split(X,y):\n",
    "    X_train, X_test = X[train_index], X[test_index]\n",
    "    y_train, y_test = y[train_index], y[test_index]\n",
    "    # Oversample\n",
    "    # X_train_res, y_train_res = sm.fit_sample(X_train, y_train)\n",
    "    predictions, accuracy, f1socre, precision, recall, alg_accuracy, alg_p_r_f_score = train_test_model(vote_model, X_train, X_test, y_train, y_test, labels)\n",
    "    accs.append(accuracy)\n",
    "    f1.append(f1socre)\n",
    "    pr.append(precision)\n",
    "    re.append(recall)\n",
    "    #reports.append(metrics_report)\n",
    "    fpr_four_v, tpr_four_v, _____ = roc_curve(y_test, vote_model.predict_proba (X_test)[:,3], pos_label=3)     #\n",
    "    tprs_four_v.append(interp(mean_fpr_v, fpr_four_v, tpr_four_v))                                             #\n",
    "    roc_auc_four = (auc(fpr_four_v, tpr_four_v))                                                               #\n",
    "    \n",
    "\n",
    "    \n",
    "                #javed###      \n",
    "    accuracy_.append(alg_accuracy)\n",
    "    P_r_f.append(alg_p_r_f_score)\n",
    "    #### jave ####\n",
    "\n",
    "en_time = time.time()\n",
    "print('Total time: {:.2f}s'.format(en_time-st_time)) \n",
    "print('mean accuracy: {:.2f} %'.format(np.mean(accs)))\n",
    "print('mean f1 socre: {:.2f} %'.format(np.mean(f1)))\n",
    "print('mean precision: {:.2f} %'.format(np.mean(pr)))\n",
    "print('mean recall: {:.2f} %'.format(np.mean(re)))\n",
    "\n",
    "#\n",
    "mean_tpr_v = np.mean(tprs_four_v, axis=0)\n",
    "mean_auc_v = auc(mean_fpr_v, mean_tpr_v)\n",
    "#\n",
    "#### jave ####\n",
    "mean_accuracy= np.mean(accuracy_, axis=0)\n",
    "print(\"the average accuracy of Voting is\",mean_accuracy)\n",
    "    \n",
    "mean_p_r_f=np.mean(P_r_f, axis=0)\n",
    "print(\"the presion, recall, f are\", mean_p_r_f)\n",
    "#### jave ####\n",
    "\n",
    "unique, counts = np.unique(y_train, return_counts=True)\n",
    "print(list(zip(unique, counts)))\n",
    "plot_confusion_matrix(vote_model, X_test, y_test, display_labels=labels, xticks_rotation='vertical', cmap=\"BuPu\")"
   ]
  },
  {
   "cell_type": "code",
   "execution_count": 36,
   "metadata": {},
   "outputs": [
    {
     "data": {
      "image/png": "[encoded data removed]",
      "text/plain": [
       "<Figure size 432x288 with 1 Axes>"
      ]
     },
     "metadata": {
      "needs_background": "light"
     },
     "output_type": "display_data"
    }
   ],
   "source": [
    "plt.title('Receiver Operating Characteristic')\n",
    "plt.plot(mean_fpr_v, mean_tpr_v, 'b', color='purple', label= \"ROC for Oversampling (Voting Classifier)=\" +str(mean_auc_v),lw=2, alpha=1)\n",
    "plt.legend(loc = 'lower right')\n",
    "plt.xlim([0, 1])\n",
    "plt.ylim([0, 1.05])\n",
    "plt.ylabel('True Positive Rate')\n",
    "plt.xlabel('False Positive Rate')\n",
    "plt.show()"
   ]
  },
  {
   "cell_type": "markdown",
   "metadata": {
    "id": "IO3tiy-3UDKh"
   },
   "source": [
    "### AdaBoost\n",
    "The core principle of AdaBoost is to fit a sequence of weak learners (i.e., models that are only slightly better than random guessing, such as small decision trees) on repeatedly modified versions of the data."
   ]
  },
  {
   "cell_type": "code",
   "execution_count": 37,
   "metadata": {
    "colab": {
     "base_uri": "https://localhost:8080/"
    },
    "id": "TiSlquVWUODN",
    "outputId": "8a87a81a-4d02-46ff-e74c-b5d745676133"
   },
   "outputs": [
    {
     "name": "stdout",
     "output_type": "stream",
     "text": [
      "Start training...done!\n",
      "Start testing...done!\n",
      "Start training...done!\n",
      "Start testing...done!\n",
      "Start training...done!\n",
      "Start testing...done!\n",
      "Start training...done!\n",
      "Start testing...done!\n",
      "Start training...done!\n",
      "Start testing...done!\n",
      "Start training...done!\n",
      "Start testing...done!\n",
      "Start training...done!\n",
      "Start testing...done!\n",
      "Start training...done!\n",
      "Start testing...done!\n",
      "Start training...done!\n",
      "Start testing...done!\n",
      "Start training...done!\n",
      "Start testing...done!\n",
      "Total time: 70.86s\n",
      "mean accuracy: 0.57 %\n",
      "mean f1 socre: 0.58 %\n",
      "mean precision: 0.57 %\n",
      "mean recall: 0.57 %\n",
      "the average accuracy of AdaBoost is 0.5690844062947068\n",
      "the presion, recall, f are [[  0.50967702   0.72024437   0.5906243    0.55080715]\n",
      " [  0.61718929   0.71212269   0.46208118   0.62345099]\n",
      " [  0.55753687   0.71486453   0.51750567   0.58410064]\n",
      " [156.2         78.5        272.9        192.3       ]]\n",
      "[(0, 1406), (1, 706), (2, 2457), (3, 1731)]\n"
     ]
    },
    {
     "data": {
      "text/plain": [
       "<sklearn.metrics._plot.confusion_matrix.ConfusionMatrixDisplay at 0x27ed8303dc8>"
      ]
     },
     "execution_count": 37,
     "metadata": {},
     "output_type": "execute_result"
    },
    {
     "data": {
      "image/png": "[encoded data removed]",
      "text/plain": [
       "<Figure size 432x288 with 2 Axes>"
      ]
     },
     "metadata": {
      "needs_background": "light"
     },
     "output_type": "display_data"
    }
   ],
   "source": [
    "ada_model = AdaBoostClassifier(n_estimators=500)\n",
    "\n",
    "accs = []\n",
    "reports = []\n",
    "f1 = []\n",
    "pr = []\n",
    "re =[]\n",
    "\n",
    "#javed#\n",
    "accuracy_ = []\n",
    "P_r_f = []\n",
    "\n",
    "mean_accuracy= []\n",
    "mean_p_r_f =[]\n",
    "##javed###\n",
    "\n",
    "st_time = time.time()\n",
    "for train_index, test_index in skfold.split(X,y):\n",
    "    X_train, X_test = X[train_index], X[test_index]\n",
    "    y_train, y_test = y[train_index], y[test_index]\n",
    "    # Oversample\n",
    "    # X_train_res, y_train_res = sm.fit_sample(X_train, y_train)\n",
    "    predictions, accuracy, f1socre, precision, recall, alg_accuracy, alg_p_r_f_score = train_test_model(ada_model, X_train, X_test, y_train, y_test, labels)\n",
    "    accs.append(accuracy)\n",
    "    f1.append(f1socre)\n",
    "    pr.append(precision)\n",
    "    re.append(recall)\n",
    "    #reports.append(metrics_report)\n",
    "    \n",
    "        \n",
    "                #javed###      \n",
    "    accuracy_.append(alg_accuracy)\n",
    "    P_r_f.append(alg_p_r_f_score)\n",
    "    #### jave ####\n",
    "\n",
    "en_time = time.time()\n",
    "print('Total time: {:.2f}s'.format(en_time-st_time)) \n",
    "print('mean accuracy: {:.2f} %'.format(np.mean(accs)))\n",
    "print('mean f1 socre: {:.2f} %'.format(np.mean(f1)))\n",
    "print('mean precision: {:.2f} %'.format(np.mean(pr)))\n",
    "print('mean recall: {:.2f} %'.format(np.mean(re)))\n",
    "\n",
    "#### jave ####\n",
    "mean_accuracy= np.mean(accuracy_, axis=0)\n",
    "print(\"the average accuracy of AdaBoost is\",mean_accuracy)\n",
    "    \n",
    "mean_p_r_f=np.mean(P_r_f, axis=0)\n",
    "print(\"the presion, recall, f are\", mean_p_r_f)\n",
    "#### jave ####\n",
    "\n",
    "unique, counts = np.unique(y_train, return_counts=True)\n",
    "print(list(zip(unique, counts)))\n",
    "plot_confusion_matrix(ada_model, X_test, y_test, display_labels=labels, xticks_rotation='vertical', cmap=\"BuPu\")"
   ]
  },
  {
   "cell_type": "markdown",
   "metadata": {
    "id": "bOot5L2NAmuo"
   },
   "source": [
    "# Undersampling"
   ]
  },
  {
   "cell_type": "markdown",
   "metadata": {
    "id": "8ZZB1SqCCWFT"
   },
   "source": [
    "### MultinomialNB"
   ]
  },
  {
   "cell_type": "code",
   "execution_count": 38,
   "metadata": {
    "colab": {
     "base_uri": "https://localhost:8080/"
    },
    "id": "-pH3YKFZeQD0",
    "outputId": "0a924428-633d-49b0-a2f1-c5cb5f750796"
   },
   "outputs": [
    {
     "name": "stdout",
     "output_type": "stream",
     "text": [
      "Start training...done!\n",
      "Start testing...done!\n",
      "Start training...done!\n",
      "Start testing...done!\n",
      "Start training...done!\n",
      "Start testing...done!\n",
      "Start training...done!\n",
      "Start testing...done!\n",
      "Start training...done!\n",
      "Start testing...done!\n",
      "Start training...done!\n",
      "Start testing...done!\n",
      "Start training...done!\n",
      "Start testing...done!\n",
      "Start training...done!\n",
      "Start testing...done!\n",
      "Start training...done!\n",
      "Start testing...done!\n",
      "Start training...done!\n",
      "Start testing...done!\n",
      "Total time: 0.56s\n",
      "mean accuracy: 0.67 %\n",
      "mean f1 socre: 0.69 %\n",
      "mean precision: 0.67 %\n",
      "mean recall: 0.67 %\n",
      "\n",
      "ROC across folds for zero:  0.3596755478690771\n",
      "\n",
      "ROC across folds for one:  0.9609824673853338\n",
      "\n",
      "ROC across folds for two:  0.46027359398992884\n",
      "\n",
      "ROC across folds for three:  0.4391513759306678\n",
      "\n",
      "ROC across folds for four:  nan\n",
      "the average accuracy of NBM is 0.6676680972818312\n",
      "the presion, recall, f are [[  0.64382552   0.54053004   0.79602852   0.65506539]\n",
      " [  0.68373346   0.90579357   0.55001616   0.72436043]\n",
      " [  0.66287059   0.6763036    0.64982815   0.68726577]\n",
      " [156.2         78.5        272.9        192.3       ]]\n",
      "[(0, 2457), (1, 2457), (2, 2457), (3, 2457)]\n"
     ]
    },
    {
     "data": {
      "text/plain": [
       "<sklearn.metrics._plot.confusion_matrix.ConfusionMatrixDisplay at 0x27ed7a5a8c8>"
      ]
     },
     "execution_count": 38,
     "metadata": {},
     "output_type": "execute_result"
    },
    {
     "data": {
      "image/png": "[encoded data removed]",
      "text/plain": [
       "<Figure size 432x288 with 2 Axes>"
      ]
     },
     "metadata": {
      "needs_background": "light"
     },
     "output_type": "display_data"
    }
   ],
   "source": [
    "nb_model = MultinomialNB()\n",
    "\n",
    "accs = []\n",
    "reports = []\n",
    "f1 = []\n",
    "pr = []\n",
    "re = []\n",
    "pe = []\n",
    "\n",
    "#javed#\n",
    "accuracy_ = []\n",
    "P_r_f = []\n",
    "\n",
    "mean_accuracy= []\n",
    "mean_p_r_f =[]\n",
    "##javed###\n",
    "\n",
    "roc_auc_ = []\n",
    "roc_auc_one = []\n",
    "roc_auc_two = []\n",
    "roc_auc_three = []\n",
    "roc_auc_four = []\n",
    "st_time = time.time()\n",
    "for train_index, test_index in skfold.split(X,y):\n",
    "    X_train, X_test = X[train_index], X[test_index]\n",
    "    y_train, y_test = y[train_index], y[test_index]\n",
    "    # Undersampling\n",
    "    X_train_under, y_train_under = rus.fit_resample(X_train, y_train)\n",
    "    predictions, accuracy, f1socre, precision, recall, alg_accuracy, alg_p_r_f_score = train_test_model(nb_model, X_train_under, X_test, y_train_under, y_test, labels)\n",
    "\n",
    "    fpr_zero, tpr_zero, _ = roc_curve(y_test, nb_model.predict_proba(X_test)[:,1], pos_label=0)\n",
    "    fpr_one, tpr_one, __ = roc_curve(y_test, nb_model.predict_proba(X_test)[:,1], pos_label=1)\n",
    "    fpr_two, tpr_two, ___ = roc_curve(y_test, nb_model.predict_proba(X_test)[:,1], pos_label=2)\n",
    "    fpr_three, tpr_three, ____ = roc_curve(y_test, nb_model.predict_proba(X_test)[:,1], pos_label=3)\n",
    "    fpr_four, tpr_four, _____ = roc_curve(y_test, nb_model.predict_proba (X_test)[:,1], pos_label=4)\n",
    "\n",
    "    roc_auc_.append(auc(fpr_zero, tpr_zero))\n",
    "    roc_auc_one.append(auc(fpr_one, tpr_one))\n",
    "    roc_auc_two.append(auc(fpr_two, tpr_two))\n",
    "    roc_auc_three.append(auc(fpr_three, tpr_three))\n",
    "    roc_auc_four.append(auc(fpr_four, tpr_four))\n",
    "    \n",
    "                 #javed###      \n",
    "    accuracy_.append(alg_accuracy)\n",
    "    P_r_f.append(alg_p_r_f_score)\n",
    "    #### jave ####\n",
    "\n",
    "    pe.append(predictions)\n",
    "    accs.append(accuracy)\n",
    "    f1.append(f1socre)\n",
    "    pr.append(precision)\n",
    "    re.append(recall)\n",
    "\n",
    "\n",
    "en_time = time.time()\n",
    "#print('mean predictions: {:.2f} %'.format(sum(pe) / len(pe) ))\n",
    "print('Total time: {:.2f}s'.format(en_time-st_time))   \n",
    "print('mean accuracy: {:.2f} %'.format(np.mean(accs)))\n",
    "print('mean f1 socre: {:.2f} %'.format(np.mean(f1)))\n",
    "print('mean precision: {:.2f} %'.format(np.mean(pr)))\n",
    "print('mean recall: {:.2f} %'.format(np.mean(re)))\n",
    "\n",
    "roc_zero = sum(roc_auc_) / len(roc_auc_)\n",
    "print(\"\\nROC across folds for zero: \", roc_zero)\n",
    "\n",
    "roc_one = sum(roc_auc_one) / len(roc_auc_one)\n",
    "print(\"\\nROC across folds for one: \", roc_one)\n",
    "\n",
    "roc_two = sum(roc_auc_two) / len(roc_auc_two)\n",
    "print(\"\\nROC across folds for two: \", roc_two)\n",
    "\n",
    "roc_three = sum(roc_auc_three) / len(roc_auc_three)\n",
    "print(\"\\nROC across folds for three: \", roc_three)\n",
    "\n",
    "roc_four = sum(roc_auc_four) / len(roc_auc_four)\n",
    "print(\"\\nROC across folds for four: \", roc_four)\n",
    "\n",
    "#### jave ####\n",
    "mean_accuracy= np.mean(accuracy_, axis=0)\n",
    "print(\"the average accuracy of NBM is\",mean_accuracy)\n",
    "    \n",
    "mean_p_r_f=np.mean(P_r_f, axis=0)\n",
    "print(\"the presion, recall, f are\", mean_p_r_f)\n",
    "#### jave ####\n",
    "\n",
    "#print(fpr_zero)\n",
    "#print(tpr_zero)\n",
    "\n",
    "#print(metrics_report)\n",
    "unique, counts = np.unique(y_train_res, return_counts=True)\n",
    "print(list(zip(unique, counts)))\n",
    "plot_confusion_matrix(nb_model, X_test, y_test, display_labels=labels, xticks_rotation='vertical', cmap=\"BuPu\")"
   ]
  },
  {
   "cell_type": "code",
   "execution_count": 39,
   "metadata": {
    "id": "nWsSNHhem61y"
   },
   "outputs": [
    {
     "data": {
      "image/png": "[encoded data removed]",
      "text/plain": [
       "<Figure size 432x288 with 1 Axes>"
      ]
     },
     "metadata": {
      "needs_background": "light"
     },
     "output_type": "display_data"
    }
   ],
   "source": [
    "plt.title('Receiver Operating Characteristic')\n",
    "#plt.plot(fpr_zero, tpr_zero, 'b', color='green', label= \"ROC for 0 label =\" +str(roc_zero))\n",
    "plt.plot(fpr_one, tpr_one, 'b', label= \"ROC for 1 label =\" +str(roc_one))\n",
    "#plt.plot(fpr_two, tpr_two, 'b', color='purple',  label= \"ROC for 2 label =\" +str(roc_two))\n",
    "#plt.plot(fpr_three, tpr_three, 'b', color='red',  label= \"ROC for 3 label =\" +str(roc_three))\n",
    "#plt.plot(fpr_four, tpr_four, 'b', color='yellow', label= \"ROC for 4 label =\" +str(roc_four))\n",
    "plt.legend(loc = 'lower right')\n",
    "#plt.plot([0, 1], [0, 1],'r--')\n",
    "plt.xlim([0, 1])\n",
    "plt.ylim([0, 1.05])\n",
    "plt.ylabel('True Positive Rate')\n",
    "plt.xlabel('False Positive Rate')\n",
    "plt.show()"
   ]
  },
  {
   "cell_type": "markdown",
   "metadata": {
    "id": "I9jNvpbfCnBf"
   },
   "source": [
    "### LogisticRegression"
   ]
  },
  {
   "cell_type": "code",
   "execution_count": 40,
   "metadata": {
    "colab": {
     "base_uri": "https://localhost:8080/"
    },
    "id": "9EkN811rBp-_",
    "outputId": "5b6b0fe8-9611-44cc-b502-0db0b6fe47b1"
   },
   "outputs": [
    {
     "name": "stdout",
     "output_type": "stream",
     "text": [
      "Start training...done!\n",
      "Start testing...done!\n",
      "Start training...done!\n",
      "Start testing...done!\n",
      "Start training...done!\n",
      "Start testing...done!\n",
      "Start training...done!\n",
      "Start testing...done!\n",
      "Start training...done!\n",
      "Start testing...done!\n",
      "Start training...done!\n",
      "Start testing...done!\n",
      "Start training...done!\n",
      "Start testing...done!\n",
      "Start training...done!\n",
      "Start testing...done!\n",
      "Start training...done!\n",
      "Start testing...done!\n",
      "Start training...done!\n",
      "Start testing...done!\n",
      "Total time: 7.17s\n",
      "mean accuracy: 0.78 %\n",
      "mean f1 socre: 0.78 %\n",
      "mean precision: 0.78 %\n",
      "mean recall: 0.77 %\n",
      "\n",
      "ROC across folds for zero:  0.37225434044931127\n",
      "\n",
      "ROC across folds for one:  0.990055902328363\n",
      "\n",
      "ROC across folds for two:  0.4534726390556223\n",
      "\n",
      "ROC across folds for three:  0.4218053614848364\n",
      "\n",
      "ROC across folds for four:  nan\n",
      "the average accuracy of LR is 0.7751085223789087\n",
      "the presion, recall, f are [[  0.74112901   0.74241267   0.82960476   0.7584521 ]\n",
      " [  0.78423567   0.98474521   0.70977968   0.77478411]\n",
      " [  0.76155638   0.84598109   0.76469204   0.76631411]\n",
      " [156.2         78.5        272.9        192.3       ]]\n",
      "[(0, 2457), (1, 2457), (2, 2457), (3, 2457)]\n"
     ]
    },
    {
     "data": {
      "text/plain": [
       "<sklearn.metrics._plot.confusion_matrix.ConfusionMatrixDisplay at 0x27ed843fc08>"
      ]
     },
     "execution_count": 40,
     "metadata": {},
     "output_type": "execute_result"
    },
    {
     "data": {
      "image/png": "[encoded data removed]",
      "text/plain": [
       "<Figure size 432x288 with 2 Axes>"
      ]
     },
     "metadata": {
      "needs_background": "light"
     },
     "output_type": "display_data"
    }
   ],
   "source": [
    "log_model = LogisticRegression(penalty='l2', max_iter=500)\n",
    "\n",
    "accs = []\n",
    "reports = []\n",
    "f1 = []\n",
    "pr = []\n",
    "re = []\n",
    "pe = []\n",
    "\n",
    "#javed#\n",
    "accuracy_ = []\n",
    "P_r_f = []\n",
    "\n",
    "mean_accuracy= []\n",
    "mean_p_r_f =[]\n",
    "##javed###\n",
    "\n",
    "roc_auc_ = []\n",
    "roc_auc_one = []\n",
    "roc_auc_two = []\n",
    "roc_auc_three = []\n",
    "roc_auc_four = []\n",
    "st_time = time.time()\n",
    "for train_index, test_index in skfold.split(X,y):\n",
    "    X_train, X_test = X[train_index], X[test_index]\n",
    "    y_train, y_test = y[train_index], y[test_index]\n",
    "    # Undersampling\n",
    "    X_train_under, y_train_under = rus.fit_resample(X_train, y_train)\n",
    "    predictions, accuracy, f1socre, precision, recall, alg_accuracy, alg_p_r_f_score = train_test_model(log_model, X_train_under, X_test, y_train_under, y_test, labels)\n",
    "\n",
    "    fpr_zero, tpr_zero, _ = roc_curve(y_test, log_model.predict_proba(X_test)[:,1], pos_label=0)\n",
    "    fpr_one, tpr_one, __ = roc_curve(y_test, log_model.predict_proba(X_test)[:,1], pos_label=1)\n",
    "    fpr_two, tpr_two, ___ = roc_curve(y_test, log_model.predict_proba(X_test)[:,1], pos_label=2)\n",
    "    fpr_three, tpr_three, ____ = roc_curve(y_test, log_model.predict_proba(X_test)[:,1], pos_label=3)\n",
    "    fpr_four, tpr_four, _____ = roc_curve(y_test, log_model.predict_proba (X_test)[:,1], pos_label=4)\n",
    "\n",
    "    roc_auc_.append(auc(fpr_zero, tpr_zero))\n",
    "    roc_auc_one.append(auc(fpr_one, tpr_one))\n",
    "    roc_auc_two.append(auc(fpr_two, tpr_two))\n",
    "    roc_auc_three.append(auc(fpr_three, tpr_three))\n",
    "    roc_auc_four.append(auc(fpr_four, tpr_four))\n",
    "    \n",
    "                     #javed###      \n",
    "    accuracy_.append(alg_accuracy)\n",
    "    P_r_f.append(alg_p_r_f_score)\n",
    "    #### jave ####\n",
    "\n",
    "\n",
    "    pe.append(predictions)\n",
    "    accs.append(accuracy)\n",
    "    f1.append(f1socre)\n",
    "    pr.append(precision)\n",
    "    re.append(recall)\n",
    "\n",
    "\n",
    "en_time = time.time()\n",
    "#print('mean predictions: {:.2f} %'.format(sum(pe) / len(pe) ))\n",
    "print('Total time: {:.2f}s'.format(en_time-st_time))   \n",
    "print('mean accuracy: {:.2f} %'.format(np.mean(accs)))\n",
    "print('mean f1 socre: {:.2f} %'.format(np.mean(f1)))\n",
    "print('mean precision: {:.2f} %'.format(np.mean(pr)))\n",
    "print('mean recall: {:.2f} %'.format(np.mean(re)))\n",
    "\n",
    "roc_zero = sum(roc_auc_) / len(roc_auc_)\n",
    "print(\"\\nROC across folds for zero: \", roc_zero)\n",
    "\n",
    "roc_one = sum(roc_auc_one) / len(roc_auc_one)\n",
    "print(\"\\nROC across folds for one: \", roc_one)\n",
    "\n",
    "roc_two = sum(roc_auc_two) / len(roc_auc_two)\n",
    "print(\"\\nROC across folds for two: \", roc_two)\n",
    "\n",
    "roc_three = sum(roc_auc_three) / len(roc_auc_three)\n",
    "print(\"\\nROC across folds for three: \", roc_three)\n",
    "\n",
    "roc_four = sum(roc_auc_four) / len(roc_auc_four)\n",
    "print(\"\\nROC across folds for four: \", roc_four)\n",
    "\n",
    "#### jave ####\n",
    "mean_accuracy= np.mean(accuracy_, axis=0)\n",
    "print(\"the average accuracy of LR is\",mean_accuracy)\n",
    "    \n",
    "mean_p_r_f=np.mean(P_r_f, axis=0)\n",
    "print(\"the presion, recall, f are\", mean_p_r_f)\n",
    "#### jave ####\n",
    "\n",
    "#print(fpr_zero)\n",
    "#print(tpr_zero)\n",
    "\n",
    "#print(metrics_report)\n",
    "unique, counts = np.unique(y_train_res, return_counts=True)\n",
    "print(list(zip(unique, counts)))\n",
    "plot_confusion_matrix(log_model, X_test, y_test, display_labels=labels, xticks_rotation='vertical', cmap=\"BuPu\")"
   ]
  },
  {
   "cell_type": "code",
   "execution_count": 41,
   "metadata": {
    "id": "LMyOK3WanLc4"
   },
   "outputs": [
    {
     "data": {
      "image/png": "[encoded data removed]",
      "text/plain": [
       "<Figure size 432x288 with 1 Axes>"
      ]
     },
     "metadata": {
      "needs_background": "light"
     },
     "output_type": "display_data"
    }
   ],
   "source": [
    "plt.title('Receiver Operating Characteristic')\n",
    "plt.plot(fpr_zero, tpr_zero, 'b', color='green', label= \"ROC for 0 label =\" +str(roc_zero))\n",
    "plt.plot(fpr_one, tpr_one, 'b', label= \"ROC for 1 label =\" +str(roc_one))\n",
    "plt.plot(fpr_two, tpr_two, 'b', color='purple',  label= \"ROC for 2 label =\" +str(roc_two))\n",
    "#plt.plot(fpr_three, tpr_three, 'b', color='red',  label= \"ROC for 3 label =\" +str(roc_three))\n",
    "#plt.plot(fpr_four, tpr_four, 'b', color='yellow', label= \"ROC for 4 label =\" +str(roc_four))\n",
    "plt.legend(loc = 'lower right')\n",
    "#plt.plot([0, 1], [0, 1],'r--')\n",
    "plt.xlim([0, 1])\n",
    "plt.ylim([0, 1.05])\n",
    "plt.ylabel('True Positive Rate')\n",
    "plt.xlabel('False Positive Rate')\n",
    "plt.show()"
   ]
  },
  {
   "cell_type": "markdown",
   "metadata": {
    "id": "ZZ3FEv5sEqxR"
   },
   "source": [
    "### LinearSVC"
   ]
  },
  {
   "cell_type": "code",
   "execution_count": 42,
   "metadata": {
    "colab": {
     "base_uri": "https://localhost:8080/"
    },
    "id": "JveUtlK-Eqhl",
    "outputId": "956f7257-5b6e-4aaf-ed80-ac47e5bf1c8d"
   },
   "outputs": [
    {
     "name": "stdout",
     "output_type": "stream",
     "text": [
      "Start training...done!\n",
      "Start testing...done!\n",
      "Start training...done!\n",
      "Start testing...done!\n",
      "Start training...done!\n",
      "Start testing...done!\n",
      "Start training...done!\n",
      "Start testing...done!\n",
      "Start training...done!\n",
      "Start testing...done!\n",
      "Start training...done!\n",
      "Start testing...done!\n",
      "Start training...done!\n",
      "Start testing...done!\n",
      "Start training...done!\n",
      "Start testing...done!\n",
      "Start training...done!\n",
      "Start testing...done!\n",
      "Start training...done!\n",
      "Start testing...done!\n",
      "Total time: 2.84s\n",
      "mean accuracy: 0.76 %\n",
      "mean f1 socre: 0.77 %\n",
      "mean precision: 0.76 %\n",
      "mean recall: 0.76 %\n",
      "the average accuracy of SVC is 0.7609636215001021\n",
      "the presion, recall, f are [[  0.73780967   0.70852512   0.82026969   0.742475  ]\n",
      " [  0.77207251   0.97455372   0.69145389   0.76334467]\n",
      " [  0.75379025   0.81990737   0.74991376   0.75244568]\n",
      " [156.2         78.5        272.9        192.3       ]]\n",
      "0.9054320559774222\n",
      "[(0, 2457), (1, 2457), (2, 2457), (3, 2457)]\n"
     ]
    },
    {
     "data": {
      "text/plain": [
       "<sklearn.metrics._plot.confusion_matrix.ConfusionMatrixDisplay at 0x27ed4bd3348>"
      ]
     },
     "execution_count": 42,
     "metadata": {},
     "output_type": "execute_result"
    },
    {
     "data": {
      "image/png": "[encoded data removed]",
      "text/plain": [
       "<Figure size 432x288 with 2 Axes>"
      ]
     },
     "metadata": {
      "needs_background": "light"
     },
     "output_type": "display_data"
    }
   ],
   "source": [
    "svm = LinearSVC(class_weight='balanced', verbose=False, max_iter=10000, tol=1e-4, C=0.1)\n",
    "\n",
    "accs = []\n",
    "reports = []\n",
    "f1 = []\n",
    "pr = []\n",
    "re = []\n",
    "pe = []\n",
    "\n",
    "#javed#\n",
    "accuracy_ = []\n",
    "P_r_f = []\n",
    "\n",
    "mean_accuracy= []\n",
    "mean_p_r_f =[]\n",
    "##javed###\n",
    "\n",
    "roc_auc_ = []\n",
    "roc_auc_one = []\n",
    "roc_auc_two = []\n",
    "roc_auc_three = []\n",
    "roc_auc_four_svm = []\n",
    "\n",
    "tprs_zero_svm_under = []\n",
    "tprs_one_svm_under = []\n",
    "tprs_two_svm_under = []\n",
    "tprs_three_svm_under = []\n",
    "tprs_four_svm_under = []\n",
    "\n",
    "mean_fpr_svm_under = np.linspace(0,1,100)\n",
    "\n",
    "st_time = time.time()\n",
    "for train_index, test_index in skfold.split(X,y):\n",
    "    X_train, X_test = X[train_index], X[test_index]\n",
    "    y_train, y_test = y[train_index], y[test_index]\n",
    "    # Undersampling\n",
    "    X_train_under, y_train_under = rus.fit_resample(X_train, y_train)\n",
    "    predictions, accuracy, f1socre, precision, recall, alg_accuracy, alg_p_r_f_score = train_test_model(svm, X_train_under, X_test, y_train_under, y_test, labels)\n",
    "\n",
    "    #fpr_zero, tpr_zero, _ = roc_curve(y_test, svm.decision_function(X_test)[:,1], pos_label=0)\n",
    "    #fpr_one, tpr_one, __ = roc_curve(y_test, svm.decision_function(X_test)[:,1], pos_label=1)\n",
    "    #fpr_two, tpr_two, ___ = roc_curve(y_test, svm.decision_function(X_test)[:,1], pos_label=2)\n",
    "    #fpr_three, tpr_three, ____ = roc_curve(y_test, svm.decision_function(X_test)[:,1], pos_label=3)\n",
    "    fpr_four_under_svm, tpr_four_under_svm, _____ = roc_curve(y_test, svm.decision_function (X_test)[:,3], pos_label=3)\n",
    "\n",
    "    tprs_four_svm_under.append(interp(mean_fpr_svm_under, fpr_four_under_svm, tpr_four_under_svm))\n",
    "    \n",
    "    #roc_auc_one = (auc(fpr_zero, tpr_zero))\n",
    "    #roc_auc_one = (auc(fpr_one, tpr_one))\n",
    "    #roc_auc_two = (auc(fpr_two, tpr_two))\n",
    "    #roc_auc_three = (auc(fpr_three, tpr_three))\n",
    "    roc_auc_four = (auc(fpr_four_under_svm, tpr_four_under_svm))\n",
    "    \n",
    "                         #javed###      \n",
    "    accuracy_.append(alg_accuracy)\n",
    "    P_r_f.append(alg_p_r_f_score)\n",
    "    #### jave ####\n",
    "\n",
    "\n",
    "    pe.append(predictions)\n",
    "    accs.append(accuracy)\n",
    "    f1.append(f1socre)\n",
    "    pr.append(precision)\n",
    "    re.append(recall)\n",
    "\n",
    "\n",
    "en_time = time.time()\n",
    "#print('mean predictions: {:.2f} %'.format(sum(pe) / len(pe) ))\n",
    "print('Total time: {:.2f}s'.format(en_time-st_time))   \n",
    "print('mean accuracy: {:.2f} %'.format(np.mean(accs)))\n",
    "print('mean f1 socre: {:.2f} %'.format(np.mean(f1)))\n",
    "print('mean precision: {:.2f} %'.format(np.mean(pr)))\n",
    "print('mean recall: {:.2f} %'.format(np.mean(re)))\n",
    "\n",
    "#roc_zero = sum(roc_auc_) / len(roc_auc_)\n",
    "#print(\"\\nROC across folds for zero: \", roc_zero)\n",
    "\n",
    "#roc_one = sum(roc_auc_one) / len(roc_auc_one)\n",
    "#print(\"\\nROC across folds for one: \", roc_one)\n",
    "\n",
    "#roc_two = sum(roc_auc_two) / len(roc_auc_two)\n",
    "#print(\"\\nROC across folds for two: \", roc_two)\n",
    "\n",
    "#roc_three = sum(roc_auc_three) / len(roc_auc_three)\n",
    "#print(\"\\nROC across folds for three: \", roc_three)\n",
    "\n",
    "#roc_four_under_svm = sum(roc_auc_four_svm) / len(roc_auc_four_svm)\n",
    "#print(\"\\nROC across folds for four: \", roc_four_under_svm)\n",
    "\n",
    "mean_tpr_svm_under = np.mean(tprs_four_svm_under, axis=0)\n",
    "mean_auc_svm_under = auc(mean_fpr_svm_under, mean_tpr_svm_under)\n",
    "\n",
    "#### jave ####\n",
    "mean_accuracy= np.mean(accuracy_, axis=0)\n",
    "print(\"the average accuracy of SVC is\",mean_accuracy)\n",
    "    \n",
    "mean_p_r_f=np.mean(P_r_f, axis=0)\n",
    "print(\"the presion, recall, f are\", mean_p_r_f)\n",
    "#### jave ####\n",
    "\n",
    "#print(mean_tpr_svm_under)\n",
    "#print(mean_fpr_svm_under)\n",
    "print(mean_auc_svm_under)\n",
    "\n",
    "#print(metrics_report)\n",
    "unique, counts = np.unique(y_train_res, return_counts=True)\n",
    "print(list(zip(unique, counts)))\n",
    "plot_confusion_matrix(svm, X_test, y_test, display_labels=labels, xticks_rotation='vertical', cmap=\"BuPu\")"
   ]
  },
  {
   "cell_type": "code",
   "execution_count": 43,
   "metadata": {
    "colab": {
     "base_uri": "https://localhost:8080/",
     "height": 294
    },
    "id": "eH6gGNexngcH",
    "outputId": "36b2a975-3382-42bb-b99f-90c047bcfcda"
   },
   "outputs": [
    {
     "data": {
      "image/png": "[encoded data removed]",
      "text/plain": [
       "<Figure size 432x288 with 1 Axes>"
      ]
     },
     "metadata": {
      "needs_background": "light"
     },
     "output_type": "display_data"
    }
   ],
   "source": [
    "plt.title('Receiver Operating Characteristic')\n",
    "#plt.plot(fpr_zero, tpr_zero, 'b', color='green', label= \"ROC for 0 label =\" +str(roc_zero))\n",
    "#plt.plot(fpr_one, tpr_one, 'b', label= \"ROC for 1 label =\" +str(roc_one))\n",
    "#plt.plot(fpr_two, tpr_two, 'b', color='purple',  label= \"ROC for 2 label =\" +str(roc_two))\n",
    "#plt.plot(fpr_three, tpr_three, 'b', color='red',  label= \"ROC for 3 label =\" +str(roc_three))\n",
    "plt.plot(mean_fpr_svm_under, mean_tpr_svm_under, 'b', color='red', label= \"ROC for Under-sampling (SVM) =\" +str(mean_auc_svm_under) ,lw=2, alpha=1)\n",
    "plt.legend(loc = 'lower right')\n",
    "#plt.plot([0, 1], [0, 1],'r--')\n",
    "plt.xlim([0, 1])\n",
    "plt.ylim([0, 1.05])\n",
    "plt.ylabel('True Positive Rate')\n",
    "plt.xlabel('False Positive Rate')\n",
    "plt.show()"
   ]
  },
  {
   "cell_type": "markdown",
   "metadata": {
    "id": "_65kL4sCGg7z"
   },
   "source": [
    "### RandomForestClassifier"
   ]
  },
  {
   "cell_type": "code",
   "execution_count": 44,
   "metadata": {
    "colab": {
     "base_uri": "https://localhost:8080/"
    },
    "id": "H8wltLbSGgMl",
    "outputId": "17db0818-ab5c-470a-b505-4246929f62cd"
   },
   "outputs": [
    {
     "name": "stdout",
     "output_type": "stream",
     "text": [
      "Start training...done!\n",
      "Start testing...done!\n",
      "Start training...done!\n",
      "Start testing...done!\n",
      "Start training...done!\n",
      "Start testing...done!\n",
      "Start training...done!\n",
      "Start testing...done!\n",
      "Start training...done!\n",
      "Start testing...done!\n",
      "Start training...done!\n",
      "Start testing...done!\n",
      "Start training...done!\n",
      "Start testing...done!\n",
      "Start training...done!\n",
      "Start testing...done!\n",
      "Start training...done!\n",
      "Start testing...done!\n",
      "Start training...done!\n",
      "Start testing...done!\n",
      "Total time: 16.75s\n",
      "mean accuracy: 0.79 %\n",
      "mean f1 socre: 0.80 %\n",
      "mean precision: 0.79 %\n",
      "mean recall: 0.79 %\n",
      "the average accuracy of RF is 0.7945411812793788\n",
      "the presion, recall, f are [[  0.80385549   0.72572679   0.81641518   0.79967315]\n",
      " [  0.77143965   0.98472898   0.76108732   0.78312014]\n",
      " [  0.78683626   0.8351928    0.78740949   0.79046858]\n",
      " [156.2         78.5        272.9        192.3       ]]\n",
      "0.932491087565921\n",
      "[(0, 2457), (1, 2457), (2, 2457), (3, 2457)]\n"
     ]
    },
    {
     "data": {
      "text/plain": [
       "<sklearn.metrics._plot.confusion_matrix.ConfusionMatrixDisplay at 0x27ed4dd2f88>"
      ]
     },
     "execution_count": 44,
     "metadata": {},
     "output_type": "execute_result"
    },
    {
     "data": {
      "image/png": "[encoded data removed]",
      "text/plain": [
       "<Figure size 432x288 with 2 Axes>"
      ]
     },
     "metadata": {
      "needs_background": "light"
     },
     "output_type": "display_data"
    }
   ],
   "source": [
    "rf_model = RandomForestClassifier(n_estimators=100, max_depth=100, min_samples_split=10, n_jobs=-1, verbose=0)\n",
    "\n",
    "accs = []\n",
    "reports = []\n",
    "f1 = []\n",
    "pr = []\n",
    "re = []\n",
    "pe = []\n",
    "\n",
    "#javed#\n",
    "accuracy_ = []\n",
    "P_r_f = []\n",
    "\n",
    "mean_accuracy= []\n",
    "mean_p_r_f =[]\n",
    "##javed###\n",
    "\n",
    "roc_auc_ = []\n",
    "roc_auc_under = []\n",
    "roc_auc_two = []\n",
    "roc_auc_three = []\n",
    "roc_auc_four_under = []\n",
    "\n",
    "tprs_zero_rf_under = []\n",
    "tprs_one_rf_under = []\n",
    "tprs_two_rf_under = []\n",
    "tprs_three_rf_under = []\n",
    "tprs_four_rf_under = []\n",
    "\n",
    "mean_fpr_rf_under = np.linspace(0,1,100)\n",
    "\n",
    "st_time = time.time()\n",
    "for train_index, test_index in skfold.split(X,y):\n",
    "    X_train, X_test = X[train_index], X[test_index]\n",
    "    y_train, y_test = y[train_index], y[test_index]\n",
    "    # Undersampling\n",
    "    X_train_under, y_train_under = rus.fit_resample(X_train, y_train)\n",
    "    predictions, accuracy, f1socre, precision, recall, alg_accuracy, alg_p_r_f_score = train_test_model(rf_model, X_train_under, X_test, y_train_under, y_test, labels)\n",
    "\n",
    "    #fpr_zero, tpr_zero, _ = roc_curve(y_test, rf_model.predict_proba(X_test)[:,1], pos_label=0)\n",
    "    #fpr_under, tpr_under, __ = roc_curve(y_test, rf_model.predict_proba(X_test)[:,1], pos_label=1)\n",
    "    #fpr_two, tpr_two, ___ = roc_curve(y_test, rf_model.predict_proba(X_test)[:,1], pos_label=2)\n",
    "    #fpr_three, tpr_three, ____ = roc_curve(y_test, rf_model.predict_proba(X_test)[:,1], pos_label=3)\n",
    "    fpr_four_under_rf, tpr_four_under_rf, _____ = roc_curve(y_test, rf_model.predict_proba (X_test)[:,3], pos_label=3)\n",
    "\n",
    "    tprs_four_rf_under.append(interp(mean_fpr_rf_under, fpr_four_under_rf, tpr_four_under_rf))\n",
    "    \n",
    "    #roc_auc_one = (auc(fpr_zero, tpr_zero))\n",
    "    #roc_auc_one = (auc(fpr_one, tpr_one))\n",
    "    #roc_auc_two = (auc(fpr_two, tpr_two))\n",
    "    #roc_auc_three = (auc(fpr_three, tpr_three))\n",
    "    roc_auc_four = (auc(fpr_four_rf, tpr_four_rf))\n",
    "    \n",
    "                             #javed###      \n",
    "    accuracy_.append(alg_accuracy)\n",
    "    P_r_f.append(alg_p_r_f_score)\n",
    "    #### jave ####\n",
    "\n",
    "    pe.append(predictions)\n",
    "    accs.append(accuracy)\n",
    "    f1.append(f1socre)\n",
    "    pr.append(precision)\n",
    "    re.append(recall)\n",
    "\n",
    "\n",
    "en_time = time.time()\n",
    "#print('mean predictions: {:.2f} %'.format(sum(pe) / len(pe) ))\n",
    "print('Total time: {:.2f}s'.format(en_time-st_time))   \n",
    "print('mean accuracy: {:.2f} %'.format(np.mean(accs)))\n",
    "print('mean f1 socre: {:.2f} %'.format(np.mean(f1)))\n",
    "print('mean precision: {:.2f} %'.format(np.mean(pr)))\n",
    "print('mean recall: {:.2f} %'.format(np.mean(re)))\n",
    "\n",
    "#roc_zero = sum(roc_auc_) / len(roc_auc_)\n",
    "#print(\"\\nROC across folds for zero: \", roc_zero)\n",
    "\n",
    "#roc_one_under = sum(roc_auc_under) / len(roc_auc_under)\n",
    "#print(\"\\nROC across folds for one: \", roc_one_under)\n",
    "\n",
    "#roc_two = sum(roc_auc_two) / len(roc_auc_two)\n",
    "#print(\"\\nROC across folds for two: \", roc_two)\n",
    "\n",
    "#roc_three = sum(roc_auc_three) / len(roc_auc_three)\n",
    "#print(\"\\nROC across folds for three: \", roc_three)\n",
    "\n",
    "#roc_four_under_rf = sum(roc_auc_four_under) / len(roc_auc_four_under)\n",
    "#print(\"\\nROC across folds for four: \", roc_four_under_rf)\n",
    "\n",
    "mean_tpr_rf_under = np.mean(tprs_four_rf_under, axis=0)\n",
    "mean_auc_rf_under = auc(mean_fpr_rf_under, mean_tpr_rf_under)\n",
    "\n",
    "#### jave ####\n",
    "mean_accuracy= np.mean(accuracy_, axis=0)\n",
    "print(\"the average accuracy of RF is\",mean_accuracy)\n",
    "    \n",
    "mean_p_r_f=np.mean(P_r_f, axis=0)\n",
    "print(\"the presion, recall, f are\", mean_p_r_f)\n",
    "#### jave ####\n",
    "\n",
    "#print(mean_tpr_rf_under)\n",
    "#print(mean_fpr_rf_under)\n",
    "print(mean_auc_rf_under)\n",
    "\n",
    "#print(metrics_report)\n",
    "unique, counts = np.unique(y_train_res, return_counts=True)\n",
    "print(list(zip(unique, counts)))\n",
    "plot_confusion_matrix(rf_model, X_test, y_test, display_labels=labels, xticks_rotation='vertical', cmap=\"BuPu\")"
   ]
  },
  {
   "cell_type": "code",
   "execution_count": 45,
   "metadata": {
    "colab": {
     "base_uri": "https://localhost:8080/",
     "height": 294
    },
    "id": "sPgR3iC6n0HI",
    "outputId": "881ba69c-a0b0-42d1-d5c4-84c0d03a3d2a"
   },
   "outputs": [
    {
     "data": {
      "image/png": "[encoded data removed]",
      "text/plain": [
       "<Figure size 432x288 with 1 Axes>"
      ]
     },
     "metadata": {
      "needs_background": "light"
     },
     "output_type": "display_data"
    }
   ],
   "source": [
    "plt.title('Receiver Operating Characteristic')\n",
    "#plt.plot(fpr_under, tpr_under, 'b', label= \"Under-sampling =\" +str(roc_one_under))\n",
    "#plt.plot(fpr_zero, tpr_zero, 'b', color='green', label= \"ROC for 0 label =\" +str(roc_zero))\n",
    "#plt.plot(fpr_one, tpr_one, 'b', label= \"ROC for 1 label =\" +str(roc_one))\n",
    "#plt.plot(fpr_two, tpr_two, 'b', color='purple',  label= \"ROC for 2 label =\" +str(roc_two))\n",
    "#plt.plot(fpr_three, tpr_three, 'b', color='red',  label= \"ROC for 3 label =\" +str(roc_three))\n",
    "plt.plot(mean_fpr_rf_under, mean_tpr_rf_under, 'b', color='red', label= \"ROC for Under-sampling =\" +str(mean_auc_rf_under),lw=2, alpha=1)\n",
    "plt.legend(loc = 'lower right')\n",
    "#plt.plot([0, 1], [0, 1],'r--')\n",
    "plt.xlim([0, 1])\n",
    "plt.ylim([0, 1.05])\n",
    "plt.ylabel('True Positive Rate')\n",
    "plt.xlabel('False Positive Rate')\n",
    "plt.show()"
   ]
  },
  {
   "cell_type": "markdown",
   "metadata": {
    "id": "wR1M7aa4TkgS"
   },
   "source": [
    "### KNN"
   ]
  },
  {
   "cell_type": "code",
   "execution_count": 46,
   "metadata": {
    "colab": {
     "base_uri": "https://localhost:8080/"
    },
    "id": "jh9kvJ41Ti6E",
    "outputId": "aa68e098-8edb-4ec6-c12d-53969345ac02"
   },
   "outputs": [
    {
     "name": "stdout",
     "output_type": "stream",
     "text": [
      "Start training...done!\n",
      "Start testing...done!\n",
      "Start training...done!\n",
      "Start testing...done!\n",
      "Start training...done!\n",
      "Start testing...done!\n",
      "Start training...done!\n",
      "Start testing...done!\n",
      "Start training...done!\n",
      "Start testing...done!\n",
      "Start training...done!\n",
      "Start testing...done!\n",
      "Start training...done!\n",
      "Start testing...done!\n",
      "Start training...done!\n",
      "Start testing...done!\n",
      "Start training...done!\n",
      "Start testing...done!\n",
      "Start training...done!\n",
      "Start testing...done!\n",
      "Total time: 8.01s\n",
      "mean accuracy: 0.59 %\n",
      "mean f1 socre: 0.62 %\n",
      "mean precision: 0.59 %\n",
      "mean recall: 0.59 %\n",
      "\n",
      "ROC across folds for zero:  0.4285937184812484\n",
      "\n",
      "ROC across folds for one:  0.957721554760283\n",
      "\n",
      "ROC across folds for two:  0.44619574185285715\n",
      "\n",
      "ROC across folds for three:  0.39764149492647016\n",
      "\n",
      "ROC across folds for four:  nan\n",
      "the average accuracy of KNN is 0.5920870631514409\n",
      "the presion, recall, f are [[  0.51456643   0.51475204   0.65635818   0.7151026 ]\n",
      " [  0.67089254   0.93261928   0.51998222   0.49144268]\n",
      " [  0.57992095   0.66300529   0.57440681   0.57791451]\n",
      " [156.2         78.5        272.9        192.3       ]]\n",
      "[(0, 2457), (1, 2457), (2, 2457), (3, 2457)]\n"
     ]
    },
    {
     "data": {
      "text/plain": [
       "<sklearn.metrics._plot.confusion_matrix.ConfusionMatrixDisplay at 0x27ed8cd4288>"
      ]
     },
     "execution_count": 46,
     "metadata": {},
     "output_type": "execute_result"
    },
    {
     "data": {
      "image/png": "[encoded data removed]",
      "text/plain": [
       "<Figure size 432x288 with 2 Axes>"
      ]
     },
     "metadata": {
      "needs_background": "light"
     },
     "output_type": "display_data"
    }
   ],
   "source": [
    "knn_model = KNeighborsClassifier(n_neighbors=3)\n",
    "accs = []\n",
    "reports = []\n",
    "f1 = []\n",
    "pr = []\n",
    "re = []\n",
    "pe = []\n",
    "\n",
    "#javed#\n",
    "accuracy_ = []\n",
    "P_r_f = []\n",
    "\n",
    "mean_accuracy= []\n",
    "mean_p_r_f =[]\n",
    "##javed###\n",
    "roc_auc_ = []\n",
    "roc_auc_one = []\n",
    "roc_auc_two = []\n",
    "roc_auc_three = []\n",
    "roc_auc_four = []\n",
    "st_time = time.time()\n",
    "for train_index, test_index in skfold.split(X,y):\n",
    "    X_train, X_test = X[train_index], X[test_index]\n",
    "    y_train, y_test = y[train_index], y[test_index]\n",
    "    # Undersampling\n",
    "    X_train_under, y_train_under = rus.fit_resample(X_train, y_train)\n",
    "    predictions, accuracy, f1socre, precision, recall, alg_accuracy, alg_p_r_f_score = train_test_model(knn_model, X_train_under, X_test, y_train_under, y_test, labels)\n",
    "\n",
    "    fpr_zero, tpr_zero, _ = roc_curve(y_test, knn_model.predict_proba(X_test)[:,1], pos_label=0)\n",
    "    fpr_one, tpr_one, __ = roc_curve(y_test, knn_model.predict_proba(X_test)[:,1], pos_label=1)\n",
    "    fpr_two, tpr_two, ___ = roc_curve(y_test, knn_model.predict_proba(X_test)[:,1], pos_label=2)\n",
    "    fpr_three, tpr_three, ____ = roc_curve(y_test, knn_model.predict_proba(X_test)[:,1], pos_label=3)\n",
    "    fpr_four, tpr_four, _____ = roc_curve(y_test, knn_model.predict_proba (X_test)[:,1], pos_label=4)\n",
    "\n",
    "    roc_auc_.append(auc(fpr_zero, tpr_zero))\n",
    "    roc_auc_one.append(auc(fpr_one, tpr_one))\n",
    "    roc_auc_two.append(auc(fpr_two, tpr_two))\n",
    "    roc_auc_three.append(auc(fpr_three, tpr_three))\n",
    "    roc_auc_four.append(auc(fpr_four, tpr_four))\n",
    "    \n",
    "    #javed###      \n",
    "    accuracy_.append(alg_accuracy)\n",
    "    P_r_f.append(alg_p_r_f_score)\n",
    "    #### jave ####\n",
    "\n",
    "    pe.append(predictions)\n",
    "    accs.append(accuracy)\n",
    "    f1.append(f1socre)\n",
    "    pr.append(precision)\n",
    "    re.append(recall)\n",
    "\n",
    "\n",
    "en_time = time.time()\n",
    "#print('mean predictions: {:.2f} %'.format(sum(pe) / len(pe) ))\n",
    "print('Total time: {:.2f}s'.format(en_time-st_time))   \n",
    "print('mean accuracy: {:.2f} %'.format(np.mean(accs)))\n",
    "print('mean f1 socre: {:.2f} %'.format(np.mean(f1)))\n",
    "print('mean precision: {:.2f} %'.format(np.mean(pr)))\n",
    "print('mean recall: {:.2f} %'.format(np.mean(re)))\n",
    "\n",
    "roc_zero = sum(roc_auc_) / len(roc_auc_)\n",
    "print(\"\\nROC across folds for zero: \", roc_zero)\n",
    "\n",
    "roc_one = sum(roc_auc_one) / len(roc_auc_one)\n",
    "print(\"\\nROC across folds for one: \", roc_one)\n",
    "\n",
    "roc_two = sum(roc_auc_two) / len(roc_auc_two)\n",
    "print(\"\\nROC across folds for two: \", roc_two)\n",
    "\n",
    "roc_three = sum(roc_auc_three) / len(roc_auc_three)\n",
    "print(\"\\nROC across folds for three: \", roc_three)\n",
    "\n",
    "roc_four = sum(roc_auc_four) / len(roc_auc_four)\n",
    "print(\"\\nROC across folds for four: \", roc_four)\n",
    "\n",
    "#### jave ####\n",
    "mean_accuracy= np.mean(accuracy_, axis=0)\n",
    "print(\"the average accuracy of KNN is\",mean_accuracy)\n",
    "    \n",
    "mean_p_r_f=np.mean(P_r_f, axis=0)\n",
    "print(\"the presion, recall, f are\", mean_p_r_f)\n",
    "#### jave ####\n",
    "\n",
    "#print(fpr_zero)\n",
    "#print(tpr_zero)\n",
    "\n",
    "#print(metrics_report)\n",
    "unique, counts = np.unique(y_train_res, return_counts=True)\n",
    "print(list(zip(unique, counts)))\n",
    "plot_confusion_matrix(knn_model, X_test, y_test, display_labels=labels, xticks_rotation='vertical', cmap=\"BuPu\")"
   ]
  },
  {
   "cell_type": "code",
   "execution_count": 47,
   "metadata": {
    "id": "HIkxaFWfoBNK"
   },
   "outputs": [
    {
     "data": {
      "image/png": "[encoded data removed]",
      "text/plain": [
       "<Figure size 432x288 with 1 Axes>"
      ]
     },
     "metadata": {
      "needs_background": "light"
     },
     "output_type": "display_data"
    }
   ],
   "source": [
    "plt.title('Receiver Operating Characteristic')\n",
    "plt.plot(fpr_zero, tpr_zero, 'b', color='green', label= \"ROC for 0 label =\" +str(roc_zero))\n",
    "plt.plot(fpr_one, tpr_one, 'b', label= \"ROC for 1 label =\" +str(roc_one))\n",
    "plt.plot(fpr_two, tpr_two, 'b', color='purple',  label= \"ROC for 2 label =\" +str(roc_two))\n",
    "plt.plot(fpr_three, tpr_three, 'b', color='red',  label= \"ROC for 3 label =\" +str(roc_three))\n",
    "plt.plot(fpr_four, tpr_four, 'b', color='yellow', label= \"ROC for 4 label =\" +str(roc_four))\n",
    "plt.legend(loc = 'lower right')\n",
    "#plt.plot([0, 1], [0, 1],'r--')\n",
    "plt.xlim([0, 1])\n",
    "plt.ylim([0, 1.05])\n",
    "plt.ylabel('True Positive Rate')\n",
    "plt.xlabel('False Positive Rate')\n",
    "plt.show()"
   ]
  },
  {
   "cell_type": "markdown",
   "metadata": {
    "id": "nTwRPZZ9JGR6"
   },
   "source": [
    "### MLPClassifier"
   ]
  },
  {
   "cell_type": "code",
   "execution_count": 48,
   "metadata": {
    "colab": {
     "base_uri": "https://localhost:8080/"
    },
    "id": "2-dA6xF_ICQd",
    "outputId": "37722df2-962c-4721-d50e-a9eaf0d8691b",
    "scrolled": true
   },
   "outputs": [
    {
     "name": "stdout",
     "output_type": "stream",
     "text": [
      "Start training...done!\n",
      "Start testing...done!\n",
      "Start training...done!\n",
      "Start testing...done!\n",
      "Start training...done!\n",
      "Start testing...done!\n",
      "Start training...done!\n",
      "Start testing...done!\n",
      "Start training...done!\n",
      "Start testing...done!\n",
      "Start training...done!\n",
      "Start testing...done!\n",
      "Start training...done!\n",
      "Start testing...done!\n",
      "Start training...done!\n",
      "Start testing...done!\n",
      "Start training...done!\n",
      "Start testing...done!\n",
      "Start training...done!\n",
      "Start testing...done!\n",
      "Total time: 866.55s\n",
      "mean accuracy: 0.84 %\n",
      "mean f1 socre: 0.84 %\n",
      "mean precision: 0.84 %\n",
      "mean recall: 0.84 %\n",
      "the average accuracy of MLP is 0.8363966891477622\n",
      "the presion, recall, f are [[  0.81294792   0.79011652   0.87107515   0.83785022]\n",
      " [  0.85786788   1.           0.78561867   0.82419581]\n",
      " [  0.83458373   0.88241937   0.82598983   0.83075982]\n",
      " [156.2         78.5        272.9        192.3       ]]\n",
      "0.9458054182869942\n",
      "[(0, 2457), (1, 2457), (2, 2457), (3, 2457)]\n"
     ]
    },
    {
     "data": {
      "text/plain": [
       "<sklearn.metrics._plot.confusion_matrix.ConfusionMatrixDisplay at 0x27ed8d929c8>"
      ]
     },
     "execution_count": 48,
     "metadata": {},
     "output_type": "execute_result"
    },
    {
     "data": {
      "image/png": "[encoded data removed]",
      "text/plain": [
       "<Figure size 432x288 with 2 Axes>"
      ]
     },
     "metadata": {
      "needs_background": "light"
     },
     "output_type": "display_data"
    }
   ],
   "source": [
    "mlp_model = MLPClassifier(random_state=1, max_iter=300)\n",
    "accs = []\n",
    "reports = []\n",
    "f1 = []\n",
    "pr = []\n",
    "re = []\n",
    "pe = []\n",
    "\n",
    "#javed#\n",
    "accuracy_ = []\n",
    "P_r_f = []\n",
    "\n",
    "mean_accuracy= []\n",
    "mean_p_r_f =[]\n",
    "##javed###\n",
    "roc_auc_ = []\n",
    "roc_auc_one_under = []\n",
    "roc_auc_two = []\n",
    "roc_auc_three = []\n",
    "roc_auc_four_mlp = []\n",
    "\n",
    "tprs_zero_mlp_under = []\n",
    "tprs_one_mlp_under = []\n",
    "tprs_two_mlp_under = []\n",
    "tprs_three_mlp_under = []\n",
    "tprs_four_mlp_under = []\n",
    "\n",
    "mean_fpr_mlp_under = np.linspace(0,1,100)\n",
    "\n",
    "st_time = time.time()\n",
    "for train_index, test_index in skfold.split(X,y):\n",
    "    X_train, X_test = X[train_index], X[test_index]\n",
    "    y_train, y_test = y[train_index], y[test_index]\n",
    "    # Undersampling\n",
    "    #X_train_under, y_train_under = rus.fit_sample(X_train, y_train)\n",
    "    predictions, accuracy, f1socre, precision, recall, alg_accuracy, alg_p_r_f_score = train_test_model(mlp_model, X_train_under, X_test, y_train_under, y_test, labels)\n",
    "\n",
    "    #fpr_zero, tpr_zero, _ = roc_curve(y_test, mlp_model.predict_proba(X_test)[:,1], pos_label=0)\n",
    "    #fpr_one_under, tpr_one_under, __ = roc_curve(y_test, mlp_model.predict_proba(X_test)[:,1], pos_label=1)\n",
    "    #fpr_two, tpr_two, ___ = roc_curve(y_test, mlp_model.predict_proba(X_test)[:,1], pos_label=2)\n",
    "    #fpr_three, tpr_three, ____ = roc_curve(y_test, mlp_model.predict_proba(X_test)[:,1], pos_label=3)\n",
    "    fpr_four_mlp_under, tpr_four_mlp_under, _____ = roc_curve(y_test, mlp_model.predict_proba (X_test)[:,3], pos_label=3)\n",
    "\n",
    "    tprs_four_mlp_under.append(interp(mean_fpr_mlp_under, fpr_four_mlp_under, tpr_four_mlp_under))\n",
    "    \n",
    "        #javed###      \n",
    "    accuracy_.append(alg_accuracy)\n",
    "    P_r_f.append(alg_p_r_f_score)\n",
    "    #### jave ####\n",
    "    \n",
    "    #roc_auc_one = (auc(fpr_zero, tpr_zero))\n",
    "    #roc_auc_one = (auc(fpr_one, tpr_one))\n",
    "    #roc_auc_two = (auc(fpr_two, tpr_two))\n",
    "    #roc_auc_three = (auc(fpr_three, tpr_three))\n",
    "    #roc_auc_four = (auc(fpr_four_mlp_under, tpr_four_mlp_under))\n",
    "\n",
    "    pe.append(predictions)\n",
    "    accs.append(accuracy)\n",
    "    f1.append(f1socre)\n",
    "    pr.append(precision)\n",
    "    re.append(recall)\n",
    "\n",
    "\n",
    "en_time = time.time()\n",
    "#print('mean predictions: {:.2f} %'.format(sum(pe) / len(pe) ))\n",
    "print('Total time: {:.2f}s'.format(en_time-st_time))   \n",
    "print('mean accuracy: {:.2f} %'.format(np.mean(accs)))\n",
    "print('mean f1 socre: {:.2f} %'.format(np.mean(f1)))\n",
    "print('mean precision: {:.2f} %'.format(np.mean(pr)))\n",
    "print('mean recall: {:.2f} %'.format(np.mean(re)))\n",
    "\n",
    "#roc_zero = sum(roc_auc_) / len(roc_auc_)\n",
    "#print(\"\\nROC across folds for zero: \", roc_zero)\n",
    "\n",
    "#roc_mlp_under = sum(roc_auc_one_under) / len(roc_auc_one_under)\n",
    "#print(\"\\nROC across folds for one: \", roc_mlp_under)\n",
    "\n",
    "#roc_two = sum(roc_auc_two) / len(roc_auc_two)\n",
    "#print(\"\\nROC across folds for two: \", roc_two)\n",
    "\n",
    "#roc_three = sum(roc_auc_three) / len(roc_auc_three)\n",
    "#print(\"\\nROC across folds for three: \", roc_three)\n",
    "\n",
    "#roc_mlp_under_four = sum(roc_auc_four_mlp) / len(roc_auc_four_mlp)\n",
    "#print(\"\\nROC across folds for four: \", roc_mlp_under_four)\n",
    "\n",
    "mean_tpr_mlp_under = np.mean(tprs_four_mlp_under, axis=0)\n",
    "mean_auc_mlp_under = auc(mean_fpr_mlp_under, mean_tpr_mlp_under)\n",
    "\n",
    "#### jave ####\n",
    "mean_accuracy= np.mean(accuracy_, axis=0)\n",
    "print(\"the average accuracy of MLP is\",mean_accuracy)\n",
    "    \n",
    "mean_p_r_f=np.mean(P_r_f, axis=0)\n",
    "print(\"the presion, recall, f are\", mean_p_r_f)\n",
    "#### jave ####\n",
    "\n",
    "#print(mean_tpr_mlp_under)\n",
    "#print(mean_fpr_mlp_under)\n",
    "print(mean_auc_mlp_under)\n",
    "\n",
    "#print(metrics_report)\n",
    "unique, counts = np.unique(y_train_res, return_counts=True)\n",
    "print(list(zip(unique, counts)))\n",
    "plot_confusion_matrix(mlp_model, X_test, y_test, display_labels=labels, xticks_rotation='vertical', cmap=\"BuPu\")"
   ]
  },
  {
   "cell_type": "code",
   "execution_count": 49,
   "metadata": {
    "colab": {
     "base_uri": "https://localhost:8080/",
     "height": 294
    },
    "id": "IlCoqhVVoOVv",
    "outputId": "531efdf2-432e-4256-a786-60e32981b4e2"
   },
   "outputs": [
    {
     "data": {
      "image/png": "[encoded data removed]",
      "text/plain": [
       "<Figure size 432x288 with 1 Axes>"
      ]
     },
     "metadata": {
      "needs_background": "light"
     },
     "output_type": "display_data"
    }
   ],
   "source": [
    "plt.title('Receiver Operating Characteristic')\n",
    "#plt.plot(fpr_one_under, tpr_one_under, 'b', label= \"Under-sampling =\" +str(roc_mlp_under))\n",
    "#plt.plot(fpr_zero, tpr_zero, 'b', color='green', label= \"ROC for 0 label =\" +str(roc_zero))\n",
    "#plt.plot(fpr_one, tpr_one, 'b', label= \"ROC for 1 label =\" +str(roc_one))\n",
    "#plt.plot(fpr_two, tpr_two, 'b', color='purple',  label= \"ROC for 2 label =\" +str(roc_two))\n",
    "#plt.plot(fpr_three, tpr_three, 'b', color='red',  label= \"ROC for 3 label =\" +str(roc_three))\n",
    "plt.plot(mean_fpr_mlp_under, mean_tpr_mlp_under, 'b', color='red', label= \"ROC for Under-sampling (MLP) =\" +str(mean_auc_mlp_under))\n",
    "plt.legend(loc = 'lower right')\n",
    "#plt.plot([0, 1], [0, 1],'r--')\n",
    "plt.xlim([0, 1])\n",
    "plt.ylim([0, 1.05])\n",
    "plt.ylabel('True Positive Rate')\n",
    "plt.xlabel('False Positive Rate')\n",
    "plt.show()"
   ]
  },
  {
   "cell_type": "markdown",
   "metadata": {
    "id": "mEDran8Vmb74"
   },
   "source": [
    "### Gradient Boosting Classifier"
   ]
  },
  {
   "cell_type": "code",
   "execution_count": 50,
   "metadata": {
    "colab": {
     "base_uri": "https://localhost:8080/"
    },
    "id": "R_XU_U04mcdk",
    "outputId": "0795f721-a50e-4bee-810b-a69e2a34ac6a"
   },
   "outputs": [
    {
     "name": "stdout",
     "output_type": "stream",
     "text": [
      "Start training...done!\n",
      "Start testing...done!\n",
      "Start training...done!\n",
      "Start testing...done!\n",
      "Start training...done!\n",
      "Start testing...done!\n",
      "Start training...done!\n",
      "Start testing...done!\n",
      "Start training...done!\n",
      "Start testing...done!\n",
      "Start training...done!\n",
      "Start testing...done!\n",
      "Start training...done!\n",
      "Start testing...done!\n",
      "Start training...done!\n",
      "Start testing...done!\n",
      "Start training...done!\n",
      "Start testing...done!\n",
      "Start training...done!\n",
      "Start testing...done!\n",
      "Total time: 56.64s\n",
      "mean accuracy: 0.75 %\n",
      "mean f1 socre: 0.75 %\n",
      "mean precision: 0.75 %\n",
      "mean recall: 0.75 %\n",
      "\n",
      "ROC across folds for zero:  0.3164756310544753\n",
      "\n",
      "ROC across folds for one:  0.962245697590037\n",
      "\n",
      "ROC across folds for two:  0.5450220252035239\n",
      "\n",
      "ROC across folds for three:  0.3749258142434158\n",
      "\n",
      "ROC across folds for four:  nan\n",
      "the average accuracy of GBC is 0.7473879010831801\n",
      "the presion, recall, f are [[  0.77501315   0.67578017   0.72752104   0.80653895]\n",
      " [  0.74714192   0.90451152   0.74861829   0.68173035]\n",
      " [  0.76047064   0.77315001   0.73755136   0.73814513]\n",
      " [156.2         78.5        272.9        192.3       ]]\n",
      "[(0, 2457), (1, 2457), (2, 2457), (3, 2457)]\n"
     ]
    },
    {
     "data": {
      "text/plain": [
       "<sklearn.metrics._plot.confusion_matrix.ConfusionMatrixDisplay at 0x27ed4c04f88>"
      ]
     },
     "execution_count": 50,
     "metadata": {},
     "output_type": "execute_result"
    },
    {
     "data": {
      "image/png": "[encoded data removed]",
      "text/plain": [
       "<Figure size 432x288 with 2 Axes>"
      ]
     },
     "metadata": {
      "needs_background": "light"
     },
     "output_type": "display_data"
    }
   ],
   "source": [
    "gb_model = GradientBoostingClassifier(n_estimators=100, learning_rate=1.0, max_depth=1, random_state=0)\n",
    "\n",
    "accs = []\n",
    "reports = []\n",
    "f1 = []\n",
    "pr = []\n",
    "re = []\n",
    "pe = []\n",
    "\n",
    "#javed#\n",
    "accuracy_ = []\n",
    "P_r_f = []\n",
    "\n",
    "mean_accuracy= []\n",
    "mean_p_r_f =[]\n",
    "##javed###\n",
    "\n",
    "roc_auc_ = []\n",
    "roc_auc_one = []\n",
    "roc_auc_two = []\n",
    "roc_auc_three = []\n",
    "roc_auc_four = []\n",
    "st_time = time.time()\n",
    "for train_index, test_index in skfold.split(X,y):\n",
    "    X_train, X_test = X[train_index], X[test_index]\n",
    "    y_train, y_test = y[train_index], y[test_index]\n",
    "    # Undersampling\n",
    "    #X_train_under, y_train_under = rus.fit_sample(X_train, y_train)\n",
    "    predictions, accuracy, f1socre, precision, recall, alg_accuracy, alg_p_r_f_score = train_test_model(gb_model, X_train_under, X_test, y_train_under, y_test, labels)\n",
    "\n",
    "    fpr_zero, tpr_zero, _ = roc_curve(y_test, gb_model.predict_proba(X_test)[:,1], pos_label=0)\n",
    "    fpr_one, tpr_one, __ = roc_curve(y_test, gb_model.predict_proba(X_test)[:,1], pos_label=1)\n",
    "    fpr_two, tpr_two, ___ = roc_curve(y_test, gb_model.predict_proba(X_test)[:,1], pos_label=2)\n",
    "    fpr_three, tpr_three, ____ = roc_curve(y_test, gb_model.predict_proba(X_test)[:,1], pos_label=3)\n",
    "    fpr_four, tpr_four, _____ = roc_curve(y_test, gb_model.predict_proba (X_test)[:,1], pos_label=4)\n",
    "\n",
    "    roc_auc_.append(auc(fpr_zero, tpr_zero))\n",
    "    roc_auc_one.append(auc(fpr_one, tpr_one))\n",
    "    roc_auc_two.append(auc(fpr_two, tpr_two))\n",
    "    roc_auc_three.append(auc(fpr_three, tpr_three))\n",
    "    roc_auc_four.append(auc(fpr_four, tpr_four))\n",
    "    \n",
    "            #javed###      \n",
    "    accuracy_.append(alg_accuracy)\n",
    "    P_r_f.append(alg_p_r_f_score)\n",
    "    #### jave ####\n",
    "\n",
    "    pe.append(predictions)\n",
    "    accs.append(accuracy)\n",
    "    f1.append(f1socre)\n",
    "    pr.append(precision)\n",
    "    re.append(recall)\n",
    "\n",
    "\n",
    "en_time = time.time()\n",
    "#print('mean predictions: {:.2f} %'.format(sum(pe) / len(pe) ))\n",
    "print('Total time: {:.2f}s'.format(en_time-st_time))   \n",
    "print('mean accuracy: {:.2f} %'.format(np.mean(accs)))\n",
    "print('mean f1 socre: {:.2f} %'.format(np.mean(f1)))\n",
    "print('mean precision: {:.2f} %'.format(np.mean(pr)))\n",
    "print('mean recall: {:.2f} %'.format(np.mean(re)))\n",
    "\n",
    "roc_zero = sum(roc_auc_) / len(roc_auc_)\n",
    "print(\"\\nROC across folds for zero: \", roc_zero)\n",
    "\n",
    "roc_one = sum(roc_auc_one) / len(roc_auc_one)\n",
    "print(\"\\nROC across folds for one: \", roc_one)\n",
    "\n",
    "roc_two = sum(roc_auc_two) / len(roc_auc_two)\n",
    "print(\"\\nROC across folds for two: \", roc_two)\n",
    "\n",
    "roc_three = sum(roc_auc_three) / len(roc_auc_three)\n",
    "print(\"\\nROC across folds for three: \", roc_three)\n",
    "\n",
    "roc_four = sum(roc_auc_four) / len(roc_auc_four)\n",
    "print(\"\\nROC across folds for four: \", roc_four)\n",
    "\n",
    "#### jave ####\n",
    "mean_accuracy= np.mean(accuracy_, axis=0)\n",
    "print(\"the average accuracy of GBC is\",mean_accuracy)\n",
    "    \n",
    "mean_p_r_f=np.mean(P_r_f, axis=0)\n",
    "print(\"the presion, recall, f are\", mean_p_r_f)\n",
    "#### jave ####\n",
    "\n",
    "#print(fpr_zero)\n",
    "#print(tpr_zero)\n",
    "\n",
    "#print(metrics_report)\n",
    "unique, counts = np.unique(y_train_res, return_counts=True)\n",
    "print(list(zip(unique, counts)))\n",
    "plot_confusion_matrix(gb_model, X_test, y_test, display_labels=labels, xticks_rotation='vertical', cmap=\"BuPu\")"
   ]
  },
  {
   "cell_type": "code",
   "execution_count": 51,
   "metadata": {
    "colab": {
     "base_uri": "https://localhost:8080/",
     "height": 295
    },
    "id": "UWUZ07PHqV_O",
    "outputId": "dff2a2b5-4299-44cd-87b0-e3eacff671a3"
   },
   "outputs": [
    {
     "data": {
      "image/png": "[encoded data removed]",
      "text/plain": [
       "<Figure size 432x288 with 1 Axes>"
      ]
     },
     "metadata": {
      "needs_background": "light"
     },
     "output_type": "display_data"
    }
   ],
   "source": [
    "plt.title('Receiver Operating Characteristic')\n",
    "plt.plot(fpr_zero, tpr_zero, 'b', color='green', label= \"ROC for 0 label =\" +str(roc_zero))\n",
    "plt.plot(fpr_one, tpr_one, 'b', label= \"ROC for 1 label =\" +str(roc_one))\n",
    "plt.plot(fpr_two, tpr_two, 'b', color='purple',  label= \"ROC for 2 label =\" +str(roc_two))\n",
    "#plt.plot(fpr_three, tpr_three, 'b', color='red',  label= \"ROC for 3 label =\" +str(roc_three))\n",
    "#plt.plot(fpr_four, tpr_four, 'b', color='yellow', label= \"ROC for 4 label =\" +str(roc_four))\n",
    "plt.legend(loc = 'lower right')\n",
    "#plt.plot([0, 1], [0, 1],'r--')\n",
    "plt.xlim([0, 1])\n",
    "plt.ylim([0, 1.05])\n",
    "plt.ylabel('True Positive Rate')\n",
    "plt.xlabel('False Positive Rate')\n",
    "plt.show()"
   ]
  },
  {
   "cell_type": "markdown",
   "metadata": {
    "id": "RiaIBYcFtQeE"
   },
   "source": [
    "## Ensemble Methods\n",
    "Ensemble methods are techniques that create multiple models and then combine them to produce improved results."
   ]
  },
  {
   "cell_type": "markdown",
   "metadata": {
    "id": "JKj_49XOsr93"
   },
   "source": [
    "### Voting Classifier"
   ]
  },
  {
   "cell_type": "code",
   "execution_count": 52,
   "metadata": {
    "colab": {
     "base_uri": "https://localhost:8080/"
    },
    "id": "ufhDnZzXssW8",
    "outputId": "b068deb2-b8e5-4657-c6cc-1d58d33379f2"
   },
   "outputs": [
    {
     "name": "stdout",
     "output_type": "stream",
     "text": [
      "Start training...done!\n",
      "Start testing...done!\n",
      "Start training...done!\n",
      "Start testing...done!\n",
      "Start training...done!\n",
      "Start testing...done!\n",
      "Start training...done!\n",
      "Start testing...done!\n",
      "Start training...done!\n",
      "Start testing...done!\n",
      "Start training...done!\n",
      "Start testing...done!\n",
      "Start training...done!\n",
      "Start testing...done!\n",
      "Start training...done!\n",
      "Start testing...done!\n",
      "Start training...done!\n",
      "Start testing...done!\n",
      "Start training...done!\n",
      "Start testing...done!\n",
      "Total time: 24.69s\n",
      "mean accuracy: 0.83 %\n",
      "mean f1 socre: 0.83 %\n",
      "mean precision: 0.83 %\n",
      "mean recall: 0.83 %\n",
      "the average accuracy of Voting Classifier is 0.8266807684447169\n",
      "the presion, recall, f are [[  0.78876018   0.74643371   0.87865263   0.84142053]\n",
      " [  0.83734281   0.99745213   0.77351864   0.82368307]\n",
      " [  0.8119987    0.85311098   0.8225064    0.83209135]\n",
      " [156.2         78.5        272.9        192.3       ]]\n",
      "[(0, 706), (1, 706), (2, 706), (3, 706)]\n"
     ]
    },
    {
     "data": {
      "text/plain": [
       "<sklearn.metrics._plot.confusion_matrix.ConfusionMatrixDisplay at 0x27ed85a5848>"
      ]
     },
     "execution_count": 52,
     "metadata": {},
     "output_type": "execute_result"
    },
    {
     "data": {
      "image/png": "[encoded data removed]",
      "text/plain": [
       "<Figure size 432x288 with 2 Axes>"
      ]
     },
     "metadata": {
      "needs_background": "light"
     },
     "output_type": "display_data"
    }
   ],
   "source": [
    "nb_model = MultinomialNB()\n",
    "rf_model = RandomForestClassifier(n_estimators=100, max_depth=100, min_samples_split=10, n_jobs=-1, verbose=0)\n",
    "log_model = LogisticRegression(penalty='l2', max_iter=500)\n",
    "\n",
    "vote_model = VotingClassifier(estimators=[('nb', nb_model), ('rf', rf_model), ('log', log_model)], voting='hard')\n",
    "\n",
    "accs = []\n",
    "reports = []\n",
    "f1 = []\n",
    "pr = []\n",
    "re =[]\n",
    "#javed#\n",
    "accuracy_ = []\n",
    "P_r_f = []\n",
    "\n",
    "mean_accuracy= []\n",
    "mean_p_r_f =[]\n",
    "##javed###\n",
    "\n",
    "st_time = time.time()\n",
    "\n",
    "for train_index, test_index in skfold.split(X,y):\n",
    "    X_train, X_test = X[train_index], X[test_index]\n",
    "    y_train, y_test = y[train_index], y[test_index]\n",
    "    # Undersampling\n",
    "    #X_train_under, y_train_under = rus.fit_sample(X_train, y_train)\n",
    "    predictions, accuracy, f1socre, precision, recall, alg_accuracy, alg_p_r_f_score = train_test_model(vote_model, X_train_under, X_test, y_train_under, y_test, labels)\n",
    "    accs.append(accuracy)\n",
    "    f1.append(f1socre)\n",
    "    pr.append(precision)\n",
    "    re.append(recall)\n",
    "    #reports.append(metrics_report)\n",
    "    \n",
    "                #javed###      \n",
    "    accuracy_.append(alg_accuracy)\n",
    "    P_r_f.append(alg_p_r_f_score)\n",
    "    #### jave ####\n",
    "    \n",
    "en_time = time.time()\n",
    "print('Total time: {:.2f}s'.format(en_time-st_time))   \n",
    "print('mean accuracy: {:.2f} %'.format(np.mean(accs)))\n",
    "print('mean f1 socre: {:.2f} %'.format(np.mean(f1)))\n",
    "print('mean precision: {:.2f} %'.format(np.mean(pr)))\n",
    "print('mean recall: {:.2f} %'.format(np.mean(re)))\n",
    "\n",
    "\n",
    "#### jave ####\n",
    "mean_accuracy= np.mean(accuracy_, axis=0)\n",
    "print(\"the average accuracy of Voting Classifier is\",mean_accuracy)\n",
    "    \n",
    "mean_p_r_f=np.mean(P_r_f, axis=0)\n",
    "print(\"the presion, recall, f are\", mean_p_r_f)\n",
    "#### jave ####\n",
    "\n",
    "\n",
    "unique, counts = np.unique(y_train_under, return_counts=True)\n",
    "print(list(zip(unique, counts)))\n",
    "plot_confusion_matrix(vote_model, X_test, y_test, display_labels=labels, xticks_rotation='vertical', cmap=\"BuPu\")"
   ]
  },
  {
   "cell_type": "markdown",
   "metadata": {
    "id": "Wh-ToB22XO4R"
   },
   "source": [
    "### Ada Boost Classifier\n",
    "The core principle of AdaBoost is to fit a sequence of weak learners (i.e., models that are only slightly better than random guessing, such as small decision trees) on repeatedly modified versions of the data."
   ]
  },
  {
   "cell_type": "code",
   "execution_count": 53,
   "metadata": {
    "colab": {
     "base_uri": "https://localhost:8080/"
    },
    "id": "wdnz-faUXRr6",
    "outputId": "2c964537-a464-436b-b124-15d0008d8056"
   },
   "outputs": [
    {
     "name": "stdout",
     "output_type": "stream",
     "text": [
      "Start training...done!\n",
      "Start testing...done!\n",
      "Start training...done!\n",
      "Start testing...done!\n",
      "Start training...done!\n",
      "Start testing...done!\n",
      "Start training...done!\n",
      "Start testing...done!\n",
      "Start training...done!\n",
      "Start testing...done!\n",
      "Start training...done!\n",
      "Start testing...done!\n",
      "Start training...done!\n",
      "Start testing...done!\n",
      "Start training...done!\n",
      "Start testing...done!\n",
      "Start training...done!\n",
      "Start testing...done!\n",
      "Start training...done!\n",
      "Start testing...done!\n",
      "Total time: 110.44s\n",
      "mean accuracy: 0.59 %\n",
      "mean f1 socre: 0.60 %\n",
      "mean precision: 0.59 %\n",
      "mean recall: 0.59 %\n",
      "the average accuracy of AdaBoost is 0.5907982832618025\n",
      "the presion, recall, f are [[  0.50148781   0.61985329   0.62270617   0.63730728]\n",
      " [  0.63697942   0.8103051    0.53646843   0.54075723]\n",
      " [  0.5608143    0.7021739    0.57590236   0.58433916]\n",
      " [156.2         78.5        272.9        192.3       ]]\n",
      "[(0, 706), (1, 706), (2, 706), (3, 706)]\n"
     ]
    },
    {
     "data": {
      "text/plain": [
       "<sklearn.metrics._plot.confusion_matrix.ConfusionMatrixDisplay at 0x27ed6f65fc8>"
      ]
     },
     "execution_count": 53,
     "metadata": {},
     "output_type": "execute_result"
    },
    {
     "data": {
      "image/png": "[encoded data removed]",
      "text/plain": [
       "<Figure size 432x288 with 2 Axes>"
      ]
     },
     "metadata": {
      "needs_background": "light"
     },
     "output_type": "display_data"
    }
   ],
   "source": [
    "ada_model = AdaBoostClassifier(n_estimators=500)\n",
    "\n",
    "accs = []\n",
    "reports = []\n",
    "f1 = []\n",
    "pr = []\n",
    "re =[]\n",
    "\n",
    "#javed#\n",
    "accuracy_ = []\n",
    "P_r_f = []\n",
    "\n",
    "mean_accuracy= []\n",
    "mean_p_r_f =[]\n",
    "##javed###\n",
    "st_time = time.time()\n",
    "\n",
    "for train_index, test_index in skfold.split(X,y):\n",
    "    X_train, X_test = X[train_index], X[test_index]\n",
    "    y_train, y_test = y[train_index], y[test_index]\n",
    "    # Undersampling\n",
    "    #X_train_under, y_train_under = rus.fit_sample(X_train, y_train)\n",
    "    predictions, accuracy, f1socre, precision, recall, alg_accuracy, alg_p_r_f_score = train_test_model(ada_model, X_train_under, X_test, y_train_under, y_test, labels)\n",
    "    accs.append(accuracy)\n",
    "    f1.append(f1socre)\n",
    "    pr.append(precision)\n",
    "    re.append(recall)\n",
    "    #reports.append(metrics_report)\n",
    "    \n",
    "    #javed###      \n",
    "    accuracy_.append(alg_accuracy)\n",
    "    P_r_f.append(alg_p_r_f_score)\n",
    "    #### jave ####\n",
    "    \n",
    "    \n",
    "en_time = time.time()\n",
    "print('Total time: {:.2f}s'.format(en_time-st_time))   \n",
    "print('mean accuracy: {:.2f} %'.format(np.mean(accs)))\n",
    "print('mean f1 socre: {:.2f} %'.format(np.mean(f1)))\n",
    "print('mean precision: {:.2f} %'.format(np.mean(pr)))\n",
    "print('mean recall: {:.2f} %'.format(np.mean(re)))\n",
    "\n",
    "#### jave ####\n",
    "mean_accuracy= np.mean(accuracy_, axis=0)\n",
    "print(\"the average accuracy of AdaBoost is\",mean_accuracy)\n",
    "    \n",
    "mean_p_r_f=np.mean(P_r_f, axis=0)\n",
    "print(\"the presion, recall, f are\", mean_p_r_f)\n",
    "#### jave ####\n",
    "unique, counts = np.unique(y_train_under, return_counts=True)\n",
    "print(list(zip(unique, counts)))\n",
    "plot_confusion_matrix(ada_model, X_test, y_test, display_labels=labels, xticks_rotation='vertical', cmap=\"BuPu\")"
   ]
  },
  {
   "cell_type": "markdown",
   "metadata": {
    "id": "yl4XdzLDXYBd"
   },
   "source": [
    "# ROC Combine"
   ]
  },
  {
   "cell_type": "markdown",
   "metadata": {
    "id": "_F_JXgjDQj2x"
   },
   "source": [
    "### ROC for Random Forest"
   ]
  },
  {
   "cell_type": "code",
   "execution_count": 54,
   "metadata": {
    "colab": {
     "base_uri": "https://localhost:8080/",
     "height": 294
    },
    "id": "oXOJL33GXa7V",
    "outputId": "a01a487b-dc86-49d0-b320-0b6088bfb011"
   },
   "outputs": [
    {
     "data": {
      "image/png": "[encoded data removed]",
      "text/plain": [
       "<Figure size 432x288 with 1 Axes>"
      ]
     },
     "metadata": {
      "needs_background": "light"
     },
     "output_type": "display_data"
    }
   ],
   "source": [
    "plt.title('Receiver Operating Characteristic')\n",
    "plt.plot(mean_fpr_rf_under, mean_tpr_rf_under, 'b', color='red', label= \"ROC for Under-sampling (RF) =\" +str(mean_auc_rf_under),lw=2, alpha=1)\n",
    "plt.plot(mean_fpr_rf, mean_tpr_rf, 'b', label= \"ROC for Oversampling (RF) =\" +str(mean_auc_rf),lw=2, alpha=1)\n",
    "plt.legend(loc = 'lower right')\n",
    "#plt.plot([0, 1], [0, 1],'r--')\n",
    "plt.xlim([0, 1])\n",
    "plt.ylim([0, 1.05])\n",
    "plt.ylabel('True Positive Rate')\n",
    "plt.xlabel('False Positive Rate')\n",
    "plt.show()"
   ]
  },
  {
   "cell_type": "markdown",
   "metadata": {
    "id": "bcJ9suQErFKa"
   },
   "source": [
    "### ROC for MLP"
   ]
  },
  {
   "cell_type": "code",
   "execution_count": 55,
   "metadata": {
    "colab": {
     "base_uri": "https://localhost:8080/",
     "height": 294
    },
    "id": "3XaseUFLp506",
    "outputId": "d7530dc7-2341-49d1-c588-e291d65f5fd6"
   },
   "outputs": [
    {
     "data": {
      "image/png": "[encoded data removed]",
      "text/plain": [
       "<Figure size 432x288 with 1 Axes>"
      ]
     },
     "metadata": {
      "needs_background": "light"
     },
     "output_type": "display_data"
    }
   ],
   "source": [
    "plt.title('Receiver Operating Characteristic')\n",
    "plt.plot(mean_fpr_mlp_under, mean_tpr_mlp_under, 'b', color='red', label= \"ROC for Under-sampling (MLP) =\" +str(mean_auc_mlp_under))\n",
    "plt.plot(mean_fpr_mlp, mean_tpr_mlp, 'b', label= \"ROC for Oversampling (MLP)=\" +str(mean_auc_mlp),lw=2, alpha=1)\n",
    "plt.legend(loc = 'lower right')\n",
    "#plt.plot([0, 1], [0, 1],'r--')\n",
    "plt.xlim([0, 1])\n",
    "plt.ylim([0, 1.05])\n",
    "plt.ylabel('True Positive Rate')\n",
    "plt.xlabel('False Positive Rate')\n",
    "plt.show()"
   ]
  },
  {
   "cell_type": "markdown",
   "metadata": {
    "id": "11q2hM9BJgps"
   },
   "source": [
    "### ROC for SVM"
   ]
  },
  {
   "cell_type": "code",
   "execution_count": 56,
   "metadata": {
    "colab": {
     "base_uri": "https://localhost:8080/",
     "height": 294
    },
    "id": "vS13MjX0JkJ5",
    "outputId": "643877bb-6393-4824-c14d-102e8fce9190"
   },
   "outputs": [
    {
     "data": {
      "image/png": "[encoded data removed]",
      "text/plain": [
       "<Figure size 432x288 with 1 Axes>"
      ]
     },
     "metadata": {
      "needs_background": "light"
     },
     "output_type": "display_data"
    }
   ],
   "source": [
    "plt.title('Receiver Operating Characteristic')\n",
    "plt.plot(mean_fpr_svm_under, mean_tpr_svm_under, 'b', color='red', label= \"ROC for Under-sampling (SVM) =\" +str(mean_auc_svm_under) ,lw=2, alpha=1)\n",
    "plt.plot(mean_fpr_svm, mean_tpr_svm, 'b', label= \"ROC for Oversamling (SVM) =\" +str(mean_auc_svm),lw=2, alpha=1)\n",
    "plt.legend(loc = 'lower right')\n",
    "#plt.plot([0, 1], [0, 1],'r--')\n",
    "plt.xlim([0, 1])\n",
    "plt.ylim([0, 1.05])\n",
    "plt.ylabel('True Positive Rate')\n",
    "plt.xlabel('False Positive Rate')\n",
    "plt.show()"
   ]
  },
  {
   "cell_type": "code",
   "execution_count": null,
   "metadata": {},
   "outputs": [],
   "source": []
  },
  {
   "cell_type": "code",
   "execution_count": null,
   "metadata": {},
   "outputs": [],
   "source": []
  },
  {
   "cell_type": "code",
   "execution_count": null,
   "metadata": {},
   "outputs": [],
   "source": []
  },
  {
   "cell_type": "code",
   "execution_count": null,
   "metadata": {},
   "outputs": [],
   "source": []
  }
 ],
 "metadata": {
  "colab": {
   "collapsed_sections": [
    "cVmU1Znotx5m",
    "__0fkhFpt61L",
    "njjRI8Kbt-5s",
    "2BZPQ1h1uFnK",
    "osRNFWZ1mjlL",
    "WhhV7AyYuIIG",
    "y8neizT-G8iK",
    "hIPaa_S8BsY1",
    "dWKvvFE9CTtB",
    "2zGgaD3VHIlg",
    "0GWnHwQPPSn8",
    "yo0jCzfrHUd-",
    "UX2Vi4w1XWOG",
    "bozob2wRs8RR",
    "5WY_At4XqnbL",
    "IO3tiy-3UDKh",
    "8ZZB1SqCCWFT",
    "I9jNvpbfCnBf",
    "_65kL4sCGg7z",
    "wR1M7aa4TkgS",
    "nTwRPZZ9JGR6",
    "mEDran8Vmb74",
    "RiaIBYcFtQeE",
    "JKj_49XOsr93",
    "Wh-ToB22XO4R"
   ],
   "name": "Oversampling and Under-samplimg.ipynb",
   "provenance": []
  },
  "kernelspec": {
   "display_name": "Python 3",
   "language": "python",
   "name": "python3"
  },
  "language_info": {
   "codemirror_mode": {
    "name": "ipython",
    "version": 3
   },
   "file_extension": ".py",
   "mimetype": "text/x-python",
   "name": "python",
   "nbconvert_exporter": "python",
   "pygments_lexer": "ipython3",
   "version": "3.7.4"
  }
 },
 "nbformat": 4,
 "nbformat_minor": 1
}
